{
 "cells": [
  {
   "cell_type": "markdown",
   "metadata": {
    "collapsed": true,
    "deletable": true,
    "editable": true
   },
   "source": [
    "# Image Classification\n",
    "In this project, you'll classify images from the [CIFAR-10 dataset](https://www.cs.toronto.edu/~kriz/cifar.html).  The dataset consists of airplanes, dogs, cats, and other objects. You'll preprocess the images, then train a convolutional neural network on all the samples. The images need to be normalized and the labels need to be one-hot encoded.  You'll get to apply what you learned and build a convolutional, max pooling, dropout, and fully connected layers.  At the end, you'll get to see your neural network's predictions on the sample images.\n",
    "## Get the Data\n",
    "Run the following cell to download the [CIFAR-10 dataset for python](https://www.cs.toronto.edu/~kriz/cifar-10-python.tar.gz)."
   ]
  },
  {
   "cell_type": "code",
   "execution_count": 1,
   "metadata": {
    "collapsed": false,
    "deletable": true,
    "editable": true
   },
   "outputs": [
    {
     "name": "stdout",
     "output_type": "stream",
     "text": [
      "All files found!\n"
     ]
    }
   ],
   "source": [
    "\"\"\"\n",
    "DON'T MODIFY ANYTHING IN THIS CELL THAT IS BELOW THIS LINE\n",
    "\"\"\"\n",
    "from urllib.request import urlretrieve\n",
    "from os.path import isfile, isdir\n",
    "from tqdm import tqdm\n",
    "import problem_unittests as tests\n",
    "import tarfile\n",
    "\n",
    "cifar10_dataset_folder_path = 'cifar-10-batches-py'\n",
    "\n",
    "# Use Floyd's cifar-10 dataset if present\n",
    "floyd_cifar10_location = '/input/cifar-10/python.tar.gz'\n",
    "if isfile(floyd_cifar10_location):\n",
    "    tar_gz_path = floyd_cifar10_location\n",
    "else:\n",
    "    tar_gz_path = 'cifar-10-python.tar.gz'\n",
    "\n",
    "class DLProgress(tqdm):\n",
    "    last_block = 0\n",
    "\n",
    "    def hook(self, block_num=1, block_size=1, total_size=None):\n",
    "        self.total = total_size\n",
    "        self.update((block_num - self.last_block) * block_size)\n",
    "        self.last_block = block_num\n",
    "\n",
    "if not isfile(tar_gz_path):\n",
    "    with DLProgress(unit='B', unit_scale=True, miniters=1, desc='CIFAR-10 Dataset') as pbar:\n",
    "        urlretrieve(\n",
    "            'https://www.cs.toronto.edu/~kriz/cifar-10-python.tar.gz',\n",
    "            tar_gz_path,\n",
    "            pbar.hook)\n",
    "\n",
    "if not isdir(cifar10_dataset_folder_path):\n",
    "    with tarfile.open(tar_gz_path) as tar:\n",
    "        tar.extractall()\n",
    "        tar.close()\n",
    "\n",
    "\n",
    "tests.test_folder_path(cifar10_dataset_folder_path)"
   ]
  },
  {
   "cell_type": "markdown",
   "metadata": {
    "deletable": true,
    "editable": true
   },
   "source": [
    "## Explore the Data\n",
    "The dataset is broken into batches to prevent your machine from running out of memory.  The CIFAR-10 dataset consists of 5 batches, named `data_batch_1`, `data_batch_2`, etc.. Each batch contains the labels and images that are one of the following:\n",
    "* airplane\n",
    "* automobile\n",
    "* bird\n",
    "* cat\n",
    "* deer\n",
    "* dog\n",
    "* frog\n",
    "* horse\n",
    "* ship\n",
    "* truck\n",
    "\n",
    "Understanding a dataset is part of making predictions on the data.  Play around with the code cell below by changing the `batch_id` and `sample_id`. The `batch_id` is the id for a batch (1-5). The `sample_id` is the id for a image and label pair in the batch.\n",
    "\n",
    "Ask yourself \"What are all possible labels?\", \"What is the range of values for the image data?\", \"Are the labels in order or random?\".  Answers to questions like these will help you preprocess the data and end up with better predictions."
   ]
  },
  {
   "cell_type": "code",
   "execution_count": 2,
   "metadata": {
    "collapsed": false,
    "deletable": true,
    "editable": true
   },
   "outputs": [
    {
     "name": "stdout",
     "output_type": "stream",
     "text": [
      "\n",
      "Stats of batch 1:\n",
      "Samples: 10000\n",
      "Label Counts: {0: 1005, 1: 974, 2: 1032, 3: 1016, 4: 999, 5: 937, 6: 1030, 7: 1001, 8: 1025, 9: 981}\n",
      "First 20 Labels: [6, 9, 9, 4, 1, 1, 2, 7, 8, 3, 4, 7, 7, 2, 9, 9, 9, 3, 2, 6]\n",
      "\n",
      "Example of Image 5:\n",
      "Image - Min Value: 0 Max Value: 252\n",
      "Image - Shape: (32, 32, 3)\n",
      "Label - Label Id: 1 Name: automobile\n"
     ]
    },
    {
     "data": {
      "image/png": "[encoded data removed]",
      "text/plain": [
       "<matplotlib.figure.Figure at 0x7f6dfb0c8fd0>"
      ]
     },
     "metadata": {
      "image/png": {
       "height": 250,
       "width": 253
      }
     },
     "output_type": "display_data"
    }
   ],
   "source": [
    "%matplotlib inline\n",
    "%config InlineBackend.figure_format = 'retina'\n",
    "\n",
    "import helper\n",
    "import numpy as np\n",
    "\n",
    "# Explore the dataset\n",
    "batch_id = 1\n",
    "sample_id = 5\n",
    "helper.display_stats(cifar10_dataset_folder_path, batch_id, sample_id)"
   ]
  },
  {
   "cell_type": "markdown",
   "metadata": {
    "deletable": true,
    "editable": true
   },
   "source": [
    "## Implement Preprocess Functions\n",
    "### Normalize\n",
    "In the cell below, implement the `normalize` function to take in image data, `x`, and return it as a normalized Numpy array. The values should be in the range of 0 to 1, inclusive.  The return object should be the same shape as `x`."
   ]
  },
  {
   "cell_type": "code",
   "execution_count": 3,
   "metadata": {
    "collapsed": false,
    "deletable": true,
    "editable": true
   },
   "outputs": [
    {
     "name": "stdout",
     "output_type": "stream",
     "text": [
      "Tests Passed\n"
     ]
    }
   ],
   "source": [
    "def normalize(x):\n",
    "    \"\"\"\n",
    "    Normalize a list of sample image data in the range of 0 to 1\n",
    "    : x: List of image data.  The image shape is (32, 32, 3)\n",
    "    : return: Numpy array of normalize data\n",
    "    \"\"\"\n",
    "    # TODO: Implement Function\n",
    "    return x / 255\n",
    "\n",
    "\n",
    "\"\"\"\n",
    "DON'T MODIFY ANYTHING IN THIS CELL THAT IS BELOW THIS LINE\n",
    "\"\"\"\n",
    "tests.test_normalize(normalize)"
   ]
  },
  {
   "cell_type": "markdown",
   "metadata": {
    "deletable": true,
    "editable": true
   },
   "source": [
    "### One-hot encode\n",
    "Just like the previous code cell, you'll be implementing a function for preprocessing.  This time, you'll implement the `one_hot_encode` function. The input, `x`, are a list of labels.  Implement the function to return the list of labels as One-Hot encoded Numpy array.  The possible values for labels are 0 to 9. The one-hot encoding function should return the same encoding for each value between each call to `one_hot_encode`.  Make sure to save the map of encodings outside the function.\n",
    "\n",
    "Hint: Don't reinvent the wheel."
   ]
  },
  {
   "cell_type": "code",
   "execution_count": 4,
   "metadata": {
    "collapsed": false,
    "deletable": true,
    "editable": true
   },
   "outputs": [
    {
     "name": "stdout",
     "output_type": "stream",
     "text": [
      "Tests Passed\n"
     ]
    }
   ],
   "source": [
    "def one_hot_encode(x):\n",
    "    \"\"\"\n",
    "    One hot encode a list of sample labels. Return a one-hot encoded vector for each label.\n",
    "    : x: List of sample Labels\n",
    "    : return: Numpy array of one-hot encoded labels\n",
    "    \"\"\"\n",
    "    # TODO: Implement Function\n",
    "    arr = np.zeros((len(x), 10))\n",
    "    for i, element in enumerate(x):\n",
    "        arr[i][element] = 1\n",
    "    return arr\n",
    "\n",
    "\n",
    "\"\"\"\n",
    "DON'T MODIFY ANYTHING IN THIS CELL THAT IS BELOW THIS LINE\n",
    "\"\"\"\n",
    "tests.test_one_hot_encode(one_hot_encode)"
   ]
  },
  {
   "cell_type": "markdown",
   "metadata": {
    "deletable": true,
    "editable": true
   },
   "source": [
    "### Randomize Data\n",
    "As you saw from exploring the data above, the order of the samples are randomized.  It doesn't hurt to randomize it again, but you don't need to for this dataset."
   ]
  },
  {
   "cell_type": "markdown",
   "metadata": {
    "deletable": true,
    "editable": true
   },
   "source": [
    "## Preprocess all the data and save it\n",
    "Running the code cell below will preprocess all the CIFAR-10 data and save it to file. The code below also uses 10% of the training data for validation."
   ]
  },
  {
   "cell_type": "code",
   "execution_count": 5,
   "metadata": {
    "collapsed": false,
    "deletable": true,
    "editable": true
   },
   "outputs": [],
   "source": [
    "\"\"\"\n",
    "DON'T MODIFY ANYTHING IN THIS CELL\n",
    "\"\"\"\n",
    "# Preprocess Training, Validation, and Testing Data\n",
    "helper.preprocess_and_save_data(cifar10_dataset_folder_path, normalize, one_hot_encode)"
   ]
  },
  {
   "cell_type": "markdown",
   "metadata": {
    "deletable": true,
    "editable": true
   },
   "source": [
    "# Check Point\n",
    "This is your first checkpoint.  If you ever decide to come back to this notebook or have to restart the notebook, you can start from here.  The preprocessed data has been saved to disk."
   ]
  },
  {
   "cell_type": "code",
   "execution_count": 6,
   "metadata": {
    "collapsed": true,
    "deletable": true,
    "editable": true
   },
   "outputs": [],
   "source": [
    "\"\"\"\n",
    "DON'T MODIFY ANYTHING IN THIS CELL\n",
    "\"\"\"\n",
    "import pickle\n",
    "import problem_unittests as tests\n",
    "import helper\n",
    "\n",
    "# Load the Preprocessed Validation data\n",
    "valid_features, valid_labels = pickle.load(open('preprocess_validation.p', mode='rb'))"
   ]
  },
  {
   "cell_type": "markdown",
   "metadata": {
    "deletable": true,
    "editable": true
   },
   "source": [
    "## Build the network\n",
    "For the neural network, you'll build each layer into a function.  Most of the code you've seen has been outside of functions. To test your code more thoroughly, we require that you put each layer in a function.  This allows us to give you better feedback and test for simple mistakes using our unittests before you submit your project.\n",
    "\n",
    ">**Note:** If you're finding it hard to dedicate enough time for this course each week, we've provided a small shortcut to this part of the project. In the next couple of problems, you'll have the option to use classes from the [TensorFlow Layers](https://www.tensorflow.org/api_docs/python/tf/layers) or [TensorFlow Layers (contrib)](https://www.tensorflow.org/api_guides/python/contrib.layers) packages to build each layer, except the layers you build in the \"Convolutional and Max Pooling Layer\" section.  TF Layers is similar to Keras's and TFLearn's abstraction to layers, so it's easy to pickup.\n",
    "\n",
    ">However, if you would like to get the most out of this course, try to solve all the problems _without_ using anything from the TF Layers packages. You **can** still use classes from other packages that happen to have the same name as ones you find in TF Layers! For example, instead of using the TF Layers version of the `conv2d` class, [tf.layers.conv2d](https://www.tensorflow.org/api_docs/python/tf/layers/conv2d), you would want to use the TF Neural Network version of `conv2d`, [tf.nn.conv2d](https://www.tensorflow.org/api_docs/python/tf/nn/conv2d). \n",
    "\n",
    "Let's begin!\n",
    "\n",
    "### Input\n",
    "The neural network needs to read the image data, one-hot encoded labels, and dropout keep probability. Implement the following functions\n",
    "* Implement `neural_net_image_input`\n",
    " * Return a [TF Placeholder](https://www.tensorflow.org/api_docs/python/tf/placeholder)\n",
    " * Set the shape using `image_shape` with batch size set to `None`.\n",
    " * Name the TensorFlow placeholder \"x\" using the TensorFlow `name` parameter in the [TF Placeholder](https://www.tensorflow.org/api_docs/python/tf/placeholder).\n",
    "* Implement `neural_net_label_input`\n",
    " * Return a [TF Placeholder](https://www.tensorflow.org/api_docs/python/tf/placeholder)\n",
    " * Set the shape using `n_classes` with batch size set to `None`.\n",
    " * Name the TensorFlow placeholder \"y\" using the TensorFlow `name` parameter in the [TF Placeholder](https://www.tensorflow.org/api_docs/python/tf/placeholder).\n",
    "* Implement `neural_net_keep_prob_input`\n",
    " * Return a [TF Placeholder](https://www.tensorflow.org/api_docs/python/tf/placeholder) for dropout keep probability.\n",
    " * Name the TensorFlow placeholder \"keep_prob\" using the TensorFlow `name` parameter in the [TF Placeholder](https://www.tensorflow.org/api_docs/python/tf/placeholder).\n",
    "\n",
    "These names will be used at the end of the project to load your saved model.\n",
    "\n",
    "Note: `None` for shapes in TensorFlow allow for a dynamic size."
   ]
  },
  {
   "cell_type": "code",
   "execution_count": 7,
   "metadata": {
    "collapsed": false,
    "deletable": true,
    "editable": true
   },
   "outputs": [
    {
     "name": "stdout",
     "output_type": "stream",
     "text": [
      "Image Input Tests Passed.\n",
      "Label Input Tests Passed.\n",
      "Keep Prob Tests Passed.\n"
     ]
    }
   ],
   "source": [
    "import tensorflow as tf\n",
    "\n",
    "def neural_net_image_input(image_shape):\n",
    "    \"\"\"\n",
    "    Return a Tensor for a batch of image input\n",
    "    : image_shape: Shape of the images\n",
    "    : return: Tensor for image input.\n",
    "    \"\"\"\n",
    "    # TODO: Implement Function\n",
    "    return tf.placeholder(tf.float32,shape=[None, image_shape[0], image_shape[1], image_shape[2]], name=\"x\")\n",
    "\n",
    "\n",
    "def neural_net_label_input(n_classes):\n",
    "    \"\"\"\n",
    "    Return a Tensor for a batch of label input\n",
    "    : n_classes: Number of classes\n",
    "    : return: Tensor for label input.\n",
    "    \"\"\"\n",
    "    # TODO: Implement Function\n",
    "    return tf.placeholder(tf.float32,shape=[None, n_classes], name=\"y\")\n",
    "\n",
    "\n",
    "def neural_net_keep_prob_input():\n",
    "    \"\"\"\n",
    "    Return a Tensor for keep probability\n",
    "    : return: Tensor for keep probability.\n",
    "    \"\"\"\n",
    "    # TODO: Implement Function\n",
    "    return tf.placeholder(tf.float32, name=\"keep_prob\")\n",
    "\n",
    "\n",
    "\"\"\"\n",
    "DON'T MODIFY ANYTHING IN THIS CELL THAT IS BELOW THIS LINE\n",
    "\"\"\"\n",
    "tf.reset_default_graph()\n",
    "tests.test_nn_image_inputs(neural_net_image_input)\n",
    "tests.test_nn_label_inputs(neural_net_label_input)\n",
    "tests.test_nn_keep_prob_inputs(neural_net_keep_prob_input)"
   ]
  },
  {
   "cell_type": "markdown",
   "metadata": {
    "deletable": true,
    "editable": true
   },
   "source": [
    "### Convolution and Max Pooling Layer\n",
    "Convolution layers have a lot of success with images. For this code cell, you should implement the function `conv2d_maxpool` to apply convolution then max pooling:\n",
    "* Create the weight and bias using `conv_ksize`, `conv_num_outputs` and the shape of `x_tensor`.\n",
    "* Apply a convolution to `x_tensor` using weight and `conv_strides`.\n",
    " * We recommend you use same padding, but you're welcome to use any padding.\n",
    "* Add bias\n",
    "* Add a nonlinear activation to the convolution.\n",
    "* Apply Max Pooling using `pool_ksize` and `pool_strides`.\n",
    " * We recommend you use same padding, but you're welcome to use any padding.\n",
    "\n",
    "**Note:** You **can't** use [TensorFlow Layers](https://www.tensorflow.org/api_docs/python/tf/layers) or [TensorFlow Layers (contrib)](https://www.tensorflow.org/api_guides/python/contrib.layers) for **this** layer, but you can still use TensorFlow's [Neural Network](https://www.tensorflow.org/api_docs/python/tf/nn) package. You may still use the shortcut option for all the **other** layers."
   ]
  },
  {
   "cell_type": "code",
   "execution_count": 8,
   "metadata": {
    "collapsed": false,
    "deletable": true,
    "editable": true
   },
   "outputs": [
    {
     "name": "stdout",
     "output_type": "stream",
     "text": [
      "Tests Passed\n"
     ]
    }
   ],
   "source": [
    "def conv2d_maxpool(x_tensor, conv_num_outputs, conv_ksize, conv_strides, pool_ksize, pool_strides):\n",
    "    \"\"\"\n",
    "    Apply convolution then max pooling to x_tensor\n",
    "    :param x_tensor: TensorFlow Tensor\n",
    "    :param conv_num_outputs: Number of outputs for the convolutional layer\n",
    "    :param conv_ksize: kernal size 2-D Tuple for the convolutional layer\n",
    "    :param conv_strides: Stride 2-D Tuple for convolution\n",
    "    :param pool_ksize: kernal size 2-D Tuple for pool\n",
    "    :param pool_strides: Stride 2-D Tuple for pool\n",
    "    : return: A tensor that represents convolution and max pooling of x_tensor\n",
    "    \"\"\"\n",
    "    # TODO: Implement Function\n",
    "    conv_w = tf.Variable(tf.truncated_normal([conv_ksize[0], conv_ksize[1], x_tensor.get_shape().as_list()[3], conv_num_outputs], stddev=0.04))\n",
    "    conv_b = tf.Variable(tf.zeros((conv_num_outputs)))\n",
    "    #conv_b = tf.Variable(tf.constant(0.1, shape=[conv_num_outputs]))\n",
    "    \n",
    "    x_tensor = tf.nn.conv2d(x_tensor, conv_w, strides=[1, conv_strides[0], conv_strides[1], 1], padding=\"SAME\") \n",
    "    x_tensor = tf.nn.bias_add(x_tensor, conv_b)\n",
    "    x_tensor = tf.nn.relu(x_tensor)\n",
    "    x_tensor = tf.nn.max_pool(x_tensor , ksize=[1, pool_ksize[0], pool_ksize[0], 1], strides=[1, pool_strides[0], pool_strides[1], 1], padding='SAME' )\n",
    "    return x_tensor \n",
    "\n",
    "\n",
    "\"\"\"\n",
    "DON'T MODIFY ANYTHING IN THIS CELL THAT IS BELOW THIS LINE\n",
    "\"\"\"\n",
    "tests.test_con_pool(conv2d_maxpool)"
   ]
  },
  {
   "cell_type": "markdown",
   "metadata": {
    "deletable": true,
    "editable": true
   },
   "source": [
    "### Flatten Layer\n",
    "Implement the `flatten` function to change the dimension of `x_tensor` from a 4-D tensor to a 2-D tensor.  The output should be the shape (*Batch Size*, *Flattened Image Size*). Shortcut option: you can use classes from the [TensorFlow Layers](https://www.tensorflow.org/api_docs/python/tf/layers) or [TensorFlow Layers (contrib)](https://www.tensorflow.org/api_guides/python/contrib.layers) packages for this layer. For more of a challenge, only use other TensorFlow packages."
   ]
  },
  {
   "cell_type": "code",
   "execution_count": 9,
   "metadata": {
    "collapsed": false,
    "deletable": true,
    "editable": true,
    "scrolled": true
   },
   "outputs": [
    {
     "name": "stdout",
     "output_type": "stream",
     "text": [
      "Tests Passed\n"
     ]
    }
   ],
   "source": [
    "def flatten(x_tensor):\n",
    "    \"\"\"\n",
    "    Flatten x_tensor to (Batch Size, Flattened Image Size)\n",
    "    : x_tensor: A tensor of size (Batch Size, ...), where ... are the image dimensions.\n",
    "    : return: A tensor of size (Batch Size, Flattened Image Size).\n",
    "    \"\"\"\n",
    "    # TODO: Implement Function\n",
    "    return  tf.reshape(x_tensor, [-1, np.prod(np.array(x_tensor.get_shape()[1:].as_list()))])\n",
    "\n",
    "\"\"\"\n",
    "DON'T MODIFY ANYTHING IN THIS CELL THAT IS BELOW THIS LINE\n",
    "\"\"\"\n",
    "tests.test_flatten(flatten)"
   ]
  },
  {
   "cell_type": "markdown",
   "metadata": {
    "deletable": true,
    "editable": true
   },
   "source": [
    "### Fully-Connected Layer\n",
    "Implement the `fully_conn` function to apply a fully connected layer to `x_tensor` with the shape (*Batch Size*, *num_outputs*). Shortcut option: you can use classes from the [TensorFlow Layers](https://www.tensorflow.org/api_docs/python/tf/layers) or [TensorFlow Layers (contrib)](https://www.tensorflow.org/api_guides/python/contrib.layers) packages for this layer. For more of a challenge, only use other TensorFlow packages."
   ]
  },
  {
   "cell_type": "code",
   "execution_count": 10,
   "metadata": {
    "collapsed": false,
    "deletable": true,
    "editable": true
   },
   "outputs": [
    {
     "name": "stdout",
     "output_type": "stream",
     "text": [
      "Tests Passed\n"
     ]
    }
   ],
   "source": [
    "def fully_conn(x_tensor, num_outputs):\n",
    "    \"\"\"\n",
    "    Apply a fully connected layer to x_tensor using weight and bias\n",
    "    : x_tensor: A 2-D tensor where the first dimension is batch size.\n",
    "    : num_outputs: The number of output that the new tensor should be.\n",
    "    : return: A 2-D tensor where the second dimension is num_outputs.\n",
    "    \"\"\"\n",
    "    # TODO: Implement Function\n",
    "    \n",
    "    W = tf.Variable(tf.truncated_normal([x_tensor.get_shape().as_list()[1], num_outputs],stddev=0.04))    \n",
    "    B = tf.Variable(tf.zeros((num_outputs)))\n",
    "    return tf.nn.relu(tf.add(tf.matmul(x_tensor , W), B))\n",
    "\n",
    "\n",
    "\"\"\"\n",
    "DON'T MODIFY ANYTHING IN THIS CELL THAT IS BELOW THIS LINE\n",
    "\"\"\"\n",
    "tests.test_fully_conn(fully_conn)"
   ]
  },
  {
   "cell_type": "markdown",
   "metadata": {
    "deletable": true,
    "editable": true
   },
   "source": [
    "### Output Layer\n",
    "Implement the `output` function to apply a fully connected layer to `x_tensor` with the shape (*Batch Size*, *num_outputs*). Shortcut option: you can use classes from the [TensorFlow Layers](https://www.tensorflow.org/api_docs/python/tf/layers) or [TensorFlow Layers (contrib)](https://www.tensorflow.org/api_guides/python/contrib.layers) packages for this layer. For more of a challenge, only use other TensorFlow packages.\n",
    "\n",
    "**Note:** Activation, softmax, or cross entropy should **not** be applied to this."
   ]
  },
  {
   "cell_type": "code",
   "execution_count": 11,
   "metadata": {
    "collapsed": false,
    "deletable": true,
    "editable": true
   },
   "outputs": [
    {
     "name": "stdout",
     "output_type": "stream",
     "text": [
      "Tests Passed\n"
     ]
    }
   ],
   "source": [
    "def output(x_tensor, num_outputs):\n",
    "    \"\"\"\n",
    "    Apply a output layer to x_tensor using weight and bias\n",
    "    : x_tensor: A 2-D tensor where the first dimension is batch size.\n",
    "    : num_outputs: The number of output that the new tensor should be.\n",
    "    : return: A 2-D tensor where the second dimension is num_outputs.\n",
    "    \"\"\"\n",
    "    W = tf.Variable(tf.truncated_normal([x_tensor.get_shape().as_list()[1], num_outputs], stddev=0.04))    \n",
    "    B = tf.Variable(tf.zeros((num_outputs)))\n",
    "    return tf.add(tf.matmul(x_tensor , W), B)\n",
    "\n",
    "\n",
    "\"\"\"\n",
    "DON'T MODIFY ANYTHING IN THIS CELL THAT IS BELOW THIS LINE\n",
    "\"\"\"\n",
    "tests.test_output(output)"
   ]
  },
  {
   "cell_type": "markdown",
   "metadata": {
    "deletable": true,
    "editable": true
   },
   "source": [
    "### Create Convolutional Model\n",
    "Implement the function `conv_net` to create a convolutional neural network model. The function takes in a batch of images, `x`, and outputs logits.  Use the layers you created above to create this model:\n",
    "\n",
    "* Apply 1, 2, or 3 Convolution and Max Pool layers\n",
    "* Apply a Flatten Layer\n",
    "* Apply 1, 2, or 3 Fully Connected Layers\n",
    "* Apply an Output Layer\n",
    "* Return the output\n",
    "* Apply [TensorFlow's Dropout](https://www.tensorflow.org/api_docs/python/tf/nn/dropout) to one or more layers in the model using `keep_prob`. "
   ]
  },
  {
   "cell_type": "code",
   "execution_count": 12,
   "metadata": {
    "collapsed": false,
    "deletable": true,
    "editable": true
   },
   "outputs": [
    {
     "name": "stdout",
     "output_type": "stream",
     "text": [
      "Neural Network Built!\n"
     ]
    }
   ],
   "source": [
    "def conv_net(x, keep_prob):\n",
    "    \"\"\"\n",
    "    Create a convolutional neural network model\n",
    "    : x: Placeholder tensor that holds image data.\n",
    "    : keep_prob: Placeholder tensor that hold dropout keep probability.\n",
    "    : return: Tensor that represents logits\n",
    "    \"\"\"\n",
    "    # TODO: Apply 1, 2, or 3 Convolution and Max Pool layers\n",
    "    #    Play around with different number of outputs, kernel size and stride\n",
    "    # Function Definition from Above:\n",
    "    #    conv2d_maxpool(x_tensor, conv_num_outputs, conv_ksize, conv_strides, pool_ksize, pool_strides)\n",
    "    x = conv2d_maxpool(x, 64,[5,5],[1,1],[3,3],[2,2])\n",
    "    x = tf.nn.dropout(x, keep_prob)\n",
    "    x = conv2d_maxpool(x, 64,[5,5],[1,1],[3,3],[2,2])\n",
    "    \n",
    "\n",
    "    # TODO: Apply a Flatten Layer\n",
    "    # Function Definition from Above:\n",
    "    #   flatten(x_tensor)\n",
    "    x = flatten(x)\n",
    "\n",
    "    # TODO: Apply 1, 2, or 3 Fully Connected Layers\n",
    "    #    Play around with different number of outputs\n",
    "    # Function Definition from Above:\n",
    "    #   fully_conn(x_tensor, num_outputs)\n",
    "    x = fully_conn(x, 600)\n",
    "    x = tf.nn.dropout(x, keep_prob)\n",
    "    x = fully_conn(x, 200)\n",
    "\n",
    "    # TODO: Apply an Output Layer\n",
    "    #    Set this to the number of classes\n",
    "    # Function Definition from Above:\n",
    "    #   output(x_tensor, num_outputs)\n",
    "    x = output(x, 10)\n",
    "    \n",
    "    # TODO: return output\n",
    "    return x\n",
    "\n",
    "\n",
    "\"\"\"\n",
    "DON'T MODIFY ANYTHING IN THIS CELL THAT IS BELOW THIS LINE\n",
    "\"\"\"\n",
    "\n",
    "##############################\n",
    "## Build the Neural Network ##\n",
    "##############################\n",
    "\n",
    "# Remove previous weights, bias, inputs, etc..\n",
    "tf.reset_default_graph()\n",
    "\n",
    "# Inputs\n",
    "x = neural_net_image_input((32, 32, 3))\n",
    "y = neural_net_label_input(10)\n",
    "keep_prob = neural_net_keep_prob_input()\n",
    "\n",
    "# Model\n",
    "logits = conv_net(x, keep_prob)\n",
    "\n",
    "# Name logits Tensor, so that is can be loaded from disk after training\n",
    "logits = tf.identity(logits, name='logits')\n",
    "\n",
    "# Loss and Optimizer\n",
    "cost = tf.reduce_mean(tf.nn.softmax_cross_entropy_with_logits(logits=logits, labels=y))\n",
    "optimizer = tf.train.AdamOptimizer().minimize(cost)\n",
    "\n",
    "# Accuracy\n",
    "correct_pred = tf.equal(tf.argmax(logits, 1), tf.argmax(y, 1))\n",
    "accuracy = tf.reduce_mean(tf.cast(correct_pred, tf.float32), name='accuracy')\n",
    "\n",
    "tests.test_conv_net(conv_net)"
   ]
  },
  {
   "cell_type": "markdown",
   "metadata": {
    "deletable": true,
    "editable": true
   },
   "source": [
    "## Train the Neural Network\n",
    "### Single Optimization\n",
    "Implement the function `train_neural_network` to do a single optimization.  The optimization should use `optimizer` to optimize in `session` with a `feed_dict` of the following:\n",
    "* `x` for image input\n",
    "* `y` for labels\n",
    "* `keep_prob` for keep probability for dropout\n",
    "\n",
    "This function will be called for each batch, so `tf.global_variables_initializer()` has already been called.\n",
    "\n",
    "Note: Nothing needs to be returned. This function is only optimizing the neural network."
   ]
  },
  {
   "cell_type": "code",
   "execution_count": 13,
   "metadata": {
    "collapsed": false,
    "deletable": true,
    "editable": true
   },
   "outputs": [
    {
     "name": "stdout",
     "output_type": "stream",
     "text": [
      "Tests Passed\n"
     ]
    }
   ],
   "source": [
    "def train_neural_network(session, optimizer, keep_probability, feature_batch, label_batch):\n",
    "    \"\"\"\n",
    "    Optimize the session on a batch of images and labels\n",
    "    : session: Current TensorFlow session\n",
    "    : optimizer: TensorFlow optimizer function\n",
    "    : keep_probability: keep probability\n",
    "    : feature_batch: Batch of Numpy image data\n",
    "    : label_batch: Batch of Numpy label data\n",
    "    \"\"\"\n",
    "    # TODO: Implement Function\n",
    "    session.run(optimizer, feed_dict={x : feature_batch, y: label_batch, keep_prob: keep_probability})\n",
    "\n",
    "\n",
    "\n",
    "\"\"\"\n",
    "DON'T MODIFY ANYTHING IN THIS CELL THAT IS BELOW THIS LINE\n",
    "\"\"\"\n",
    "tests.test_train_nn(train_neural_network)"
   ]
  },
  {
   "cell_type": "markdown",
   "metadata": {
    "deletable": true,
    "editable": true
   },
   "source": [
    "### Show Stats\n",
    "Implement the function `print_stats` to print loss and validation accuracy.  Use the global variables `valid_features` and `valid_labels` to calculate validation accuracy.  Use a keep probability of `1.0` to calculate the loss and validation accuracy."
   ]
  },
  {
   "cell_type": "code",
   "execution_count": 14,
   "metadata": {
    "collapsed": false,
    "deletable": true,
    "editable": true
   },
   "outputs": [],
   "source": [
    "def print_stats(session, feature_batch, label_batch, cost, accuracy):\n",
    "    \"\"\"\n",
    "    Print information about loss and validation accuracy\n",
    "    : session: Current TensorFlow session\n",
    "    : feature_batch: Batch of Numpy image data\n",
    "    : label_batch: Batch of Numpy label data\n",
    "    : cost: TensorFlow cost function\n",
    "    : accuracy: TensorFlow accuracy function\n",
    "    \"\"\"\n",
    "    # TODO: Implement Function\n",
    "    loss = session.run(cost, feed_dict={\n",
    "                x: feature_batch,\n",
    "                y: label_batch,\n",
    "                keep_prob: 1.})\n",
    "    valid_acc = sess.run(accuracy, feed_dict={\n",
    "                x: valid_features,\n",
    "                y: valid_labels,\n",
    "                keep_prob: 1.})\n",
    "    print('Loss: {}, Accuracy: {}'.format(loss, valid_acc*100))"
   ]
  },
  {
   "cell_type": "markdown",
   "metadata": {
    "deletable": true,
    "editable": true
   },
   "source": [
    "### Hyperparameters\n",
    "Tune the following parameters:\n",
    "* Set `epochs` to the number of iterations until the network stops learning or start overfitting\n",
    "* Set `batch_size` to the highest number that your machine has memory for.  Most people set them to common sizes of memory:\n",
    " * 64\n",
    " * 128\n",
    " * 256\n",
    " * ...\n",
    "* Set `keep_probability` to the probability of keeping a node using dropout"
   ]
  },
  {
   "cell_type": "code",
   "execution_count": 15,
   "metadata": {
    "collapsed": true,
    "deletable": true,
    "editable": true
   },
   "outputs": [],
   "source": [
    "# TODO: Tune Parameters\n",
    "epochs = 100\n",
    "batch_size = 128\n",
    "keep_probability = 0.5"
   ]
  },
  {
   "cell_type": "markdown",
   "metadata": {
    "deletable": true,
    "editable": true
   },
   "source": [
    "### Train on a Single CIFAR-10 Batch\n",
    "Instead of training the neural network on all the CIFAR-10 batches of data, let's use a single batch. This should save time while you iterate on the model to get a better accuracy.  Once the final validation accuracy is 50% or greater, run the model on all the data in the next section."
   ]
  },
  {
   "cell_type": "code",
   "execution_count": 16,
   "metadata": {
    "collapsed": false,
    "deletable": true,
    "editable": true
   },
   "outputs": [
    {
     "name": "stdout",
     "output_type": "stream",
     "text": [
      "Checking the Training on a Single Batch...\n",
      "Epoch  1, CIFAR-10 Batch 1:  Loss: 2.0757410526275635, Accuracy: 30.51999807357788\n",
      "Epoch  2, CIFAR-10 Batch 1:  Loss: 1.8435378074645996, Accuracy: 41.31999611854553\n",
      "Epoch  3, CIFAR-10 Batch 1:  Loss: 1.6215920448303223, Accuracy: 45.29999792575836\n",
      "Epoch  4, CIFAR-10 Batch 1:  Loss: 1.4566205739974976, Accuracy: 48.41999709606171\n",
      "Epoch  5, CIFAR-10 Batch 1:  Loss: 1.283089280128479, Accuracy: 52.01999545097351\n",
      "Epoch  6, CIFAR-10 Batch 1:  Loss: 1.0839499235153198, Accuracy: 53.71999740600586\n",
      "Epoch  7, CIFAR-10 Batch 1:  Loss: 0.9234099388122559, Accuracy: 55.75999617576599\n",
      "Epoch  8, CIFAR-10 Batch 1:  Loss: 0.7998828887939453, Accuracy: 55.49998879432678\n",
      "Epoch  9, CIFAR-10 Batch 1:  Loss: 0.768170177936554, Accuracy: 56.91999793052673\n",
      "Epoch 10, CIFAR-10 Batch 1:  Loss: 0.6004775762557983, Accuracy: 58.939993381500244\n",
      "Epoch 11, CIFAR-10 Batch 1:  Loss: 0.520380973815918, Accuracy: 58.63999128341675\n",
      "Epoch 12, CIFAR-10 Batch 1:  Loss: 0.4725084602832794, Accuracy: 60.55999398231506\n",
      "Epoch 13, CIFAR-10 Batch 1:  Loss: 0.40305882692337036, Accuracy: 61.47999167442322\n",
      "Epoch 14, CIFAR-10 Batch 1:  Loss: 0.33206576108932495, Accuracy: 61.49999499320984\n",
      "Epoch 15, CIFAR-10 Batch 1:  Loss: 0.24491071701049805, Accuracy: 61.379992961883545\n",
      "Epoch 16, CIFAR-10 Batch 1:  Loss: 0.23074060678482056, Accuracy: 61.17998957633972\n",
      "Epoch 17, CIFAR-10 Batch 1:  Loss: 0.16684891283512115, Accuracy: 62.73999214172363\n",
      "Epoch 18, CIFAR-10 Batch 1:  Loss: 0.10424403101205826, Accuracy: 62.919992208480835\n",
      "Epoch 19, CIFAR-10 Batch 1:  Loss: 0.14381785690784454, Accuracy: 62.89999485015869\n",
      "Epoch 20, CIFAR-10 Batch 1:  Loss: 0.09041223675012589, Accuracy: 62.23999261856079\n",
      "Epoch 21, CIFAR-10 Batch 1:  Loss: 0.06469088792800903, Accuracy: 61.539989709854126\n",
      "Epoch 22, CIFAR-10 Batch 1:  Loss: 0.040743451565504074, Accuracy: 63.21998834609985\n",
      "Epoch 23, CIFAR-10 Batch 1:  Loss: 0.04829728603363037, Accuracy: 62.27998733520508\n",
      "Epoch 24, CIFAR-10 Batch 1:  Loss: 0.024172047153115273, Accuracy: 62.099987268447876\n",
      "Epoch 25, CIFAR-10 Batch 1:  Loss: 0.03970208019018173, Accuracy: 60.799992084503174\n",
      "Epoch 26, CIFAR-10 Batch 1:  Loss: 0.042697709053754807, Accuracy: 62.93998956680298\n",
      "Epoch 27, CIFAR-10 Batch 1:  Loss: 0.01745133101940155, Accuracy: 62.91998624801636\n",
      "Epoch 28, CIFAR-10 Batch 1:  Loss: 0.04049025475978851, Accuracy: 62.73999214172363\n",
      "Epoch 29, CIFAR-10 Batch 1:  Loss: 0.011654624715447426, Accuracy: 63.53998780250549\n",
      "Epoch 30, CIFAR-10 Batch 1:  Loss: 0.015965493395924568, Accuracy: 63.399988412857056\n",
      "Epoch 31, CIFAR-10 Batch 1:  Loss: 0.02460557222366333, Accuracy: 63.35998773574829\n",
      "Epoch 32, CIFAR-10 Batch 1:  Loss: 0.017938153818249702, Accuracy: 63.079988956451416\n",
      "Epoch 33, CIFAR-10 Batch 1:  Loss: 0.013249598443508148, Accuracy: 63.33999037742615\n",
      "Epoch 34, CIFAR-10 Batch 1:  Loss: 0.015914088115096092, Accuracy: 63.559991121292114\n",
      "Epoch 35, CIFAR-10 Batch 1:  Loss: 0.01154352631419897, Accuracy: 61.55999302864075\n",
      "Epoch 36, CIFAR-10 Batch 1:  Loss: 0.013869833201169968, Accuracy: 61.23999357223511\n",
      "Epoch 37, CIFAR-10 Batch 1:  Loss: 0.00386898685246706, Accuracy: 62.839990854263306\n",
      "Epoch 38, CIFAR-10 Batch 1:  Loss: 0.00327305612154305, Accuracy: 63.179993629455566\n",
      "Epoch 39, CIFAR-10 Batch 1:  Loss: 0.006787070073187351, Accuracy: 62.499988079071045\n",
      "Epoch 40, CIFAR-10 Batch 1:  Loss: 0.005670130718499422, Accuracy: 63.319987058639526\n",
      "Epoch 41, CIFAR-10 Batch 1:  Loss: 0.010157513432204723, Accuracy: 61.67999505996704\n",
      "Epoch 42, CIFAR-10 Batch 1:  Loss: 0.004011857323348522, Accuracy: 63.159990310668945\n",
      "Epoch 43, CIFAR-10 Batch 1:  Loss: 0.007656233850866556, Accuracy: 61.87999248504639\n",
      "Epoch 44, CIFAR-10 Batch 1:  Loss: 0.0032398200128227472, Accuracy: 62.61999011039734\n",
      "Epoch 45, CIFAR-10 Batch 1:  Loss: 0.0010142026003450155, Accuracy: 63.81998658180237\n",
      "Epoch 46, CIFAR-10 Batch 1:  Loss: 0.008845261298120022, Accuracy: 62.019991874694824\n",
      "Epoch 47, CIFAR-10 Batch 1:  Loss: 0.0019365429179742932, Accuracy: 62.69998550415039\n",
      "Epoch 48, CIFAR-10 Batch 1:  Loss: 0.0036014507059007883, Accuracy: 62.899988889694214\n",
      "Epoch 49, CIFAR-10 Batch 1:  Loss: 0.0013068914413452148, Accuracy: 63.49998712539673\n",
      "Epoch 50, CIFAR-10 Batch 1:  Loss: 0.0007964425021782517, Accuracy: 62.519991397857666\n",
      "Epoch 51, CIFAR-10 Batch 1:  Loss: 0.0007362820324487984, Accuracy: 63.799989223480225\n",
      "Epoch 52, CIFAR-10 Batch 1:  Loss: 0.001180142629891634, Accuracy: 63.41999173164368\n",
      "Epoch 53, CIFAR-10 Batch 1:  Loss: 0.0004794675041921437, Accuracy: 64.51998949050903\n",
      "Epoch 54, CIFAR-10 Batch 1:  Loss: 0.0031379905994981527, Accuracy: 63.559991121292114\n",
      "Epoch 55, CIFAR-10 Batch 1:  Loss: 0.0023003520909696817, Accuracy: 63.75998854637146\n",
      "Epoch 56, CIFAR-10 Batch 1:  Loss: 0.0006289441953413188, Accuracy: 63.1399929523468\n",
      "Epoch 57, CIFAR-10 Batch 1:  Loss: 0.0005184292094781995, Accuracy: 63.879984617233276\n",
      "Epoch 58, CIFAR-10 Batch 1:  Loss: 0.0008058948442339897, Accuracy: 63.01999092102051\n",
      "Epoch 59, CIFAR-10 Batch 1:  Loss: 0.00027877656975761056, Accuracy: 63.699984550476074\n",
      "Epoch 60, CIFAR-10 Batch 1:  Loss: 0.0012275734916329384, Accuracy: 62.899988889694214\n",
      "Epoch 61, CIFAR-10 Batch 1:  Loss: 0.0003465107874944806, Accuracy: 62.63999342918396\n",
      "Epoch 62, CIFAR-10 Batch 1:  Loss: 0.0021137932781130075, Accuracy: 63.27999234199524\n",
      "Epoch 63, CIFAR-10 Batch 1:  Loss: 0.0003764214925467968, Accuracy: 63.8999879360199\n",
      "Epoch 64, CIFAR-10 Batch 1:  Loss: 0.000533872633241117, Accuracy: 64.97998833656311\n",
      "Epoch 65, CIFAR-10 Batch 1:  Loss: 0.0016081108478829265, Accuracy: 63.699984550476074\n",
      "Epoch 66, CIFAR-10 Batch 1:  Loss: 0.00034605173277668655, Accuracy: 63.93998861312866\n",
      "Epoch 67, CIFAR-10 Batch 1:  Loss: 9.398029942531139e-05, Accuracy: 64.35998678207397\n",
      "Epoch 68, CIFAR-10 Batch 1:  Loss: 0.0003191626165062189, Accuracy: 63.83999586105347\n",
      "Epoch 69, CIFAR-10 Batch 1:  Loss: 0.00017450976883992553, Accuracy: 63.399988412857056\n",
      "Epoch 70, CIFAR-10 Batch 1:  Loss: 0.0003667856799438596, Accuracy: 63.959985971450806\n",
      "Epoch 71, CIFAR-10 Batch 1:  Loss: 0.00024302059318870306, Accuracy: 63.879990577697754\n",
      "Epoch 72, CIFAR-10 Batch 1:  Loss: 0.000317697151331231, Accuracy: 63.33999037742615\n",
      "Epoch 73, CIFAR-10 Batch 1:  Loss: 0.0002554122474975884, Accuracy: 63.09998631477356\n",
      "Epoch 74, CIFAR-10 Batch 1:  Loss: 0.0010233910288661718, Accuracy: 63.91998529434204\n",
      "Epoch 75, CIFAR-10 Batch 1:  Loss: 0.00016674946527928114, Accuracy: 63.499993085861206\n",
      "Epoch 76, CIFAR-10 Batch 1:  Loss: 0.00025827233912423253, Accuracy: 64.05999064445496\n",
      "Epoch 77, CIFAR-10 Batch 1:  Loss: 0.0003178310871589929, Accuracy: 64.03999328613281\n",
      "Epoch 78, CIFAR-10 Batch 1:  Loss: 7.95182422734797e-05, Accuracy: 63.699984550476074\n",
      "Epoch 79, CIFAR-10 Batch 1:  Loss: 0.00017854833276942372, Accuracy: 63.87999653816223\n",
      "Epoch 80, CIFAR-10 Batch 1:  Loss: 0.00013463519280776381, Accuracy: 64.0799880027771\n",
      "Epoch 81, CIFAR-10 Batch 1:  Loss: 2.8803398890886456e-05, Accuracy: 64.35998678207397\n",
      "Epoch 82, CIFAR-10 Batch 1:  Loss: 6.99026495567523e-05, Accuracy: 63.73998522758484\n",
      "Epoch 83, CIFAR-10 Batch 1:  Loss: 0.0006960985483601689, Accuracy: 63.6199951171875\n",
      "Epoch 84, CIFAR-10 Batch 1:  Loss: 0.0004106423002667725, Accuracy: 64.0799880027771\n",
      "Epoch 85, CIFAR-10 Batch 1:  Loss: 0.0003557614691089839, Accuracy: 63.51999044418335\n",
      "Epoch 86, CIFAR-10 Batch 1:  Loss: 0.00046622916124761105, Accuracy: 63.4199857711792\n",
      "Epoch 87, CIFAR-10 Batch 1:  Loss: 7.876920426497236e-05, Accuracy: 63.83998990058899\n",
      "Epoch 88, CIFAR-10 Batch 1:  Loss: 0.0004671025671996176, Accuracy: 64.17999267578125\n",
      "Epoch 89, CIFAR-10 Batch 1:  Loss: 0.0002525723830331117, Accuracy: 64.29998874664307\n",
      "Epoch 90, CIFAR-10 Batch 1:  Loss: 0.00017247203504666686, Accuracy: 64.13998603820801\n",
      "Epoch 91, CIFAR-10 Batch 1:  Loss: 0.00032245361944660544, Accuracy: 64.05999064445496\n",
      "Epoch 92, CIFAR-10 Batch 1:  Loss: 0.00021180097246542573, Accuracy: 63.55998516082764\n",
      "Epoch 93, CIFAR-10 Batch 1:  Loss: 7.089704013196751e-05, Accuracy: 64.01998996734619\n",
      "Epoch 94, CIFAR-10 Batch 1:  Loss: 8.010303281480446e-05, Accuracy: 64.1599953174591\n",
      "Epoch 95, CIFAR-10 Batch 1:  Loss: 0.0001236055832123384, Accuracy: 62.899988889694214\n",
      "Epoch 96, CIFAR-10 Batch 1:  Loss: 7.396750879706815e-05, Accuracy: 64.49999213218689\n",
      "Epoch 97, CIFAR-10 Batch 1:  Loss: 0.0007026460953056812, Accuracy: 64.23999071121216\n",
      "Epoch 98, CIFAR-10 Batch 1:  Loss: 0.00025107982219196856, Accuracy: 63.91999125480652\n",
      "Epoch 99, CIFAR-10 Batch 1:  Loss: 0.00014493906928692013, Accuracy: 62.97999024391174\n",
      "Epoch 100, CIFAR-10 Batch 1:  Loss: 5.252119808574207e-05, Accuracy: 64.739990234375\n"
     ]
    }
   ],
   "source": [
    "\"\"\"\n",
    "DON'T MODIFY ANYTHING IN THIS CELL\n",
    "\"\"\"\n",
    "print('Checking the Training on a Single Batch...')\n",
    "with tf.Session() as sess:\n",
    "    # Initializing the variables\n",
    "    sess.run(tf.global_variables_initializer())\n",
    "    \n",
    "    # Training cycle\n",
    "    for epoch in range(epochs):\n",
    "        batch_i = 1\n",
    "        for batch_features, batch_labels in helper.load_preprocess_training_batch(batch_i, batch_size):\n",
    "            train_neural_network(sess, optimizer, keep_probability, batch_features, batch_labels)\n",
    "        print('Epoch {:>2}, CIFAR-10 Batch {}:  '.format(epoch + 1, batch_i), end='')\n",
    "        print_stats(sess, batch_features, batch_labels, cost, accuracy)"
   ]
  },
  {
   "cell_type": "markdown",
   "metadata": {
    "deletable": true,
    "editable": true
   },
   "source": [
    "### Fully Train the Model\n",
    "Now that you got a good accuracy with a single CIFAR-10 batch, try it with all five batches."
   ]
  },
  {
   "cell_type": "code",
   "execution_count": 17,
   "metadata": {
    "collapsed": false,
    "deletable": true,
    "editable": true
   },
   "outputs": [
    {
     "name": "stdout",
     "output_type": "stream",
     "text": [
      "Training...\n",
      "Epoch  1, CIFAR-10 Batch 1:  Loss: 2.0607004165649414, Accuracy: 32.419997453689575\n",
      "Epoch  1, CIFAR-10 Batch 2:  Loss: 1.7520725727081299, Accuracy: 37.359997630119324\n",
      "Epoch  1, CIFAR-10 Batch 3:  Loss: 1.3030543327331543, Accuracy: 43.219998478889465\n",
      "Epoch  1, CIFAR-10 Batch 4:  Loss: 1.473573923110962, Accuracy: 47.79999554157257\n",
      "Epoch  1, CIFAR-10 Batch 5:  Loss: 1.5163145065307617, Accuracy: 52.35999822616577\n",
      "Epoch  2, CIFAR-10 Batch 1:  Loss: 1.390225887298584, Accuracy: 54.079991579055786\n",
      "Epoch  2, CIFAR-10 Batch 2:  Loss: 1.1835864782333374, Accuracy: 54.879993200302124\n",
      "Epoch  2, CIFAR-10 Batch 3:  Loss: 1.0216009616851807, Accuracy: 56.259989738464355\n",
      "Epoch  2, CIFAR-10 Batch 4:  Loss: 1.1075894832611084, Accuracy: 57.55999684333801\n",
      "Epoch  2, CIFAR-10 Batch 5:  Loss: 1.1774287223815918, Accuracy: 59.93999242782593\n",
      "Epoch  3, CIFAR-10 Batch 1:  Loss: 1.1231054067611694, Accuracy: 62.179988622665405\n",
      "Epoch  3, CIFAR-10 Batch 2:  Loss: 0.9028964638710022, Accuracy: 61.41998767852783\n",
      "Epoch  3, CIFAR-10 Batch 3:  Loss: 0.6808381080627441, Accuracy: 64.3799901008606\n",
      "Epoch  3, CIFAR-10 Batch 4:  Loss: 0.8541356325149536, Accuracy: 64.07999396324158\n",
      "Epoch  3, CIFAR-10 Batch 5:  Loss: 0.9135974645614624, Accuracy: 65.81998467445374\n",
      "Epoch  4, CIFAR-10 Batch 1:  Loss: 0.8387997150421143, Accuracy: 66.35998487472534\n",
      "Epoch  4, CIFAR-10 Batch 2:  Loss: 0.7992630004882812, Accuracy: 62.79999017715454\n",
      "Epoch  4, CIFAR-10 Batch 3:  Loss: 0.6333425045013428, Accuracy: 67.21998453140259\n",
      "Epoch  4, CIFAR-10 Batch 4:  Loss: 0.7315127849578857, Accuracy: 67.81998872756958\n",
      "Epoch  4, CIFAR-10 Batch 5:  Loss: 0.7851987481117249, Accuracy: 66.71998500823975\n",
      "Epoch  5, CIFAR-10 Batch 1:  Loss: 0.7255730628967285, Accuracy: 66.47999286651611\n",
      "Epoch  5, CIFAR-10 Batch 2:  Loss: 0.6115081310272217, Accuracy: 64.61999416351318\n",
      "Epoch  5, CIFAR-10 Batch 3:  Loss: 0.517635703086853, Accuracy: 68.99998188018799\n",
      "Epoch  5, CIFAR-10 Batch 4:  Loss: 0.562389612197876, Accuracy: 68.01998615264893\n",
      "Epoch  5, CIFAR-10 Batch 5:  Loss: 0.5741637945175171, Accuracy: 69.37998533248901\n",
      "Epoch  6, CIFAR-10 Batch 1:  Loss: 0.6018651723861694, Accuracy: 68.71998906135559\n",
      "Epoch  6, CIFAR-10 Batch 2:  Loss: 0.5061043500900269, Accuracy: 69.19998526573181\n",
      "Epoch  6, CIFAR-10 Batch 3:  Loss: 0.4217185974121094, Accuracy: 69.77998614311218\n",
      "Epoch  6, CIFAR-10 Batch 4:  Loss: 0.47303369641304016, Accuracy: 69.55997943878174\n",
      "Epoch  6, CIFAR-10 Batch 5:  Loss: 0.5492815971374512, Accuracy: 69.75998878479004\n",
      "Epoch  7, CIFAR-10 Batch 1:  Loss: 0.4681288003921509, Accuracy: 71.0399866104126\n",
      "Epoch  7, CIFAR-10 Batch 2:  Loss: 0.4686560034751892, Accuracy: 69.99998688697815\n",
      "Epoch  7, CIFAR-10 Batch 3:  Loss: 0.32753467559814453, Accuracy: 71.31998538970947\n",
      "Epoch  7, CIFAR-10 Batch 4:  Loss: 0.4191860556602478, Accuracy: 70.87998390197754\n",
      "Epoch  7, CIFAR-10 Batch 5:  Loss: 0.43094542622566223, Accuracy: 71.37998342514038\n",
      "Epoch  8, CIFAR-10 Batch 1:  Loss: 0.40803205966949463, Accuracy: 71.25998735427856\n",
      "Epoch  8, CIFAR-10 Batch 2:  Loss: 0.41813620924949646, Accuracy: 72.45998978614807\n",
      "Epoch  8, CIFAR-10 Batch 3:  Loss: 0.2991371154785156, Accuracy: 71.65998816490173\n",
      "Epoch  8, CIFAR-10 Batch 4:  Loss: 0.3471726179122925, Accuracy: 71.3799774646759\n",
      "Epoch  8, CIFAR-10 Batch 5:  Loss: 0.39021891355514526, Accuracy: 71.6999888420105\n",
      "Epoch  9, CIFAR-10 Batch 1:  Loss: 0.4166333079338074, Accuracy: 72.29998707771301\n",
      "Epoch  9, CIFAR-10 Batch 2:  Loss: 0.4586094319820404, Accuracy: 71.71998620033264\n",
      "Epoch  9, CIFAR-10 Batch 3:  Loss: 0.2732504606246948, Accuracy: 72.35997915267944\n",
      "Epoch  9, CIFAR-10 Batch 4:  Loss: 0.3322516083717346, Accuracy: 72.97998666763306\n",
      "Epoch  9, CIFAR-10 Batch 5:  Loss: 0.3121108412742615, Accuracy: 71.61998152732849\n",
      "Epoch 10, CIFAR-10 Batch 1:  Loss: 0.387169748544693, Accuracy: 72.89998531341553\n",
      "Epoch 10, CIFAR-10 Batch 2:  Loss: 0.3531745970249176, Accuracy: 71.97997570037842\n",
      "Epoch 10, CIFAR-10 Batch 3:  Loss: 0.23171040415763855, Accuracy: 73.29998016357422\n",
      "Epoch 10, CIFAR-10 Batch 4:  Loss: 0.32291004061698914, Accuracy: 73.89998435974121\n",
      "Epoch 10, CIFAR-10 Batch 5:  Loss: 0.25527405738830566, Accuracy: 72.4599838256836\n",
      "Epoch 11, CIFAR-10 Batch 1:  Loss: 0.3187635838985443, Accuracy: 73.59998822212219\n",
      "Epoch 11, CIFAR-10 Batch 2:  Loss: 0.30289432406425476, Accuracy: 73.73998761177063\n",
      "Epoch 11, CIFAR-10 Batch 3:  Loss: 0.20422706007957458, Accuracy: 72.85998463630676\n",
      "Epoch 11, CIFAR-10 Batch 4:  Loss: 0.2552080750465393, Accuracy: 73.81998300552368\n",
      "Epoch 11, CIFAR-10 Batch 5:  Loss: 0.23486438393592834, Accuracy: 73.39997887611389\n",
      "Epoch 12, CIFAR-10 Batch 1:  Loss: 0.28531110286712646, Accuracy: 73.13998341560364\n",
      "Epoch 12, CIFAR-10 Batch 2:  Loss: 0.3177475929260254, Accuracy: 72.819983959198\n",
      "Epoch 12, CIFAR-10 Batch 3:  Loss: 0.1613089144229889, Accuracy: 73.03997874259949\n",
      "Epoch 12, CIFAR-10 Batch 4:  Loss: 0.27695679664611816, Accuracy: 74.5999813079834\n",
      "Epoch 12, CIFAR-10 Batch 5:  Loss: 0.17687800526618958, Accuracy: 74.05997514724731\n",
      "Epoch 13, CIFAR-10 Batch 1:  Loss: 0.2294604629278183, Accuracy: 74.47998523712158\n",
      "Epoch 13, CIFAR-10 Batch 2:  Loss: 0.33728131651878357, Accuracy: 72.3599910736084\n",
      "Epoch 13, CIFAR-10 Batch 3:  Loss: 0.13626807928085327, Accuracy: 74.57997798919678\n",
      "Epoch 13, CIFAR-10 Batch 4:  Loss: 0.18483875691890717, Accuracy: 74.29998517036438\n",
      "Epoch 13, CIFAR-10 Batch 5:  Loss: 0.13744458556175232, Accuracy: 74.45998787879944\n",
      "Epoch 14, CIFAR-10 Batch 1:  Loss: 0.17753222584724426, Accuracy: 74.01998043060303\n",
      "Epoch 14, CIFAR-10 Batch 2:  Loss: 0.26826417446136475, Accuracy: 73.49998950958252\n",
      "Epoch 14, CIFAR-10 Batch 3:  Loss: 0.14052656292915344, Accuracy: 74.41998720169067\n",
      "Epoch 14, CIFAR-10 Batch 4:  Loss: 0.20061692595481873, Accuracy: 74.53998923301697\n",
      "Epoch 14, CIFAR-10 Batch 5:  Loss: 0.14304804801940918, Accuracy: 73.95998239517212\n",
      "Epoch 15, CIFAR-10 Batch 1:  Loss: 0.21698223054409027, Accuracy: 73.91998767852783\n",
      "Epoch 15, CIFAR-10 Batch 2:  Loss: 0.22089648246765137, Accuracy: 73.43997955322266\n",
      "Epoch 15, CIFAR-10 Batch 3:  Loss: 0.10375183820724487, Accuracy: 74.8999834060669\n",
      "Epoch 15, CIFAR-10 Batch 4:  Loss: 0.16940632462501526, Accuracy: 74.01998043060303\n",
      "Epoch 15, CIFAR-10 Batch 5:  Loss: 0.1303914338350296, Accuracy: 74.45998191833496\n",
      "Epoch 16, CIFAR-10 Batch 1:  Loss: 0.20474348962306976, Accuracy: 74.01999235153198\n",
      "Epoch 16, CIFAR-10 Batch 2:  Loss: 0.17848294973373413, Accuracy: 74.71997737884521\n",
      "Epoch 16, CIFAR-10 Batch 3:  Loss: 0.13489103317260742, Accuracy: 75.01997947692871\n",
      "Epoch 16, CIFAR-10 Batch 4:  Loss: 0.13449563086032867, Accuracy: 75.2599835395813\n",
      "Epoch 16, CIFAR-10 Batch 5:  Loss: 0.11170308291912079, Accuracy: 74.93997812271118\n",
      "Epoch 17, CIFAR-10 Batch 1:  Loss: 0.14698387682437897, Accuracy: 75.29998421669006\n",
      "Epoch 17, CIFAR-10 Batch 2:  Loss: 0.16706949472427368, Accuracy: 74.25998449325562\n",
      "Epoch 17, CIFAR-10 Batch 3:  Loss: 0.11105553060770035, Accuracy: 75.33998489379883\n",
      "Epoch 17, CIFAR-10 Batch 4:  Loss: 0.199782595038414, Accuracy: 73.79998564720154\n",
      "Epoch 17, CIFAR-10 Batch 5:  Loss: 0.10345546901226044, Accuracy: 75.05998611450195\n",
      "Epoch 18, CIFAR-10 Batch 1:  Loss: 0.12647484242916107, Accuracy: 74.59998726844788\n",
      "Epoch 18, CIFAR-10 Batch 2:  Loss: 0.14057676494121552, Accuracy: 75.01999139785767\n",
      "Epoch 18, CIFAR-10 Batch 3:  Loss: 0.10235685855150223, Accuracy: 74.99998211860657\n",
      "Epoch 18, CIFAR-10 Batch 4:  Loss: 0.17367717623710632, Accuracy: 74.63998198509216\n",
      "Epoch 18, CIFAR-10 Batch 5:  Loss: 0.1268913894891739, Accuracy: 75.3199815750122\n",
      "Epoch 19, CIFAR-10 Batch 1:  Loss: 0.133367657661438, Accuracy: 75.0799834728241\n",
      "Epoch 19, CIFAR-10 Batch 2:  Loss: 0.17093214392662048, Accuracy: 74.239981174469\n",
      "Epoch 19, CIFAR-10 Batch 3:  Loss: 0.09491606801748276, Accuracy: 75.09998679161072\n",
      "Epoch 19, CIFAR-10 Batch 4:  Loss: 0.15180401504039764, Accuracy: 74.65998530387878\n",
      "Epoch 19, CIFAR-10 Batch 5:  Loss: 0.07980230450630188, Accuracy: 74.85998868942261\n",
      "Epoch 20, CIFAR-10 Batch 1:  Loss: 0.12281256914138794, Accuracy: 75.15998482704163\n",
      "Epoch 20, CIFAR-10 Batch 2:  Loss: 0.2519696354866028, Accuracy: 74.09998774528503\n",
      "Epoch 20, CIFAR-10 Batch 3:  Loss: 0.08123836666345596, Accuracy: 74.47998523712158\n",
      "Epoch 20, CIFAR-10 Batch 4:  Loss: 0.14834487438201904, Accuracy: 74.33998584747314\n",
      "Epoch 20, CIFAR-10 Batch 5:  Loss: 0.0832647830247879, Accuracy: 75.59998035430908\n",
      "Epoch 21, CIFAR-10 Batch 1:  Loss: 0.120955690741539, Accuracy: 75.11998414993286\n",
      "Epoch 21, CIFAR-10 Batch 2:  Loss: 0.13152694702148438, Accuracy: 74.71998333930969\n",
      "Epoch 21, CIFAR-10 Batch 3:  Loss: 0.08555550128221512, Accuracy: 74.37997460365295\n",
      "Epoch 21, CIFAR-10 Batch 4:  Loss: 0.1294402778148651, Accuracy: 74.99998211860657\n",
      "Epoch 21, CIFAR-10 Batch 5:  Loss: 0.045484758913517, Accuracy: 76.27997994422913\n",
      "Epoch 22, CIFAR-10 Batch 1:  Loss: 0.10010208189487457, Accuracy: 75.65998435020447\n",
      "Epoch 22, CIFAR-10 Batch 2:  Loss: 0.13577108085155487, Accuracy: 73.95998239517212\n",
      "Epoch 22, CIFAR-10 Batch 3:  Loss: 0.06764934211969376, Accuracy: 75.93998312950134\n",
      "Epoch 22, CIFAR-10 Batch 4:  Loss: 0.07665784657001495, Accuracy: 75.19998550415039\n",
      "Epoch 22, CIFAR-10 Batch 5:  Loss: 0.04719512164592743, Accuracy: 75.7999837398529\n",
      "Epoch 23, CIFAR-10 Batch 1:  Loss: 0.08008097857236862, Accuracy: 74.83998537063599\n",
      "Epoch 23, CIFAR-10 Batch 2:  Loss: 0.11593988537788391, Accuracy: 75.23998022079468\n",
      "Epoch 23, CIFAR-10 Batch 3:  Loss: 0.0675065666437149, Accuracy: 74.09998178482056\n",
      "Epoch 23, CIFAR-10 Batch 4:  Loss: 0.10306975990533829, Accuracy: 74.45997595787048\n",
      "Epoch 23, CIFAR-10 Batch 5:  Loss: 0.07017095386981964, Accuracy: 76.11998319625854\n",
      "Epoch 24, CIFAR-10 Batch 1:  Loss: 0.12289157509803772, Accuracy: 73.91998767852783\n",
      "Epoch 24, CIFAR-10 Batch 2:  Loss: 0.13502147793769836, Accuracy: 75.17998814582825\n",
      "Epoch 24, CIFAR-10 Batch 3:  Loss: 0.053058329969644547, Accuracy: 74.73998069763184\n",
      "Epoch 24, CIFAR-10 Batch 4:  Loss: 0.10389240086078644, Accuracy: 74.93998408317566\n",
      "Epoch 24, CIFAR-10 Batch 5:  Loss: 0.046836577355861664, Accuracy: 75.7999837398529\n",
      "Epoch 25, CIFAR-10 Batch 1:  Loss: 0.0339665487408638, Accuracy: 75.15998482704163\n",
      "Epoch 25, CIFAR-10 Batch 2:  Loss: 0.17071464657783508, Accuracy: 72.73998260498047\n",
      "Epoch 25, CIFAR-10 Batch 3:  Loss: 0.044267307966947556, Accuracy: 75.51997900009155\n",
      "Epoch 25, CIFAR-10 Batch 4:  Loss: 0.0775914415717125, Accuracy: 74.61997866630554\n",
      "Epoch 25, CIFAR-10 Batch 5:  Loss: 0.03002040460705757, Accuracy: 75.41998624801636\n",
      "Epoch 26, CIFAR-10 Batch 1:  Loss: 0.071194589138031, Accuracy: 74.01998043060303\n",
      "Epoch 26, CIFAR-10 Batch 2:  Loss: 0.07871337234973907, Accuracy: 74.69998002052307\n",
      "Epoch 26, CIFAR-10 Batch 3:  Loss: 0.05201194807887077, Accuracy: 75.37997961044312\n",
      "Epoch 26, CIFAR-10 Batch 4:  Loss: 0.07933628559112549, Accuracy: 75.33997893333435\n",
      "Epoch 26, CIFAR-10 Batch 5:  Loss: 0.03022816777229309, Accuracy: 76.13998055458069\n",
      "Epoch 27, CIFAR-10 Batch 1:  Loss: 0.06196779012680054, Accuracy: 75.5599856376648\n",
      "Epoch 27, CIFAR-10 Batch 2:  Loss: 0.10028664022684097, Accuracy: 73.87998104095459\n",
      "Epoch 27, CIFAR-10 Batch 3:  Loss: 0.052590664476156235, Accuracy: 75.07997751235962\n",
      "Epoch 27, CIFAR-10 Batch 4:  Loss: 0.09747445583343506, Accuracy: 75.87998509407043\n",
      "Epoch 27, CIFAR-10 Batch 5:  Loss: 0.04048064351081848, Accuracy: 74.61998462677002\n",
      "Epoch 28, CIFAR-10 Batch 1:  Loss: 0.05049126595258713, Accuracy: 75.51997900009155\n",
      "Epoch 28, CIFAR-10 Batch 2:  Loss: 0.08191826939582825, Accuracy: 75.21998882293701\n",
      "Epoch 28, CIFAR-10 Batch 3:  Loss: 0.045248232781887054, Accuracy: 75.21998286247253\n",
      "Epoch 28, CIFAR-10 Batch 4:  Loss: 0.03536469116806984, Accuracy: 75.95998048782349\n",
      "Epoch 28, CIFAR-10 Batch 5:  Loss: 0.02837861329317093, Accuracy: 75.139981508255\n",
      "Epoch 29, CIFAR-10 Batch 1:  Loss: 0.06684735417366028, Accuracy: 76.39997601509094\n",
      "Epoch 29, CIFAR-10 Batch 2:  Loss: 0.07133035361766815, Accuracy: 75.3199815750122\n",
      "Epoch 29, CIFAR-10 Batch 3:  Loss: 0.047360990196466446, Accuracy: 76.03997588157654\n",
      "Epoch 29, CIFAR-10 Batch 4:  Loss: 0.054542750120162964, Accuracy: 75.05999207496643\n",
      "Epoch 29, CIFAR-10 Batch 5:  Loss: 0.03336383402347565, Accuracy: 75.45998692512512\n",
      "Epoch 30, CIFAR-10 Batch 1:  Loss: 0.05631931126117706, Accuracy: 75.61997771263123\n",
      "Epoch 30, CIFAR-10 Batch 2:  Loss: 0.036170169711112976, Accuracy: 74.71998929977417\n",
      "Epoch 30, CIFAR-10 Batch 3:  Loss: 0.03310791403055191, Accuracy: 75.57998299598694\n",
      "Epoch 30, CIFAR-10 Batch 4:  Loss: 0.050817545503377914, Accuracy: 75.31998753547668\n",
      "Epoch 30, CIFAR-10 Batch 5:  Loss: 0.017979074269533157, Accuracy: 75.95997452735901\n",
      "Epoch 31, CIFAR-10 Batch 1:  Loss: 0.045610103756189346, Accuracy: 75.55997967720032\n",
      "Epoch 31, CIFAR-10 Batch 2:  Loss: 0.049399830400943756, Accuracy: 75.55997967720032\n",
      "Epoch 31, CIFAR-10 Batch 3:  Loss: 0.031892240047454834, Accuracy: 75.17997622489929\n",
      "Epoch 31, CIFAR-10 Batch 4:  Loss: 0.034268274903297424, Accuracy: 75.95998048782349\n",
      "Epoch 31, CIFAR-10 Batch 5:  Loss: 0.02931896597146988, Accuracy: 75.17998218536377\n",
      "Epoch 32, CIFAR-10 Batch 1:  Loss: 0.035762716084718704, Accuracy: 75.57998299598694\n",
      "Epoch 32, CIFAR-10 Batch 2:  Loss: 0.0579129122197628, Accuracy: 75.77998042106628\n",
      "Epoch 32, CIFAR-10 Batch 3:  Loss: 0.024918748065829277, Accuracy: 75.79997777938843\n",
      "Epoch 32, CIFAR-10 Batch 4:  Loss: 0.08814734220504761, Accuracy: 75.3199815750122\n",
      "Epoch 32, CIFAR-10 Batch 5:  Loss: 0.021679945290088654, Accuracy: 76.29998922348022\n",
      "Epoch 33, CIFAR-10 Batch 1:  Loss: 0.039374131709337234, Accuracy: 75.3199815750122\n",
      "Epoch 33, CIFAR-10 Batch 2:  Loss: 0.07540778815746307, Accuracy: 74.51997995376587\n",
      "Epoch 33, CIFAR-10 Batch 3:  Loss: 0.04124043881893158, Accuracy: 75.7999837398529\n",
      "Epoch 33, CIFAR-10 Batch 4:  Loss: 0.05877620726823807, Accuracy: 75.47998428344727\n",
      "Epoch 33, CIFAR-10 Batch 5:  Loss: 0.019009128212928772, Accuracy: 76.03998184204102\n",
      "Epoch 34, CIFAR-10 Batch 1:  Loss: 0.04615384340286255, Accuracy: 74.79997873306274\n",
      "Epoch 34, CIFAR-10 Batch 2:  Loss: 0.035337161272764206, Accuracy: 74.37998056411743\n",
      "Epoch 34, CIFAR-10 Batch 3:  Loss: 0.04846808686852455, Accuracy: 75.49998164176941\n",
      "Epoch 34, CIFAR-10 Batch 4:  Loss: 0.03662165626883507, Accuracy: 76.5799880027771\n",
      "Epoch 34, CIFAR-10 Batch 5:  Loss: 0.020872747525572777, Accuracy: 75.89998841285706\n",
      "Epoch 35, CIFAR-10 Batch 1:  Loss: 0.03315411135554314, Accuracy: 74.95998740196228\n",
      "Epoch 35, CIFAR-10 Batch 2:  Loss: 0.07574924826622009, Accuracy: 74.69998598098755\n",
      "Epoch 35, CIFAR-10 Batch 3:  Loss: 0.03853690251708031, Accuracy: 75.45998096466064\n",
      "Epoch 35, CIFAR-10 Batch 4:  Loss: 0.026244940236210823, Accuracy: 76.07998251914978\n",
      "Epoch 35, CIFAR-10 Batch 5:  Loss: 0.015858344733715057, Accuracy: 75.75998306274414\n",
      "Epoch 36, CIFAR-10 Batch 1:  Loss: 0.03648094832897186, Accuracy: 75.59998035430908\n",
      "Epoch 36, CIFAR-10 Batch 2:  Loss: 0.04883401840925217, Accuracy: 75.41998624801636\n",
      "Epoch 36, CIFAR-10 Batch 3:  Loss: 0.026065511628985405, Accuracy: 75.63998103141785\n",
      "Epoch 36, CIFAR-10 Batch 4:  Loss: 0.0315483994781971, Accuracy: 75.37998557090759\n",
      "Epoch 36, CIFAR-10 Batch 5:  Loss: 0.03161352872848511, Accuracy: 75.77998042106628\n",
      "Epoch 37, CIFAR-10 Batch 1:  Loss: 0.11233966797590256, Accuracy: 74.05997514724731\n",
      "Epoch 37, CIFAR-10 Batch 2:  Loss: 0.04319702461361885, Accuracy: 76.0199785232544\n",
      "Epoch 37, CIFAR-10 Batch 3:  Loss: 0.023870239034295082, Accuracy: 75.75998306274414\n",
      "Epoch 37, CIFAR-10 Batch 4:  Loss: 0.04222215712070465, Accuracy: 76.39998197555542\n",
      "Epoch 37, CIFAR-10 Batch 5:  Loss: 0.020906522870063782, Accuracy: 75.67998170852661\n",
      "Epoch 38, CIFAR-10 Batch 1:  Loss: 0.0653863325715065, Accuracy: 74.51998591423035\n",
      "Epoch 38, CIFAR-10 Batch 2:  Loss: 0.025866255164146423, Accuracy: 76.27997994422913\n",
      "Epoch 38, CIFAR-10 Batch 3:  Loss: 0.022255875170230865, Accuracy: 75.53998231887817\n",
      "Epoch 38, CIFAR-10 Batch 4:  Loss: 0.05044940486550331, Accuracy: 75.95998644828796\n",
      "Epoch 38, CIFAR-10 Batch 5:  Loss: 0.010728221386671066, Accuracy: 75.57998299598694\n",
      "Epoch 39, CIFAR-10 Batch 1:  Loss: 0.04460578411817551, Accuracy: 74.53998327255249\n",
      "Epoch 39, CIFAR-10 Batch 2:  Loss: 0.035991936922073364, Accuracy: 74.43998456001282\n",
      "Epoch 39, CIFAR-10 Batch 3:  Loss: 0.03150011971592903, Accuracy: 75.41998028755188\n",
      "Epoch 39, CIFAR-10 Batch 4:  Loss: 0.04005558788776398, Accuracy: 76.03997588157654\n",
      "Epoch 39, CIFAR-10 Batch 5:  Loss: 0.014536972157657146, Accuracy: 75.65997838973999\n",
      "Epoch 40, CIFAR-10 Batch 1:  Loss: 0.030950499698519707, Accuracy: 74.97998476028442\n",
      "Epoch 40, CIFAR-10 Batch 2:  Loss: 0.036071158945560455, Accuracy: 75.41998028755188\n",
      "Epoch 40, CIFAR-10 Batch 3:  Loss: 0.01947159692645073, Accuracy: 76.05997920036316\n",
      "Epoch 40, CIFAR-10 Batch 4:  Loss: 0.017207477241754532, Accuracy: 76.39998197555542\n",
      "Epoch 40, CIFAR-10 Batch 5:  Loss: 0.013263680040836334, Accuracy: 76.25998854637146\n",
      "Epoch 41, CIFAR-10 Batch 1:  Loss: 0.029865922406315804, Accuracy: 75.85998177528381\n",
      "Epoch 41, CIFAR-10 Batch 2:  Loss: 0.026071351021528244, Accuracy: 75.77998638153076\n",
      "Epoch 41, CIFAR-10 Batch 3:  Loss: 0.014718073420226574, Accuracy: 75.59998035430908\n",
      "Epoch 41, CIFAR-10 Batch 4:  Loss: 0.03296443447470665, Accuracy: 76.5799880027771\n",
      "Epoch 41, CIFAR-10 Batch 5:  Loss: 0.016404109075665474, Accuracy: 75.4399836063385\n",
      "Epoch 42, CIFAR-10 Batch 1:  Loss: 0.04037906974554062, Accuracy: 75.51997900009155\n",
      "Epoch 42, CIFAR-10 Batch 2:  Loss: 0.01403949037194252, Accuracy: 76.4599859714508\n",
      "Epoch 42, CIFAR-10 Batch 3:  Loss: 0.012315710075199604, Accuracy: 75.87997913360596\n",
      "Epoch 42, CIFAR-10 Batch 4:  Loss: 0.01519806683063507, Accuracy: 75.77998638153076\n",
      "Epoch 42, CIFAR-10 Batch 5:  Loss: 0.012360474094748497, Accuracy: 76.21997594833374\n",
      "Epoch 43, CIFAR-10 Batch 1:  Loss: 0.04804546386003494, Accuracy: 75.6199836730957\n",
      "Epoch 43, CIFAR-10 Batch 2:  Loss: 0.020904242992401123, Accuracy: 74.63998794555664\n",
      "Epoch 43, CIFAR-10 Batch 3:  Loss: 0.013162941671907902, Accuracy: 75.01998543739319\n",
      "Epoch 43, CIFAR-10 Batch 4:  Loss: 0.02897302433848381, Accuracy: 75.43997764587402\n",
      "Epoch 43, CIFAR-10 Batch 5:  Loss: 0.012799388729035854, Accuracy: 76.35998129844666\n",
      "Epoch 44, CIFAR-10 Batch 1:  Loss: 0.03598684072494507, Accuracy: 75.75998306274414\n",
      "Epoch 44, CIFAR-10 Batch 2:  Loss: 0.013744020834565163, Accuracy: 76.11998319625854\n",
      "Epoch 44, CIFAR-10 Batch 3:  Loss: 0.012400183826684952, Accuracy: 75.3199815750122\n",
      "Epoch 44, CIFAR-10 Batch 4:  Loss: 0.01373809389770031, Accuracy: 76.35998725891113\n",
      "Epoch 44, CIFAR-10 Batch 5:  Loss: 0.006994671653956175, Accuracy: 76.5799880027771\n",
      "Epoch 45, CIFAR-10 Batch 1:  Loss: 0.029318157583475113, Accuracy: 75.51997900009155\n",
      "Epoch 45, CIFAR-10 Batch 2:  Loss: 0.027197249233722687, Accuracy: 75.63998699188232\n",
      "Epoch 45, CIFAR-10 Batch 3:  Loss: 0.007212325464934111, Accuracy: 76.49998664855957\n",
      "Epoch 45, CIFAR-10 Batch 4:  Loss: 0.014166517183184624, Accuracy: 75.65998435020447\n",
      "Epoch 45, CIFAR-10 Batch 5:  Loss: 0.008181734010577202, Accuracy: 75.85998177528381\n",
      "Epoch 46, CIFAR-10 Batch 1:  Loss: 0.04372432082891464, Accuracy: 75.3199815750122\n",
      "Epoch 46, CIFAR-10 Batch 2:  Loss: 0.024609355255961418, Accuracy: 75.63998103141785\n",
      "Epoch 46, CIFAR-10 Batch 3:  Loss: 0.012154312804341316, Accuracy: 75.23998022079468\n",
      "Epoch 46, CIFAR-10 Batch 4:  Loss: 0.02836604416370392, Accuracy: 76.17998123168945\n",
      "Epoch 46, CIFAR-10 Batch 5:  Loss: 0.008828788064420223, Accuracy: 76.01998448371887\n",
      "Epoch 47, CIFAR-10 Batch 1:  Loss: 0.019115353003144264, Accuracy: 75.27998685836792\n",
      "Epoch 47, CIFAR-10 Batch 2:  Loss: 0.02099652960896492, Accuracy: 75.09998083114624\n",
      "Epoch 47, CIFAR-10 Batch 3:  Loss: 0.012948052957654, Accuracy: 75.71998834609985\n",
      "Epoch 47, CIFAR-10 Batch 4:  Loss: 0.018850676715373993, Accuracy: 75.57998299598694\n",
      "Epoch 47, CIFAR-10 Batch 5:  Loss: 0.006318558007478714, Accuracy: 76.53998136520386\n",
      "Epoch 48, CIFAR-10 Batch 1:  Loss: 0.019584355875849724, Accuracy: 75.41998028755188\n",
      "Epoch 48, CIFAR-10 Batch 2:  Loss: 0.01920958235859871, Accuracy: 75.89998245239258\n",
      "Epoch 48, CIFAR-10 Batch 3:  Loss: 0.015032571740448475, Accuracy: 76.11998319625854\n",
      "Epoch 48, CIFAR-10 Batch 4:  Loss: 0.019822269678115845, Accuracy: 76.05998516082764\n",
      "Epoch 48, CIFAR-10 Batch 5:  Loss: 0.003636134322732687, Accuracy: 76.85998678207397\n",
      "Epoch 49, CIFAR-10 Batch 1:  Loss: 0.029816271737217903, Accuracy: 74.57998991012573\n",
      "Epoch 49, CIFAR-10 Batch 2:  Loss: 0.029393330216407776, Accuracy: 75.65999031066895\n",
      "Epoch 49, CIFAR-10 Batch 3:  Loss: 0.00571263674646616, Accuracy: 75.75998902320862\n",
      "Epoch 49, CIFAR-10 Batch 4:  Loss: 0.019017202779650688, Accuracy: 75.75998306274414\n",
      "Epoch 49, CIFAR-10 Batch 5:  Loss: 0.007878637872636318, Accuracy: 76.29997730255127\n",
      "Epoch 50, CIFAR-10 Batch 1:  Loss: 0.019765011966228485, Accuracy: 75.85998177528381\n",
      "Epoch 50, CIFAR-10 Batch 2:  Loss: 0.01952630653977394, Accuracy: 76.23998522758484\n",
      "Epoch 50, CIFAR-10 Batch 3:  Loss: 0.026273909956216812, Accuracy: 75.45998096466064\n",
      "Epoch 50, CIFAR-10 Batch 4:  Loss: 0.037192486226558685, Accuracy: 76.91998481750488\n",
      "Epoch 50, CIFAR-10 Batch 5:  Loss: 0.009911911562085152, Accuracy: 76.65998339653015\n",
      "Epoch 51, CIFAR-10 Batch 1:  Loss: 0.03979140520095825, Accuracy: 75.67998170852661\n",
      "Epoch 51, CIFAR-10 Batch 2:  Loss: 0.01733551360666752, Accuracy: 75.67999362945557\n",
      "Epoch 51, CIFAR-10 Batch 3:  Loss: 0.03685762733221054, Accuracy: 74.51998591423035\n",
      "Epoch 51, CIFAR-10 Batch 4:  Loss: 0.011513253673911095, Accuracy: 76.6999900341034\n",
      "Epoch 51, CIFAR-10 Batch 5:  Loss: 0.00403631292283535, Accuracy: 75.89998245239258\n",
      "Epoch 52, CIFAR-10 Batch 1:  Loss: 0.02454773522913456, Accuracy: 75.5599856376648\n",
      "Epoch 52, CIFAR-10 Batch 2:  Loss: 0.01583855040371418, Accuracy: 76.13998651504517\n",
      "Epoch 52, CIFAR-10 Batch 3:  Loss: 0.004115772433578968, Accuracy: 75.83997845649719\n",
      "Epoch 52, CIFAR-10 Batch 4:  Loss: 0.015293554402887821, Accuracy: 76.2799859046936\n",
      "Epoch 52, CIFAR-10 Batch 5:  Loss: 0.005702437832951546, Accuracy: 76.19998455047607\n",
      "Epoch 53, CIFAR-10 Batch 1:  Loss: 0.012860567308962345, Accuracy: 76.31998062133789\n",
      "Epoch 53, CIFAR-10 Batch 2:  Loss: 0.012416025623679161, Accuracy: 76.55998468399048\n",
      "Epoch 53, CIFAR-10 Batch 3:  Loss: 0.0022379662841558456, Accuracy: 75.27998089790344\n",
      "Epoch 53, CIFAR-10 Batch 4:  Loss: 0.013996686786413193, Accuracy: 75.39998292922974\n",
      "Epoch 53, CIFAR-10 Batch 5:  Loss: 0.015359802171587944, Accuracy: 76.53998732566833\n",
      "Epoch 54, CIFAR-10 Batch 1:  Loss: 0.00825467798858881, Accuracy: 75.51998496055603\n",
      "Epoch 54, CIFAR-10 Batch 2:  Loss: 0.02044535055756569, Accuracy: 75.67998170852661\n",
      "Epoch 54, CIFAR-10 Batch 3:  Loss: 0.007640434429049492, Accuracy: 76.25998258590698\n",
      "Epoch 54, CIFAR-10 Batch 4:  Loss: 0.008730604313313961, Accuracy: 76.6799807548523\n",
      "Epoch 54, CIFAR-10 Batch 5:  Loss: 0.013015995733439922, Accuracy: 76.2199878692627\n",
      "Epoch 55, CIFAR-10 Batch 1:  Loss: 0.04811514541506767, Accuracy: 75.09998679161072\n",
      "Epoch 55, CIFAR-10 Batch 2:  Loss: 0.011156897991895676, Accuracy: 76.31998658180237\n",
      "Epoch 55, CIFAR-10 Batch 3:  Loss: 0.005205019377171993, Accuracy: 75.7199764251709\n",
      "Epoch 55, CIFAR-10 Batch 4:  Loss: 0.00363868847489357, Accuracy: 76.7599880695343\n",
      "Epoch 55, CIFAR-10 Batch 5:  Loss: 0.008068719878792763, Accuracy: 75.85997581481934\n",
      "Epoch 56, CIFAR-10 Batch 1:  Loss: 0.025607343763113022, Accuracy: 74.97998476028442\n",
      "Epoch 56, CIFAR-10 Batch 2:  Loss: 0.035624757409095764, Accuracy: 75.7999837398529\n",
      "Epoch 56, CIFAR-10 Batch 3:  Loss: 0.004252194426953793, Accuracy: 76.83998346328735\n",
      "Epoch 56, CIFAR-10 Batch 4:  Loss: 0.0095356535166502, Accuracy: 76.47998332977295\n",
      "Epoch 56, CIFAR-10 Batch 5:  Loss: 0.004155455622822046, Accuracy: 76.2199878692627\n",
      "Epoch 57, CIFAR-10 Batch 1:  Loss: 0.020897654816508293, Accuracy: 75.29998421669006\n",
      "Epoch 57, CIFAR-10 Batch 2:  Loss: 0.010226260870695114, Accuracy: 76.05998516082764\n",
      "Epoch 57, CIFAR-10 Batch 3:  Loss: 0.0027487613260746002, Accuracy: 75.91997981071472\n",
      "Epoch 57, CIFAR-10 Batch 4:  Loss: 0.013254208490252495, Accuracy: 76.3799786567688\n",
      "Epoch 57, CIFAR-10 Batch 5:  Loss: 0.003964724484831095, Accuracy: 76.6799807548523\n",
      "Epoch 58, CIFAR-10 Batch 1:  Loss: 0.009662142023444176, Accuracy: 75.97998380661011\n",
      "Epoch 58, CIFAR-10 Batch 2:  Loss: 0.014387737028300762, Accuracy: 75.97998380661011\n",
      "Epoch 58, CIFAR-10 Batch 3:  Loss: 0.0037338428664952517, Accuracy: 76.13998651504517\n",
      "Epoch 58, CIFAR-10 Batch 4:  Loss: 0.005896475166082382, Accuracy: 76.13998055458069\n",
      "Epoch 58, CIFAR-10 Batch 5:  Loss: 0.0037678214721381664, Accuracy: 76.95998549461365\n",
      "Epoch 59, CIFAR-10 Batch 1:  Loss: 0.008211243897676468, Accuracy: 75.77998638153076\n",
      "Epoch 59, CIFAR-10 Batch 2:  Loss: 0.007054136134684086, Accuracy: 76.6799807548523\n",
      "Epoch 59, CIFAR-10 Batch 3:  Loss: 0.01139112003147602, Accuracy: 76.61998271942139\n",
      "Epoch 59, CIFAR-10 Batch 4:  Loss: 0.007191372103989124, Accuracy: 76.53998136520386\n",
      "Epoch 59, CIFAR-10 Batch 5:  Loss: 0.0023500737734138966, Accuracy: 76.99998617172241\n",
      "Epoch 60, CIFAR-10 Batch 1:  Loss: 0.015717435628175735, Accuracy: 75.87999105453491\n",
      "Epoch 60, CIFAR-10 Batch 2:  Loss: 0.005171961151063442, Accuracy: 77.3399829864502\n",
      "Epoch 60, CIFAR-10 Batch 3:  Loss: 0.003579402342438698, Accuracy: 76.27997994422913\n",
      "Epoch 60, CIFAR-10 Batch 4:  Loss: 0.02436639927327633, Accuracy: 76.35998725891113\n",
      "Epoch 60, CIFAR-10 Batch 5:  Loss: 0.004005745984613895, Accuracy: 76.21998190879822\n",
      "Epoch 61, CIFAR-10 Batch 1:  Loss: 0.01630832441151142, Accuracy: 75.83998441696167\n",
      "Epoch 61, CIFAR-10 Batch 2:  Loss: 0.0051979017443954945, Accuracy: 76.4599859714508\n",
      "Epoch 61, CIFAR-10 Batch 3:  Loss: 0.007777421735227108, Accuracy: 76.59997940063477\n",
      "Epoch 61, CIFAR-10 Batch 4:  Loss: 0.005042404867708683, Accuracy: 76.37998461723328\n",
      "Epoch 61, CIFAR-10 Batch 5:  Loss: 0.004762924276292324, Accuracy: 76.4399766921997\n",
      "Epoch 62, CIFAR-10 Batch 1:  Loss: 0.019859554246068, Accuracy: 75.71998238563538\n",
      "Epoch 62, CIFAR-10 Batch 2:  Loss: 0.011750387027859688, Accuracy: 76.57998204231262\n",
      "Epoch 62, CIFAR-10 Batch 3:  Loss: 0.003712531179189682, Accuracy: 76.47997736930847\n",
      "Epoch 62, CIFAR-10 Batch 4:  Loss: 0.0049223811365664005, Accuracy: 76.4599859714508\n",
      "Epoch 62, CIFAR-10 Batch 5:  Loss: 0.006358942948281765, Accuracy: 76.31998658180237\n",
      "Epoch 63, CIFAR-10 Batch 1:  Loss: 0.023456666618585587, Accuracy: 76.21997594833374\n",
      "Epoch 63, CIFAR-10 Batch 2:  Loss: 0.010250357910990715, Accuracy: 75.73997974395752\n",
      "Epoch 63, CIFAR-10 Batch 3:  Loss: 0.008679084479808807, Accuracy: 75.51997900009155\n",
      "Epoch 63, CIFAR-10 Batch 4:  Loss: 0.012644408270716667, Accuracy: 76.13998651504517\n",
      "Epoch 63, CIFAR-10 Batch 5:  Loss: 0.007862548343837261, Accuracy: 76.53997540473938\n",
      "Epoch 64, CIFAR-10 Batch 1:  Loss: 0.008635656908154488, Accuracy: 76.2799859046936\n",
      "Epoch 64, CIFAR-10 Batch 2:  Loss: 0.014581166207790375, Accuracy: 75.83997845649719\n",
      "Epoch 64, CIFAR-10 Batch 3:  Loss: 0.005164290312677622, Accuracy: 76.51997804641724\n",
      "Epoch 64, CIFAR-10 Batch 4:  Loss: 0.003804722335189581, Accuracy: 76.59998536109924\n",
      "Epoch 64, CIFAR-10 Batch 5:  Loss: 0.004587260074913502, Accuracy: 77.05998420715332\n",
      "Epoch 65, CIFAR-10 Batch 1:  Loss: 0.008503830060362816, Accuracy: 76.83998346328735\n",
      "Epoch 65, CIFAR-10 Batch 2:  Loss: 0.00797282811254263, Accuracy: 76.17998123168945\n",
      "Epoch 65, CIFAR-10 Batch 3:  Loss: 0.0059278057888150215, Accuracy: 75.27998089790344\n",
      "Epoch 65, CIFAR-10 Batch 4:  Loss: 0.009253736585378647, Accuracy: 75.87997317314148\n",
      "Epoch 65, CIFAR-10 Batch 5:  Loss: 0.003269562032073736, Accuracy: 76.61998867988586\n",
      "Epoch 66, CIFAR-10 Batch 1:  Loss: 0.009688904508948326, Accuracy: 76.11998319625854\n",
      "Epoch 66, CIFAR-10 Batch 2:  Loss: 0.006507585756480694, Accuracy: 76.33998394012451\n",
      "Epoch 66, CIFAR-10 Batch 3:  Loss: 0.00595455477014184, Accuracy: 76.17998123168945\n",
      "Epoch 66, CIFAR-10 Batch 4:  Loss: 0.017794601619243622, Accuracy: 75.85998177528381\n",
      "Epoch 66, CIFAR-10 Batch 5:  Loss: 0.0055646998807787895, Accuracy: 76.39998197555542\n",
      "Epoch 67, CIFAR-10 Batch 1:  Loss: 0.014375030063092709, Accuracy: 76.07998251914978\n",
      "Epoch 67, CIFAR-10 Batch 2:  Loss: 0.006691009737551212, Accuracy: 77.09997892379761\n",
      "Epoch 67, CIFAR-10 Batch 3:  Loss: 0.0031584673561155796, Accuracy: 75.91997981071472\n",
      "Epoch 67, CIFAR-10 Batch 4:  Loss: 0.0038022880908101797, Accuracy: 76.99998021125793\n",
      "Epoch 67, CIFAR-10 Batch 5:  Loss: 0.0032609892077744007, Accuracy: 76.81998014450073\n",
      "Epoch 68, CIFAR-10 Batch 1:  Loss: 0.006858178414404392, Accuracy: 76.0199785232544\n",
      "Epoch 68, CIFAR-10 Batch 2:  Loss: 0.009993663057684898, Accuracy: 75.75998306274414\n",
      "Epoch 68, CIFAR-10 Batch 3:  Loss: 0.011171374469995499, Accuracy: 76.75998210906982\n",
      "Epoch 68, CIFAR-10 Batch 4:  Loss: 0.008169978857040405, Accuracy: 76.35998129844666\n",
      "Epoch 68, CIFAR-10 Batch 5:  Loss: 0.004176161251962185, Accuracy: 76.83998346328735\n",
      "Epoch 69, CIFAR-10 Batch 1:  Loss: 0.0074479468166828156, Accuracy: 76.29998326301575\n",
      "Epoch 69, CIFAR-10 Batch 2:  Loss: 0.010598196648061275, Accuracy: 77.09997892379761\n",
      "Epoch 69, CIFAR-10 Batch 3:  Loss: 0.0035444237291812897, Accuracy: 76.37998461723328\n",
      "Epoch 69, CIFAR-10 Batch 4:  Loss: 0.006022829562425613, Accuracy: 76.41998529434204\n",
      "Epoch 69, CIFAR-10 Batch 5:  Loss: 0.0027510272338986397, Accuracy: 76.31998062133789\n",
      "Epoch 70, CIFAR-10 Batch 1:  Loss: 0.00974931288510561, Accuracy: 76.01998448371887\n",
      "Epoch 70, CIFAR-10 Batch 2:  Loss: 0.003666150849312544, Accuracy: 76.19998455047607\n",
      "Epoch 70, CIFAR-10 Batch 3:  Loss: 0.0032565216533839703, Accuracy: 76.4599859714508\n",
      "Epoch 70, CIFAR-10 Batch 4:  Loss: 0.006856621243059635, Accuracy: 75.85998177528381\n",
      "Epoch 70, CIFAR-10 Batch 5:  Loss: 0.014680957421660423, Accuracy: 75.63998699188232\n",
      "Epoch 71, CIFAR-10 Batch 1:  Loss: 0.008080449886620045, Accuracy: 76.17998123168945\n",
      "Epoch 71, CIFAR-10 Batch 2:  Loss: 0.004813116043806076, Accuracy: 76.2199878692627\n",
      "Epoch 71, CIFAR-10 Batch 3:  Loss: 0.003245622618123889, Accuracy: 76.95997953414917\n",
      "Epoch 71, CIFAR-10 Batch 4:  Loss: 0.002140181604772806, Accuracy: 76.69998407363892\n",
      "Epoch 71, CIFAR-10 Batch 5:  Loss: 0.005574741400778294, Accuracy: 75.33997893333435\n",
      "Epoch 72, CIFAR-10 Batch 1:  Loss: 0.0030118052382022142, Accuracy: 75.51998496055603\n",
      "Epoch 72, CIFAR-10 Batch 2:  Loss: 0.00848118681460619, Accuracy: 76.19998455047607\n",
      "Epoch 72, CIFAR-10 Batch 3:  Loss: 0.0038632734213024378, Accuracy: 76.15998387336731\n",
      "Epoch 72, CIFAR-10 Batch 4:  Loss: 0.0021473760716617107, Accuracy: 76.79997682571411\n",
      "Epoch 72, CIFAR-10 Batch 5:  Loss: 0.0031804577447474003, Accuracy: 76.99998617172241\n",
      "Epoch 73, CIFAR-10 Batch 1:  Loss: 0.0020465771667659283, Accuracy: 75.95998644828796\n",
      "Epoch 73, CIFAR-10 Batch 2:  Loss: 0.002374691190198064, Accuracy: 77.07998156547546\n",
      "Epoch 73, CIFAR-10 Batch 3:  Loss: 0.006284182891249657, Accuracy: 76.59997940063477\n",
      "Epoch 73, CIFAR-10 Batch 4:  Loss: 0.004072208888828754, Accuracy: 76.33998394012451\n",
      "Epoch 73, CIFAR-10 Batch 5:  Loss: 0.006241980474442244, Accuracy: 75.65998435020447\n",
      "Epoch 74, CIFAR-10 Batch 1:  Loss: 0.012644094415009022, Accuracy: 75.9199857711792\n",
      "Epoch 74, CIFAR-10 Batch 2:  Loss: 0.007463634945452213, Accuracy: 75.05998611450195\n",
      "Epoch 74, CIFAR-10 Batch 3:  Loss: 0.002813437022268772, Accuracy: 76.19998455047607\n",
      "Epoch 74, CIFAR-10 Batch 4:  Loss: 0.0055730608291924, Accuracy: 76.17998719215393\n",
      "Epoch 74, CIFAR-10 Batch 5:  Loss: 0.014319952577352524, Accuracy: 76.41998529434204\n",
      "Epoch 75, CIFAR-10 Batch 1:  Loss: 0.007016691379249096, Accuracy: 75.39997696876526\n",
      "Epoch 75, CIFAR-10 Batch 2:  Loss: 0.009969476610422134, Accuracy: 75.59998035430908\n",
      "Epoch 75, CIFAR-10 Batch 3:  Loss: 0.002329767681658268, Accuracy: 75.85998177528381\n",
      "Epoch 75, CIFAR-10 Batch 4:  Loss: 0.013812929391860962, Accuracy: 76.07998847961426\n",
      "Epoch 75, CIFAR-10 Batch 5:  Loss: 0.006124340929090977, Accuracy: 76.55998468399048\n",
      "Epoch 76, CIFAR-10 Batch 1:  Loss: 0.013415287248790264, Accuracy: 75.23998022079468\n",
      "Epoch 76, CIFAR-10 Batch 2:  Loss: 0.016028862446546555, Accuracy: 75.61997771263123\n",
      "Epoch 76, CIFAR-10 Batch 3:  Loss: 0.0033073434606194496, Accuracy: 76.29998326301575\n",
      "Epoch 76, CIFAR-10 Batch 4:  Loss: 0.0025708561297506094, Accuracy: 76.31998062133789\n",
      "Epoch 76, CIFAR-10 Batch 5:  Loss: 0.004509385675191879, Accuracy: 76.69998407363892\n",
      "Epoch 77, CIFAR-10 Batch 1:  Loss: 0.0026679227594286203, Accuracy: 75.3199815750122\n",
      "Epoch 77, CIFAR-10 Batch 2:  Loss: 0.010793335735797882, Accuracy: 76.29998326301575\n",
      "Epoch 77, CIFAR-10 Batch 3:  Loss: 0.001748169306665659, Accuracy: 76.2199878692627\n",
      "Epoch 77, CIFAR-10 Batch 4:  Loss: 0.006936077494174242, Accuracy: 76.23998522758484\n",
      "Epoch 77, CIFAR-10 Batch 5:  Loss: 0.012907985597848892, Accuracy: 76.33997797966003\n",
      "Epoch 78, CIFAR-10 Batch 1:  Loss: 0.0015373894711956382, Accuracy: 75.57998299598694\n",
      "Epoch 78, CIFAR-10 Batch 2:  Loss: 0.005625094287097454, Accuracy: 77.27998495101929\n",
      "Epoch 78, CIFAR-10 Batch 3:  Loss: 0.001746219932101667, Accuracy: 75.91997981071472\n",
      "Epoch 78, CIFAR-10 Batch 4:  Loss: 0.004754631780087948, Accuracy: 76.31998658180237\n",
      "Epoch 78, CIFAR-10 Batch 5:  Loss: 0.002469124272465706, Accuracy: 76.4399766921997\n",
      "Epoch 79, CIFAR-10 Batch 1:  Loss: 0.016829803586006165, Accuracy: 74.25998449325562\n",
      "Epoch 79, CIFAR-10 Batch 2:  Loss: 0.010601735673844814, Accuracy: 76.15997791290283\n",
      "Epoch 79, CIFAR-10 Batch 3:  Loss: 0.0026494080666452646, Accuracy: 76.83998346328735\n",
      "Epoch 79, CIFAR-10 Batch 4:  Loss: 0.002737978473305702, Accuracy: 76.19998455047607\n",
      "Epoch 79, CIFAR-10 Batch 5:  Loss: 0.002920429687947035, Accuracy: 76.31998658180237\n",
      "Epoch 80, CIFAR-10 Batch 1:  Loss: 0.006713600363582373, Accuracy: 74.67998266220093\n",
      "Epoch 80, CIFAR-10 Batch 2:  Loss: 0.00367237557657063, Accuracy: 77.27997899055481\n",
      "Epoch 80, CIFAR-10 Batch 3:  Loss: 0.023859675973653793, Accuracy: 75.75998306274414\n",
      "Epoch 80, CIFAR-10 Batch 4:  Loss: 0.010211317799985409, Accuracy: 76.51997804641724\n",
      "Epoch 80, CIFAR-10 Batch 5:  Loss: 0.003316385205835104, Accuracy: 76.95998549461365\n",
      "Epoch 81, CIFAR-10 Batch 1:  Loss: 0.008485973812639713, Accuracy: 76.25998258590698\n",
      "Epoch 81, CIFAR-10 Batch 2:  Loss: 0.0023103647399693727, Accuracy: 75.95998644828796\n",
      "Epoch 81, CIFAR-10 Batch 3:  Loss: 0.008804753422737122, Accuracy: 76.11997723579407\n",
      "Epoch 81, CIFAR-10 Batch 4:  Loss: 0.004294494166970253, Accuracy: 76.51998400688171\n",
      "Epoch 81, CIFAR-10 Batch 5:  Loss: 0.003931306768208742, Accuracy: 75.79997777938843\n",
      "Epoch 82, CIFAR-10 Batch 1:  Loss: 0.00528523838147521, Accuracy: 75.81998109817505\n",
      "Epoch 82, CIFAR-10 Batch 2:  Loss: 0.013480507768690586, Accuracy: 76.17998123168945\n",
      "Epoch 82, CIFAR-10 Batch 3:  Loss: 0.0022034370340406895, Accuracy: 75.51999092102051\n",
      "Epoch 82, CIFAR-10 Batch 4:  Loss: 0.0035345032811164856, Accuracy: 76.75998210906982\n",
      "Epoch 82, CIFAR-10 Batch 5:  Loss: 0.0014859021175652742, Accuracy: 76.53998136520386\n",
      "Epoch 83, CIFAR-10 Batch 1:  Loss: 0.008986408822238445, Accuracy: 76.21998190879822\n",
      "Epoch 83, CIFAR-10 Batch 2:  Loss: 0.002900575753301382, Accuracy: 76.0399878025055\n",
      "Epoch 83, CIFAR-10 Batch 3:  Loss: 0.003750760806724429, Accuracy: 76.51997804641724\n",
      "Epoch 83, CIFAR-10 Batch 4:  Loss: 0.0022275696974247694, Accuracy: 76.49998068809509\n",
      "Epoch 83, CIFAR-10 Batch 5:  Loss: 0.004189477767795324, Accuracy: 76.79998874664307\n",
      "Epoch 84, CIFAR-10 Batch 1:  Loss: 0.0030056594405323267, Accuracy: 75.23998022079468\n",
      "Epoch 84, CIFAR-10 Batch 2:  Loss: 0.0023402899969369173, Accuracy: 76.75998210906982\n",
      "Epoch 84, CIFAR-10 Batch 3:  Loss: 0.002135021612048149, Accuracy: 76.43998265266418\n",
      "Epoch 84, CIFAR-10 Batch 4:  Loss: 0.001866174046881497, Accuracy: 77.01998353004456\n",
      "Epoch 84, CIFAR-10 Batch 5:  Loss: 0.001944936579093337, Accuracy: 76.9199788570404\n",
      "Epoch 85, CIFAR-10 Batch 1:  Loss: 0.0016435531433671713, Accuracy: 76.83998346328735\n",
      "Epoch 85, CIFAR-10 Batch 2:  Loss: 0.001675221137702465, Accuracy: 76.65998935699463\n",
      "Epoch 85, CIFAR-10 Batch 3:  Loss: 0.003309571649879217, Accuracy: 76.559978723526\n",
      "Epoch 85, CIFAR-10 Batch 4:  Loss: 0.009988406673073769, Accuracy: 76.3999879360199\n",
      "Epoch 85, CIFAR-10 Batch 5:  Loss: 0.0032437837217003107, Accuracy: 76.51998996734619\n",
      "Epoch 86, CIFAR-10 Batch 1:  Loss: 0.003872005734592676, Accuracy: 76.25998854637146\n",
      "Epoch 86, CIFAR-10 Batch 2:  Loss: 0.006011579651385546, Accuracy: 77.07998156547546\n",
      "Epoch 86, CIFAR-10 Batch 3:  Loss: 0.005219185724854469, Accuracy: 77.27997899055481\n",
      "Epoch 86, CIFAR-10 Batch 4:  Loss: 0.002440891694277525, Accuracy: 76.33997797966003\n",
      "Epoch 86, CIFAR-10 Batch 5:  Loss: 0.0016899597831070423, Accuracy: 77.21998691558838\n",
      "Epoch 87, CIFAR-10 Batch 1:  Loss: 0.00418477738276124, Accuracy: 76.03998184204102\n",
      "Epoch 87, CIFAR-10 Batch 2:  Loss: 0.0015934673137962818, Accuracy: 76.97998285293579\n",
      "Epoch 87, CIFAR-10 Batch 3:  Loss: 0.002618503523990512, Accuracy: 76.81998610496521\n",
      "Epoch 87, CIFAR-10 Batch 4:  Loss: 0.0032692826353013515, Accuracy: 76.7399787902832\n",
      "Epoch 87, CIFAR-10 Batch 5:  Loss: 0.0014659122098237276, Accuracy: 76.51998996734619\n",
      "Epoch 88, CIFAR-10 Batch 1:  Loss: 0.004710280802100897, Accuracy: 75.79997777938843\n",
      "Epoch 88, CIFAR-10 Batch 2:  Loss: 0.0024605600629001856, Accuracy: 76.41997933387756\n",
      "Epoch 88, CIFAR-10 Batch 3:  Loss: 0.0013141202507540584, Accuracy: 76.81998014450073\n",
      "Epoch 88, CIFAR-10 Batch 4:  Loss: 0.001911104191094637, Accuracy: 76.65998935699463\n",
      "Epoch 88, CIFAR-10 Batch 5:  Loss: 0.0023425156250596046, Accuracy: 75.97997784614563\n",
      "Epoch 89, CIFAR-10 Batch 1:  Loss: 0.004145959857851267, Accuracy: 75.45998096466064\n",
      "Epoch 89, CIFAR-10 Batch 2:  Loss: 0.008688485249876976, Accuracy: 76.79998874664307\n",
      "Epoch 89, CIFAR-10 Batch 3:  Loss: 0.0017012536991387606, Accuracy: 76.5799880027771\n",
      "Epoch 89, CIFAR-10 Batch 4:  Loss: 0.003165412461385131, Accuracy: 76.77998542785645\n",
      "Epoch 89, CIFAR-10 Batch 5:  Loss: 0.0014735733857378364, Accuracy: 77.15997695922852\n",
      "Epoch 90, CIFAR-10 Batch 1:  Loss: 0.0020783464424312115, Accuracy: 76.75998210906982\n",
      "Epoch 90, CIFAR-10 Batch 2:  Loss: 0.003411203622817993, Accuracy: 75.47998428344727\n",
      "Epoch 90, CIFAR-10 Batch 3:  Loss: 0.0016553130699321628, Accuracy: 76.37999057769775\n",
      "Epoch 90, CIFAR-10 Batch 4:  Loss: 0.0014959631953388453, Accuracy: 76.79998278617859\n",
      "Epoch 90, CIFAR-10 Batch 5:  Loss: 0.0028734426014125347, Accuracy: 76.53998136520386\n",
      "Epoch 91, CIFAR-10 Batch 1:  Loss: 0.013790419325232506, Accuracy: 76.81998610496521\n",
      "Epoch 91, CIFAR-10 Batch 2:  Loss: 0.0006974622956477106, Accuracy: 76.91998481750488\n",
      "Epoch 91, CIFAR-10 Batch 3:  Loss: 0.004491746891289949, Accuracy: 76.33998394012451\n",
      "Epoch 91, CIFAR-10 Batch 4:  Loss: 0.001548972213640809, Accuracy: 76.61997675895691\n",
      "Epoch 91, CIFAR-10 Batch 5:  Loss: 0.0015984008787199855, Accuracy: 77.31998562812805\n",
      "Epoch 92, CIFAR-10 Batch 1:  Loss: 0.0034593932796269655, Accuracy: 75.33997893333435\n",
      "Epoch 92, CIFAR-10 Batch 2:  Loss: 0.0020030266605317593, Accuracy: 75.91997981071472\n",
      "Epoch 92, CIFAR-10 Batch 3:  Loss: 0.0019806353375315666, Accuracy: 75.27998089790344\n",
      "Epoch 92, CIFAR-10 Batch 4:  Loss: 0.0018963562324643135, Accuracy: 76.17998123168945\n",
      "Epoch 92, CIFAR-10 Batch 5:  Loss: 0.002628575311973691, Accuracy: 76.87997817993164\n",
      "Epoch 93, CIFAR-10 Batch 1:  Loss: 0.0026934691704809666, Accuracy: 75.85998773574829\n",
      "Epoch 93, CIFAR-10 Batch 2:  Loss: 0.0017555546946823597, Accuracy: 77.69998908042908\n",
      "Epoch 93, CIFAR-10 Batch 3:  Loss: 0.0009531365940347314, Accuracy: 76.73998475074768\n",
      "Epoch 93, CIFAR-10 Batch 4:  Loss: 0.004595999605953693, Accuracy: 76.29998326301575\n",
      "Epoch 93, CIFAR-10 Batch 5:  Loss: 0.0034371940419077873, Accuracy: 76.3799786567688\n",
      "Epoch 94, CIFAR-10 Batch 1:  Loss: 0.0037729511968791485, Accuracy: 75.69998502731323\n",
      "Epoch 94, CIFAR-10 Batch 2:  Loss: 0.0010424093343317509, Accuracy: 76.6799807548523\n",
      "Epoch 94, CIFAR-10 Batch 3:  Loss: 0.001099596032872796, Accuracy: 76.99998617172241\n",
      "Epoch 94, CIFAR-10 Batch 4:  Loss: 0.0039433082565665245, Accuracy: 76.39998197555542\n",
      "Epoch 94, CIFAR-10 Batch 5:  Loss: 0.0016224933788180351, Accuracy: 77.89998650550842\n",
      "Epoch 95, CIFAR-10 Batch 1:  Loss: 0.004243573173880577, Accuracy: 76.49998068809509\n",
      "Epoch 95, CIFAR-10 Batch 2:  Loss: 0.0009137314045801759, Accuracy: 76.61998271942139\n",
      "Epoch 95, CIFAR-10 Batch 3:  Loss: 0.0023526200093328953, Accuracy: 77.17998623847961\n",
      "Epoch 95, CIFAR-10 Batch 4:  Loss: 0.0010841245530173182, Accuracy: 77.19998359680176\n",
      "Epoch 95, CIFAR-10 Batch 5:  Loss: 0.0012585861841216683, Accuracy: 76.53998136520386\n",
      "Epoch 96, CIFAR-10 Batch 1:  Loss: 0.004935749806463718, Accuracy: 75.85998177528381\n",
      "Epoch 96, CIFAR-10 Batch 2:  Loss: 0.0007285918109118938, Accuracy: 77.0399808883667\n",
      "Epoch 96, CIFAR-10 Batch 3:  Loss: 0.003036958398297429, Accuracy: 77.35998630523682\n",
      "Epoch 96, CIFAR-10 Batch 4:  Loss: 0.002605088520795107, Accuracy: 77.09997892379761\n",
      "Epoch 96, CIFAR-10 Batch 5:  Loss: 0.006238626316189766, Accuracy: 77.19998359680176\n",
      "Epoch 97, CIFAR-10 Batch 1:  Loss: 0.00124741334002465, Accuracy: 76.11998319625854\n",
      "Epoch 97, CIFAR-10 Batch 2:  Loss: 0.0009805528679862618, Accuracy: 76.69998407363892\n",
      "Epoch 97, CIFAR-10 Batch 3:  Loss: 0.0015144753269851208, Accuracy: 76.7399787902832\n",
      "Epoch 97, CIFAR-10 Batch 4:  Loss: 0.0007231986965052783, Accuracy: 77.05997824668884\n",
      "Epoch 97, CIFAR-10 Batch 5:  Loss: 0.003403938841074705, Accuracy: 76.93997621536255\n",
      "Epoch 98, CIFAR-10 Batch 1:  Loss: 0.005600866861641407, Accuracy: 76.23998522758484\n",
      "Epoch 98, CIFAR-10 Batch 2:  Loss: 0.0007853055140003562, Accuracy: 76.81997418403625\n",
      "Epoch 98, CIFAR-10 Batch 3:  Loss: 0.001439012703485787, Accuracy: 76.57998204231262\n",
      "Epoch 98, CIFAR-10 Batch 4:  Loss: 0.0014718580059707165, Accuracy: 76.89998745918274\n",
      "Epoch 98, CIFAR-10 Batch 5:  Loss: 0.0012960918247699738, Accuracy: 77.13998556137085\n",
      "Epoch 99, CIFAR-10 Batch 1:  Loss: 0.0015165607910603285, Accuracy: 76.57998204231262\n",
      "Epoch 99, CIFAR-10 Batch 2:  Loss: 0.0016011660918593407, Accuracy: 76.31998062133789\n",
      "Epoch 99, CIFAR-10 Batch 3:  Loss: 0.0008779157069511712, Accuracy: 77.21998691558838\n",
      "Epoch 99, CIFAR-10 Batch 4:  Loss: 0.0025345394387841225, Accuracy: 76.65997743606567\n",
      "Epoch 99, CIFAR-10 Batch 5:  Loss: 0.001253386726602912, Accuracy: 77.49998569488525\n",
      "Epoch 100, CIFAR-10 Batch 1:  Loss: 0.006706078536808491, Accuracy: 76.07998251914978\n",
      "Epoch 100, CIFAR-10 Batch 2:  Loss: 0.0008637089049443603, Accuracy: 77.77998447418213\n",
      "Epoch 100, CIFAR-10 Batch 3:  Loss: 0.004147967789322138, Accuracy: 76.89997553825378\n",
      "Epoch 100, CIFAR-10 Batch 4:  Loss: 0.005951386410742998, Accuracy: 76.21998190879822\n",
      "Epoch 100, CIFAR-10 Batch 5:  Loss: 0.0009635962778702378, Accuracy: 77.27998495101929\n"
     ]
    }
   ],
   "source": [
    "\"\"\"\n",
    "DON'T MODIFY ANYTHING IN THIS CELL\n",
    "\"\"\"\n",
    "save_model_path = './image_classification'\n",
    "\n",
    "print('Training...')\n",
    "with tf.Session() as sess:\n",
    "    # Initializing the variables\n",
    "    sess.run(tf.global_variables_initializer())\n",
    "    \n",
    "    # Training cycle\n",
    "    for epoch in range(epochs):\n",
    "        # Loop over all batches\n",
    "        n_batches = 5\n",
    "        for batch_i in range(1, n_batches + 1):\n",
    "            for batch_features, batch_labels in helper.load_preprocess_training_batch(batch_i, batch_size):\n",
    "                train_neural_network(sess, optimizer, keep_probability, batch_features, batch_labels)\n",
    "            print('Epoch {:>2}, CIFAR-10 Batch {}:  '.format(epoch + 1, batch_i), end='')\n",
    "            print_stats(sess, batch_features, batch_labels, cost, accuracy)\n",
    "            \n",
    "    # Save Model\n",
    "    saver = tf.train.Saver()\n",
    "    save_path = saver.save(sess, save_model_path)"
   ]
  },
  {
   "cell_type": "markdown",
   "metadata": {
    "deletable": true,
    "editable": true
   },
   "source": [
    "# Checkpoint\n",
    "The model has been saved to disk.\n",
    "## Test Model\n",
    "Test your model against the test dataset.  This will be your final accuracy. You should have an accuracy greater than 50%. If you don't, keep tweaking the model architecture and parameters."
   ]
  },
  {
   "cell_type": "code",
   "execution_count": 19,
   "metadata": {
    "collapsed": false,
    "deletable": true,
    "editable": true
   },
   "outputs": [
    {
     "name": "stdout",
     "output_type": "stream",
     "text": [
      "Testing Accuracy: 0.7678995253164557\n",
      "\n"
     ]
    },
    {
     "data": {
      "image/png": "[encoded data removed]",
      "text/plain": [
       "<matplotlib.figure.Figure at 0x7f6dfbf1c1d0>"
      ]
     },
     "metadata": {
      "image/png": {
       "height": 319,
       "width": 355
      }
     },
     "output_type": "display_data"
    }
   ],
   "source": [
    "\"\"\"\n",
    "DON'T MODIFY ANYTHING IN THIS CELL\n",
    "\"\"\"\n",
    "%matplotlib inline\n",
    "%config InlineBackend.figure_format = 'retina'\n",
    "\n",
    "import tensorflow as tf\n",
    "import pickle\n",
    "import helper\n",
    "import random\n",
    "\n",
    "# Set batch size if not already set\n",
    "try:\n",
    "    if batch_size:\n",
    "        pass\n",
    "except NameError:\n",
    "    batch_size = 64\n",
    "\n",
    "save_model_path = './image_classification'\n",
    "n_samples = 4\n",
    "top_n_predictions = 3\n",
    "\n",
    "def test_model():\n",
    "    \"\"\"\n",
    "    Test the saved model against the test dataset\n",
    "    \"\"\"\n",
    "\n",
    "    test_features, test_labels = pickle.load(open('preprocess_test.p', mode='rb'))\n",
    "    loaded_graph = tf.Graph()\n",
    "\n",
    "    with tf.Session(graph=loaded_graph) as sess:\n",
    "        # Load model\n",
    "        loader = tf.train.import_meta_graph(save_model_path + '.meta')\n",
    "        loader.restore(sess, save_model_path)\n",
    "\n",
    "        # Get Tensors from loaded model\n",
    "        loaded_x = loaded_graph.get_tensor_by_name('x:0')\n",
    "        loaded_y = loaded_graph.get_tensor_by_name('y:0')\n",
    "        loaded_keep_prob = loaded_graph.get_tensor_by_name('keep_prob:0')\n",
    "        loaded_logits = loaded_graph.get_tensor_by_name('logits:0')\n",
    "        loaded_acc = loaded_graph.get_tensor_by_name('accuracy:0')\n",
    "        \n",
    "        # Get accuracy in batches for memory limitations\n",
    "        test_batch_acc_total = 0\n",
    "        test_batch_count = 0\n",
    "        \n",
    "        for test_feature_batch, test_label_batch in helper.batch_features_labels(test_features, test_labels, batch_size):\n",
    "            test_batch_acc_total += sess.run(\n",
    "                loaded_acc,\n",
    "                feed_dict={loaded_x: test_feature_batch, loaded_y: test_label_batch, loaded_keep_prob: 1.0})\n",
    "            test_batch_count += 1\n",
    "\n",
    "        print('Testing Accuracy: {}\\n'.format(test_batch_acc_total/test_batch_count))\n",
    "\n",
    "        # Print Random Samples\n",
    "        random_test_features, random_test_labels = tuple(zip(*random.sample(list(zip(test_features, test_labels)), n_samples)))\n",
    "        random_test_predictions = sess.run(\n",
    "            tf.nn.top_k(tf.nn.softmax(loaded_logits), top_n_predictions),\n",
    "            feed_dict={loaded_x: random_test_features, loaded_y: random_test_labels, loaded_keep_prob: 1.0})\n",
    "        helper.display_image_predictions(random_test_features, random_test_labels, random_test_predictions)\n",
    "\n",
    "\n",
    "test_model()"
   ]
  },
  {
   "cell_type": "markdown",
   "metadata": {
    "deletable": true,
    "editable": true
   },
   "source": [
    "## Why 50-80% Accuracy?\n",
    "You might be wondering why you can't get an accuracy any higher. First things first, 50% isn't bad for a simple CNN.  Pure guessing would get you 10% accuracy. However, you might notice people are getting scores [well above 80%](http://rodrigob.github.io/are_we_there_yet/build/classification_datasets_results.html#43494641522d3130).  That's because we haven't taught you all there is to know about neural networks. We still need to cover a few more techniques.\n",
    "## Submitting This Project\n",
    "When submitting this project, make sure to run all the cells before saving the notebook.  Save the notebook file as \"dlnd_image_classification.ipynb\" and save it as a HTML file under \"File\" -> \"Download as\".  Include the \"helper.py\" and \"problem_unittests.py\" files in your submission."
   ]
  }
 ],
 "metadata": {
  "kernelspec": {
   "display_name": "Python 3",
   "language": "python",
   "name": "python3"
  },
  "language_info": {
   "codemirror_mode": {
    "name": "ipython",
    "version": 3
   },
   "file_extension": ".py",
   "mimetype": "text/x-python",
   "name": "python",
   "nbconvert_exporter": "python",
   "pygments_lexer": "ipython3",
   "version": "3.5.3"
  }
 },
 "nbformat": 4,
 "nbformat_minor": 0
}
