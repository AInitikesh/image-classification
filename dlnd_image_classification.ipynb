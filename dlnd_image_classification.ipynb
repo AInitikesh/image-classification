{
 "cells": [
  {
   "cell_type": "markdown",
   "metadata": {
    "collapsed": true,
    "deletable": true,
    "editable": true
   },
   "source": [
    "# Image Classification\n",
    "In this project, you'll classify images from the [CIFAR-10 dataset](https://www.cs.toronto.edu/~kriz/cifar.html).  The dataset consists of airplanes, dogs, cats, and other objects. You'll preprocess the images, then train a convolutional neural network on all the samples. The images need to be normalized and the labels need to be one-hot encoded.  You'll get to apply what you learned and build a convolutional, max pooling, dropout, and fully connected layers.  At the end, you'll get to see your neural network's predictions on the sample images.\n",
    "## Get the Data\n",
    "Run the following cell to download the [CIFAR-10 dataset for python](https://www.cs.toronto.edu/~kriz/cifar-10-python.tar.gz)."
   ]
  },
  {
   "cell_type": "code",
   "execution_count": 1,
   "metadata": {
    "collapsed": false,
    "deletable": true,
    "editable": true
   },
   "outputs": [
    {
     "name": "stdout",
     "output_type": "stream",
     "text": [
      "All files found!\n"
     ]
    }
   ],
   "source": [
    "\"\"\"\n",
    "DON'T MODIFY ANYTHING IN THIS CELL THAT IS BELOW THIS LINE\n",
    "\"\"\"\n",
    "from urllib.request import urlretrieve\n",
    "from os.path import isfile, isdir\n",
    "from tqdm import tqdm\n",
    "import problem_unittests as tests\n",
    "import tarfile\n",
    "\n",
    "cifar10_dataset_folder_path = 'cifar-10-batches-py'\n",
    "\n",
    "# Use Floyd's cifar-10 dataset if present\n",
    "floyd_cifar10_location = '/input/cifar-10/python.tar.gz'\n",
    "if isfile(floyd_cifar10_location):\n",
    "    tar_gz_path = floyd_cifar10_location\n",
    "else:\n",
    "    tar_gz_path = 'cifar-10-python.tar.gz'\n",
    "\n",
    "class DLProgress(tqdm):\n",
    "    last_block = 0\n",
    "\n",
    "    def hook(self, block_num=1, block_size=1, total_size=None):\n",
    "        self.total = total_size\n",
    "        self.update((block_num - self.last_block) * block_size)\n",
    "        self.last_block = block_num\n",
    "\n",
    "if not isfile(tar_gz_path):\n",
    "    with DLProgress(unit='B', unit_scale=True, miniters=1, desc='CIFAR-10 Dataset') as pbar:\n",
    "        urlretrieve(\n",
    "            'https://www.cs.toronto.edu/~kriz/cifar-10-python.tar.gz',\n",
    "            tar_gz_path,\n",
    "            pbar.hook)\n",
    "\n",
    "if not isdir(cifar10_dataset_folder_path):\n",
    "    with tarfile.open(tar_gz_path) as tar:\n",
    "        tar.extractall()\n",
    "        tar.close()\n",
    "\n",
    "\n",
    "tests.test_folder_path(cifar10_dataset_folder_path)"
   ]
  },
  {
   "cell_type": "markdown",
   "metadata": {
    "deletable": true,
    "editable": true
   },
   "source": [
    "## Explore the Data\n",
    "The dataset is broken into batches to prevent your machine from running out of memory.  The CIFAR-10 dataset consists of 5 batches, named `data_batch_1`, `data_batch_2`, etc.. Each batch contains the labels and images that are one of the following:\n",
    "* airplane\n",
    "* automobile\n",
    "* bird\n",
    "* cat\n",
    "* deer\n",
    "* dog\n",
    "* frog\n",
    "* horse\n",
    "* ship\n",
    "* truck\n",
    "\n",
    "Understanding a dataset is part of making predictions on the data.  Play around with the code cell below by changing the `batch_id` and `sample_id`. The `batch_id` is the id for a batch (1-5). The `sample_id` is the id for a image and label pair in the batch.\n",
    "\n",
    "Ask yourself \"What are all possible labels?\", \"What is the range of values for the image data?\", \"Are the labels in order or random?\".  Answers to questions like these will help you preprocess the data and end up with better predictions."
   ]
  },
  {
   "cell_type": "code",
   "execution_count": 2,
   "metadata": {
    "collapsed": false,
    "deletable": true,
    "editable": true
   },
   "outputs": [
    {
     "name": "stdout",
     "output_type": "stream",
     "text": [
      "\n",
      "Stats of batch 1:\n",
      "Samples: 10000\n",
      "Label Counts: {0: 1005, 1: 974, 2: 1032, 3: 1016, 4: 999, 5: 937, 6: 1030, 7: 1001, 8: 1025, 9: 981}\n",
      "First 20 Labels: [6, 9, 9, 4, 1, 1, 2, 7, 8, 3, 4, 7, 7, 2, 9, 9, 9, 3, 2, 6]\n",
      "\n",
      "Example of Image 5:\n",
      "Image - Min Value: 0 Max Value: 252\n",
      "Image - Shape: (32, 32, 3)\n",
      "Label - Label Id: 1 Name: automobile\n"
     ]
    },
    {
     "data": {
      "image/png": "[encoded data removed]",
      "text/plain": [
       "<matplotlib.figure.Figure at 0x7f836e4b6940>"
      ]
     },
     "metadata": {
      "image/png": {
       "height": 250,
       "width": 253
      }
     },
     "output_type": "display_data"
    }
   ],
   "source": [
    "%matplotlib inline\n",
    "%config InlineBackend.figure_format = 'retina'\n",
    "\n",
    "import helper\n",
    "import numpy as np\n",
    "\n",
    "# Explore the dataset\n",
    "batch_id = 1\n",
    "sample_id = 5\n",
    "helper.display_stats(cifar10_dataset_folder_path, batch_id, sample_id)"
   ]
  },
  {
   "cell_type": "markdown",
   "metadata": {
    "deletable": true,
    "editable": true
   },
   "source": [
    "## Implement Preprocess Functions\n",
    "### Normalize\n",
    "In the cell below, implement the `normalize` function to take in image data, `x`, and return it as a normalized Numpy array. The values should be in the range of 0 to 1, inclusive.  The return object should be the same shape as `x`."
   ]
  },
  {
   "cell_type": "code",
   "execution_count": 3,
   "metadata": {
    "collapsed": false,
    "deletable": true,
    "editable": true
   },
   "outputs": [
    {
     "name": "stdout",
     "output_type": "stream",
     "text": [
      "Tests Passed\n"
     ]
    }
   ],
   "source": [
    "def normalize(x):\n",
    "    \"\"\"\n",
    "    Normalize a list of sample image data in the range of 0 to 1\n",
    "    : x: List of image data.  The image shape is (32, 32, 3)\n",
    "    : return: Numpy array of normalize data\n",
    "    \"\"\"\n",
    "    # TODO: Implement Function\n",
    "    return x / 255\n",
    "\n",
    "\n",
    "\"\"\"\n",
    "DON'T MODIFY ANYTHING IN THIS CELL THAT IS BELOW THIS LINE\n",
    "\"\"\"\n",
    "tests.test_normalize(normalize)"
   ]
  },
  {
   "cell_type": "markdown",
   "metadata": {
    "deletable": true,
    "editable": true
   },
   "source": [
    "### One-hot encode\n",
    "Just like the previous code cell, you'll be implementing a function for preprocessing.  This time, you'll implement the `one_hot_encode` function. The input, `x`, are a list of labels.  Implement the function to return the list of labels as One-Hot encoded Numpy array.  The possible values for labels are 0 to 9. The one-hot encoding function should return the same encoding for each value between each call to `one_hot_encode`.  Make sure to save the map of encodings outside the function.\n",
    "\n",
    "Hint: Don't reinvent the wheel."
   ]
  },
  {
   "cell_type": "code",
   "execution_count": 4,
   "metadata": {
    "collapsed": false,
    "deletable": true,
    "editable": true
   },
   "outputs": [
    {
     "name": "stdout",
     "output_type": "stream",
     "text": [
      "Tests Passed\n"
     ]
    }
   ],
   "source": [
    "def one_hot_encode(x):\n",
    "    \"\"\"\n",
    "    One hot encode a list of sample labels. Return a one-hot encoded vector for each label.\n",
    "    : x: List of sample Labels\n",
    "    : return: Numpy array of one-hot encoded labels\n",
    "    \"\"\"\n",
    "    # TODO: Implement Function\n",
    "    arr = np.zeros((len(x), 10))\n",
    "    for i, element in enumerate(x):\n",
    "        arr[i][element] = 1\n",
    "    return arr\n",
    "\n",
    "\n",
    "\"\"\"\n",
    "DON'T MODIFY ANYTHING IN THIS CELL THAT IS BELOW THIS LINE\n",
    "\"\"\"\n",
    "tests.test_one_hot_encode(one_hot_encode)"
   ]
  },
  {
   "cell_type": "markdown",
   "metadata": {
    "deletable": true,
    "editable": true
   },
   "source": [
    "### Randomize Data\n",
    "As you saw from exploring the data above, the order of the samples are randomized.  It doesn't hurt to randomize it again, but you don't need to for this dataset."
   ]
  },
  {
   "cell_type": "markdown",
   "metadata": {
    "deletable": true,
    "editable": true
   },
   "source": [
    "## Preprocess all the data and save it\n",
    "Running the code cell below will preprocess all the CIFAR-10 data and save it to file. The code below also uses 10% of the training data for validation."
   ]
  },
  {
   "cell_type": "code",
   "execution_count": 5,
   "metadata": {
    "collapsed": false,
    "deletable": true,
    "editable": true
   },
   "outputs": [],
   "source": [
    "\"\"\"\n",
    "DON'T MODIFY ANYTHING IN THIS CELL\n",
    "\"\"\"\n",
    "# Preprocess Training, Validation, and Testing Data\n",
    "helper.preprocess_and_save_data(cifar10_dataset_folder_path, normalize, one_hot_encode)"
   ]
  },
  {
   "cell_type": "markdown",
   "metadata": {
    "deletable": true,
    "editable": true
   },
   "source": [
    "# Check Point\n",
    "This is your first checkpoint.  If you ever decide to come back to this notebook or have to restart the notebook, you can start from here.  The preprocessed data has been saved to disk."
   ]
  },
  {
   "cell_type": "code",
   "execution_count": 6,
   "metadata": {
    "collapsed": true,
    "deletable": true,
    "editable": true
   },
   "outputs": [],
   "source": [
    "\"\"\"\n",
    "DON'T MODIFY ANYTHING IN THIS CELL\n",
    "\"\"\"\n",
    "import pickle\n",
    "import problem_unittests as tests\n",
    "import helper\n",
    "\n",
    "# Load the Preprocessed Validation data\n",
    "valid_features, valid_labels = pickle.load(open('preprocess_validation.p', mode='rb'))"
   ]
  },
  {
   "cell_type": "markdown",
   "metadata": {
    "deletable": true,
    "editable": true
   },
   "source": [
    "## Build the network\n",
    "For the neural network, you'll build each layer into a function.  Most of the code you've seen has been outside of functions. To test your code more thoroughly, we require that you put each layer in a function.  This allows us to give you better feedback and test for simple mistakes using our unittests before you submit your project.\n",
    "\n",
    ">**Note:** If you're finding it hard to dedicate enough time for this course each week, we've provided a small shortcut to this part of the project. In the next couple of problems, you'll have the option to use classes from the [TensorFlow Layers](https://www.tensorflow.org/api_docs/python/tf/layers) or [TensorFlow Layers (contrib)](https://www.tensorflow.org/api_guides/python/contrib.layers) packages to build each layer, except the layers you build in the \"Convolutional and Max Pooling Layer\" section.  TF Layers is similar to Keras's and TFLearn's abstraction to layers, so it's easy to pickup.\n",
    "\n",
    ">However, if you would like to get the most out of this course, try to solve all the problems _without_ using anything from the TF Layers packages. You **can** still use classes from other packages that happen to have the same name as ones you find in TF Layers! For example, instead of using the TF Layers version of the `conv2d` class, [tf.layers.conv2d](https://www.tensorflow.org/api_docs/python/tf/layers/conv2d), you would want to use the TF Neural Network version of `conv2d`, [tf.nn.conv2d](https://www.tensorflow.org/api_docs/python/tf/nn/conv2d). \n",
    "\n",
    "Let's begin!\n",
    "\n",
    "### Input\n",
    "The neural network needs to read the image data, one-hot encoded labels, and dropout keep probability. Implement the following functions\n",
    "* Implement `neural_net_image_input`\n",
    " * Return a [TF Placeholder](https://www.tensorflow.org/api_docs/python/tf/placeholder)\n",
    " * Set the shape using `image_shape` with batch size set to `None`.\n",
    " * Name the TensorFlow placeholder \"x\" using the TensorFlow `name` parameter in the [TF Placeholder](https://www.tensorflow.org/api_docs/python/tf/placeholder).\n",
    "* Implement `neural_net_label_input`\n",
    " * Return a [TF Placeholder](https://www.tensorflow.org/api_docs/python/tf/placeholder)\n",
    " * Set the shape using `n_classes` with batch size set to `None`.\n",
    " * Name the TensorFlow placeholder \"y\" using the TensorFlow `name` parameter in the [TF Placeholder](https://www.tensorflow.org/api_docs/python/tf/placeholder).\n",
    "* Implement `neural_net_keep_prob_input`\n",
    " * Return a [TF Placeholder](https://www.tensorflow.org/api_docs/python/tf/placeholder) for dropout keep probability.\n",
    " * Name the TensorFlow placeholder \"keep_prob\" using the TensorFlow `name` parameter in the [TF Placeholder](https://www.tensorflow.org/api_docs/python/tf/placeholder).\n",
    "\n",
    "These names will be used at the end of the project to load your saved model.\n",
    "\n",
    "Note: `None` for shapes in TensorFlow allow for a dynamic size."
   ]
  },
  {
   "cell_type": "code",
   "execution_count": 7,
   "metadata": {
    "collapsed": false,
    "deletable": true,
    "editable": true
   },
   "outputs": [
    {
     "name": "stdout",
     "output_type": "stream",
     "text": [
      "Image Input Tests Passed.\n",
      "Label Input Tests Passed.\n",
      "Keep Prob Tests Passed.\n"
     ]
    }
   ],
   "source": [
    "import tensorflow as tf\n",
    "\n",
    "def neural_net_image_input(image_shape):\n",
    "    \"\"\"\n",
    "    Return a Tensor for a batch of image input\n",
    "    : image_shape: Shape of the images\n",
    "    : return: Tensor for image input.\n",
    "    \"\"\"\n",
    "    # TODO: Implement Function\n",
    "    return tf.placeholder(tf.float32,shape=[None, image_shape[0], image_shape[1], image_shape[2]], name=\"x\")\n",
    "\n",
    "\n",
    "def neural_net_label_input(n_classes):\n",
    "    \"\"\"\n",
    "    Return a Tensor for a batch of label input\n",
    "    : n_classes: Number of classes\n",
    "    : return: Tensor for label input.\n",
    "    \"\"\"\n",
    "    # TODO: Implement Function\n",
    "    return tf.placeholder(tf.float32,shape=[None, n_classes], name=\"y\")\n",
    "\n",
    "\n",
    "def neural_net_keep_prob_input():\n",
    "    \"\"\"\n",
    "    Return a Tensor for keep probability\n",
    "    : return: Tensor for keep probability.\n",
    "    \"\"\"\n",
    "    # TODO: Implement Function\n",
    "    return tf.placeholder(tf.float32, name=\"keep_prob\")\n",
    "\n",
    "\n",
    "\"\"\"\n",
    "DON'T MODIFY ANYTHING IN THIS CELL THAT IS BELOW THIS LINE\n",
    "\"\"\"\n",
    "tf.reset_default_graph()\n",
    "tests.test_nn_image_inputs(neural_net_image_input)\n",
    "tests.test_nn_label_inputs(neural_net_label_input)\n",
    "tests.test_nn_keep_prob_inputs(neural_net_keep_prob_input)"
   ]
  },
  {
   "cell_type": "markdown",
   "metadata": {
    "deletable": true,
    "editable": true
   },
   "source": [
    "### Convolution and Max Pooling Layer\n",
    "Convolution layers have a lot of success with images. For this code cell, you should implement the function `conv2d_maxpool` to apply convolution then max pooling:\n",
    "* Create the weight and bias using `conv_ksize`, `conv_num_outputs` and the shape of `x_tensor`.\n",
    "* Apply a convolution to `x_tensor` using weight and `conv_strides`.\n",
    " * We recommend you use same padding, but you're welcome to use any padding.\n",
    "* Add bias\n",
    "* Add a nonlinear activation to the convolution.\n",
    "* Apply Max Pooling using `pool_ksize` and `pool_strides`.\n",
    " * We recommend you use same padding, but you're welcome to use any padding.\n",
    "\n",
    "**Note:** You **can't** use [TensorFlow Layers](https://www.tensorflow.org/api_docs/python/tf/layers) or [TensorFlow Layers (contrib)](https://www.tensorflow.org/api_guides/python/contrib.layers) for **this** layer, but you can still use TensorFlow's [Neural Network](https://www.tensorflow.org/api_docs/python/tf/nn) package. You may still use the shortcut option for all the **other** layers."
   ]
  },
  {
   "cell_type": "code",
   "execution_count": 8,
   "metadata": {
    "collapsed": false,
    "deletable": true,
    "editable": true
   },
   "outputs": [
    {
     "name": "stdout",
     "output_type": "stream",
     "text": [
      "Tests Passed\n"
     ]
    }
   ],
   "source": [
    "def conv2d_maxpool(x_tensor, conv_num_outputs, conv_ksize, conv_strides, pool_ksize, pool_strides):\n",
    "    \"\"\"\n",
    "    Apply convolution then max pooling to x_tensor\n",
    "    :param x_tensor: TensorFlow Tensor\n",
    "    :param conv_num_outputs: Number of outputs for the convolutional layer\n",
    "    :param conv_ksize: kernal size 2-D Tuple for the convolutional layer\n",
    "    :param conv_strides: Stride 2-D Tuple for convolution\n",
    "    :param pool_ksize: kernal size 2-D Tuple for pool\n",
    "    :param pool_strides: Stride 2-D Tuple for pool\n",
    "    : return: A tensor that represents convolution and max pooling of x_tensor\n",
    "    \"\"\"\n",
    "    # TODO: Implement Function\n",
    "    conv_w = tf.Variable(tf.truncated_normal([conv_ksize[0], conv_ksize[1], x_tensor.get_shape().as_list()[3], conv_num_outputs], stddev=0.04))\n",
    "    conv_b = tf.Variable(tf.zeros((conv_num_outputs)))\n",
    "    #conv_b = tf.Variable(tf.constant(0.1, shape=[conv_num_outputs]))\n",
    "    \n",
    "    x_tensor = tf.nn.conv2d(x_tensor, conv_w, strides=[1, conv_strides[0], conv_strides[1], 1], padding=\"SAME\") \n",
    "    x_tensor = tf.nn.bias_add(x_tensor, conv_b)\n",
    "    x_tensor = tf.nn.relu(x_tensor)\n",
    "    x_tensor = tf.nn.max_pool(x_tensor , ksize=[1, pool_ksize[0], pool_ksize[0], 1], strides=[1, pool_strides[0], pool_strides[1], 1], padding='SAME' )\n",
    "    return x_tensor \n",
    "\n",
    "\n",
    "\"\"\"\n",
    "DON'T MODIFY ANYTHING IN THIS CELL THAT IS BELOW THIS LINE\n",
    "\"\"\"\n",
    "tests.test_con_pool(conv2d_maxpool)"
   ]
  },
  {
   "cell_type": "markdown",
   "metadata": {
    "deletable": true,
    "editable": true
   },
   "source": [
    "### Flatten Layer\n",
    "Implement the `flatten` function to change the dimension of `x_tensor` from a 4-D tensor to a 2-D tensor.  The output should be the shape (*Batch Size*, *Flattened Image Size*). Shortcut option: you can use classes from the [TensorFlow Layers](https://www.tensorflow.org/api_docs/python/tf/layers) or [TensorFlow Layers (contrib)](https://www.tensorflow.org/api_guides/python/contrib.layers) packages for this layer. For more of a challenge, only use other TensorFlow packages."
   ]
  },
  {
   "cell_type": "code",
   "execution_count": 9,
   "metadata": {
    "collapsed": false,
    "deletable": true,
    "editable": true,
    "scrolled": true
   },
   "outputs": [
    {
     "name": "stdout",
     "output_type": "stream",
     "text": [
      "Tests Passed\n"
     ]
    }
   ],
   "source": [
    "def flatten(x_tensor):\n",
    "    \"\"\"\n",
    "    Flatten x_tensor to (Batch Size, Flattened Image Size)\n",
    "    : x_tensor: A tensor of size (Batch Size, ...), where ... are the image dimensions.\n",
    "    : return: A tensor of size (Batch Size, Flattened Image Size).\n",
    "    \"\"\"\n",
    "    # TODO: Implement Function\n",
    "    return  tf.reshape(x_tensor, [-1, np.prod(np.array(x_tensor.get_shape()[1:].as_list()))])\n",
    "\n",
    "\"\"\"\n",
    "DON'T MODIFY ANYTHING IN THIS CELL THAT IS BELOW THIS LINE\n",
    "\"\"\"\n",
    "tests.test_flatten(flatten)"
   ]
  },
  {
   "cell_type": "markdown",
   "metadata": {
    "deletable": true,
    "editable": true
   },
   "source": [
    "### Fully-Connected Layer\n",
    "Implement the `fully_conn` function to apply a fully connected layer to `x_tensor` with the shape (*Batch Size*, *num_outputs*). Shortcut option: you can use classes from the [TensorFlow Layers](https://www.tensorflow.org/api_docs/python/tf/layers) or [TensorFlow Layers (contrib)](https://www.tensorflow.org/api_guides/python/contrib.layers) packages for this layer. For more of a challenge, only use other TensorFlow packages."
   ]
  },
  {
   "cell_type": "code",
   "execution_count": 10,
   "metadata": {
    "collapsed": false,
    "deletable": true,
    "editable": true
   },
   "outputs": [
    {
     "name": "stdout",
     "output_type": "stream",
     "text": [
      "Tests Passed\n"
     ]
    }
   ],
   "source": [
    "def fully_conn(x_tensor, num_outputs):\n",
    "    \"\"\"\n",
    "    Apply a fully connected layer to x_tensor using weight and bias\n",
    "    : x_tensor: A 2-D tensor where the first dimension is batch size.\n",
    "    : num_outputs: The number of output that the new tensor should be.\n",
    "    : return: A 2-D tensor where the second dimension is num_outputs.\n",
    "    \"\"\"\n",
    "    # TODO: Implement Function\n",
    "    \n",
    "    W = tf.Variable(tf.truncated_normal([x_tensor.get_shape().as_list()[1], num_outputs],stddev=0.04))    \n",
    "    B = tf.Variable(tf.zeros((num_outputs)))\n",
    "    return tf.add(tf.matmul(x_tensor , W), B)\n",
    "\n",
    "\n",
    "\"\"\"\n",
    "DON'T MODIFY ANYTHING IN THIS CELL THAT IS BELOW THIS LINE\n",
    "\"\"\"\n",
    "tests.test_fully_conn(fully_conn)"
   ]
  },
  {
   "cell_type": "markdown",
   "metadata": {
    "deletable": true,
    "editable": true
   },
   "source": [
    "### Output Layer\n",
    "Implement the `output` function to apply a fully connected layer to `x_tensor` with the shape (*Batch Size*, *num_outputs*). Shortcut option: you can use classes from the [TensorFlow Layers](https://www.tensorflow.org/api_docs/python/tf/layers) or [TensorFlow Layers (contrib)](https://www.tensorflow.org/api_guides/python/contrib.layers) packages for this layer. For more of a challenge, only use other TensorFlow packages.\n",
    "\n",
    "**Note:** Activation, softmax, or cross entropy should **not** be applied to this."
   ]
  },
  {
   "cell_type": "code",
   "execution_count": 11,
   "metadata": {
    "collapsed": false,
    "deletable": true,
    "editable": true
   },
   "outputs": [
    {
     "name": "stdout",
     "output_type": "stream",
     "text": [
      "Tests Passed\n"
     ]
    }
   ],
   "source": [
    "def output(x_tensor, num_outputs):\n",
    "    \"\"\"\n",
    "    Apply a output layer to x_tensor using weight and bias\n",
    "    : x_tensor: A 2-D tensor where the first dimension is batch size.\n",
    "    : num_outputs: The number of output that the new tensor should be.\n",
    "    : return: A 2-D tensor where the second dimension is num_outputs.\n",
    "    \"\"\"\n",
    "    W = tf.Variable(tf.truncated_normal([x_tensor.get_shape().as_list()[1], num_outputs], stddev=0.04))    \n",
    "    B = tf.Variable(tf.zeros((num_outputs)))\n",
    "    return tf.add(tf.matmul(x_tensor , W), B)\n",
    "\n",
    "\n",
    "\"\"\"\n",
    "DON'T MODIFY ANYTHING IN THIS CELL THAT IS BELOW THIS LINE\n",
    "\"\"\"\n",
    "tests.test_output(output)"
   ]
  },
  {
   "cell_type": "markdown",
   "metadata": {
    "deletable": true,
    "editable": true
   },
   "source": [
    "### Create Convolutional Model\n",
    "Implement the function `conv_net` to create a convolutional neural network model. The function takes in a batch of images, `x`, and outputs logits.  Use the layers you created above to create this model:\n",
    "\n",
    "* Apply 1, 2, or 3 Convolution and Max Pool layers\n",
    "* Apply a Flatten Layer\n",
    "* Apply 1, 2, or 3 Fully Connected Layers\n",
    "* Apply an Output Layer\n",
    "* Return the output\n",
    "* Apply [TensorFlow's Dropout](https://www.tensorflow.org/api_docs/python/tf/nn/dropout) to one or more layers in the model using `keep_prob`. "
   ]
  },
  {
   "cell_type": "code",
   "execution_count": 12,
   "metadata": {
    "collapsed": false,
    "deletable": true,
    "editable": true
   },
   "outputs": [
    {
     "name": "stdout",
     "output_type": "stream",
     "text": [
      "Neural Network Built!\n"
     ]
    }
   ],
   "source": [
    "def conv_net(x, keep_prob):\n",
    "    \"\"\"\n",
    "    Create a convolutional neural network model\n",
    "    : x: Placeholder tensor that holds image data.\n",
    "    : keep_prob: Placeholder tensor that hold dropout keep probability.\n",
    "    : return: Tensor that represents logits\n",
    "    \"\"\"\n",
    "    # TODO: Apply 1, 2, or 3 Convolution and Max Pool layers\n",
    "    #    Play around with different number of outputs, kernel size and stride\n",
    "    # Function Definition from Above:\n",
    "    #    conv2d_maxpool(x_tensor, conv_num_outputs, conv_ksize, conv_strides, pool_ksize, pool_strides)\n",
    "    x = conv2d_maxpool(x, 64,[5,5],[1,1],[3,3],[2,2])\n",
    "    x = tf.nn.dropout(x, keep_prob)\n",
    "    x = conv2d_maxpool(x, 64,[5,5],[1,1],[3,3],[2,2])\n",
    "    \n",
    "\n",
    "    # TODO: Apply a Flatten Layer\n",
    "    # Function Definition from Above:\n",
    "    #   flatten(x_tensor)\n",
    "    x = flatten(x)\n",
    "\n",
    "    # TODO: Apply 1, 2, or 3 Fully Connected Layers\n",
    "    #    Play around with different number of outputs\n",
    "    # Function Definition from Above:\n",
    "    #   fully_conn(x_tensor, num_outputs)\n",
    "    x = fully_conn(x, 600)\n",
    "    x = tf.nn.dropout(x, keep_prob)\n",
    "    x = fully_conn(x, 200)\n",
    "\n",
    "    # TODO: Apply an Output Layer\n",
    "    #    Set this to the number of classes\n",
    "    # Function Definition from Above:\n",
    "    #   output(x_tensor, num_outputs)\n",
    "    x = output(x, 10)\n",
    "    \n",
    "    # TODO: return output\n",
    "    return x\n",
    "\n",
    "\n",
    "\"\"\"\n",
    "DON'T MODIFY ANYTHING IN THIS CELL THAT IS BELOW THIS LINE\n",
    "\"\"\"\n",
    "\n",
    "##############################\n",
    "## Build the Neural Network ##\n",
    "##############################\n",
    "\n",
    "# Remove previous weights, bias, inputs, etc..\n",
    "tf.reset_default_graph()\n",
    "\n",
    "# Inputs\n",
    "x = neural_net_image_input((32, 32, 3))\n",
    "y = neural_net_label_input(10)\n",
    "keep_prob = neural_net_keep_prob_input()\n",
    "\n",
    "# Model\n",
    "logits = conv_net(x, keep_prob)\n",
    "\n",
    "# Name logits Tensor, so that is can be loaded from disk after training\n",
    "logits = tf.identity(logits, name='logits')\n",
    "\n",
    "# Loss and Optimizer\n",
    "cost = tf.reduce_mean(tf.nn.softmax_cross_entropy_with_logits(logits=logits, labels=y))\n",
    "optimizer = tf.train.AdamOptimizer().minimize(cost)\n",
    "\n",
    "# Accuracy\n",
    "correct_pred = tf.equal(tf.argmax(logits, 1), tf.argmax(y, 1))\n",
    "accuracy = tf.reduce_mean(tf.cast(correct_pred, tf.float32), name='accuracy')\n",
    "\n",
    "tests.test_conv_net(conv_net)"
   ]
  },
  {
   "cell_type": "markdown",
   "metadata": {
    "deletable": true,
    "editable": true
   },
   "source": [
    "## Train the Neural Network\n",
    "### Single Optimization\n",
    "Implement the function `train_neural_network` to do a single optimization.  The optimization should use `optimizer` to optimize in `session` with a `feed_dict` of the following:\n",
    "* `x` for image input\n",
    "* `y` for labels\n",
    "* `keep_prob` for keep probability for dropout\n",
    "\n",
    "This function will be called for each batch, so `tf.global_variables_initializer()` has already been called.\n",
    "\n",
    "Note: Nothing needs to be returned. This function is only optimizing the neural network."
   ]
  },
  {
   "cell_type": "code",
   "execution_count": 13,
   "metadata": {
    "collapsed": false,
    "deletable": true,
    "editable": true
   },
   "outputs": [
    {
     "name": "stdout",
     "output_type": "stream",
     "text": [
      "Tests Passed\n"
     ]
    }
   ],
   "source": [
    "def train_neural_network(session, optimizer, keep_probability, feature_batch, label_batch):\n",
    "    \"\"\"\n",
    "    Optimize the session on a batch of images and labels\n",
    "    : session: Current TensorFlow session\n",
    "    : optimizer: TensorFlow optimizer function\n",
    "    : keep_probability: keep probability\n",
    "    : feature_batch: Batch of Numpy image data\n",
    "    : label_batch: Batch of Numpy label data\n",
    "    \"\"\"\n",
    "    # TODO: Implement Function\n",
    "    session.run(optimizer, feed_dict={x : feature_batch, y: label_batch, keep_prob: keep_probability})\n",
    "\n",
    "\n",
    "\n",
    "\"\"\"\n",
    "DON'T MODIFY ANYTHING IN THIS CELL THAT IS BELOW THIS LINE\n",
    "\"\"\"\n",
    "tests.test_train_nn(train_neural_network)"
   ]
  },
  {
   "cell_type": "markdown",
   "metadata": {
    "deletable": true,
    "editable": true
   },
   "source": [
    "### Show Stats\n",
    "Implement the function `print_stats` to print loss and validation accuracy.  Use the global variables `valid_features` and `valid_labels` to calculate validation accuracy.  Use a keep probability of `1.0` to calculate the loss and validation accuracy."
   ]
  },
  {
   "cell_type": "code",
   "execution_count": 14,
   "metadata": {
    "collapsed": false,
    "deletable": true,
    "editable": true
   },
   "outputs": [],
   "source": [
    "def print_stats(session, feature_batch, label_batch, cost, accuracy):\n",
    "    \"\"\"\n",
    "    Print information about loss and validation accuracy\n",
    "    : session: Current TensorFlow session\n",
    "    : feature_batch: Batch of Numpy image data\n",
    "    : label_batch: Batch of Numpy label data\n",
    "    : cost: TensorFlow cost function\n",
    "    : accuracy: TensorFlow accuracy function\n",
    "    \"\"\"\n",
    "    # TODO: Implement Function\n",
    "    loss = session.run(cost, feed_dict={\n",
    "                x: feature_batch,\n",
    "                y: label_batch,\n",
    "                keep_prob: 1.})\n",
    "    valid_acc = sess.run(accuracy, feed_dict={\n",
    "                x: valid_features,\n",
    "                y: valid_labels,\n",
    "                keep_prob: 1.})\n",
    "    print('Loss: {}, Accuracy: {}'.format(loss, valid_acc*100))"
   ]
  },
  {
   "cell_type": "markdown",
   "metadata": {
    "deletable": true,
    "editable": true
   },
   "source": [
    "### Hyperparameters\n",
    "Tune the following parameters:\n",
    "* Set `epochs` to the number of iterations until the network stops learning or start overfitting\n",
    "* Set `batch_size` to the highest number that your machine has memory for.  Most people set them to common sizes of memory:\n",
    " * 64\n",
    " * 128\n",
    " * 256\n",
    " * ...\n",
    "* Set `keep_probability` to the probability of keeping a node using dropout"
   ]
  },
  {
   "cell_type": "code",
   "execution_count": 15,
   "metadata": {
    "collapsed": true,
    "deletable": true,
    "editable": true
   },
   "outputs": [],
   "source": [
    "# TODO: Tune Parameters\n",
    "epochs = 100\n",
    "batch_size = 128\n",
    "keep_probability = 0.5"
   ]
  },
  {
   "cell_type": "markdown",
   "metadata": {
    "deletable": true,
    "editable": true
   },
   "source": [
    "### Train on a Single CIFAR-10 Batch\n",
    "Instead of training the neural network on all the CIFAR-10 batches of data, let's use a single batch. This should save time while you iterate on the model to get a better accuracy.  Once the final validation accuracy is 50% or greater, run the model on all the data in the next section."
   ]
  },
  {
   "cell_type": "code",
   "execution_count": 16,
   "metadata": {
    "collapsed": false,
    "deletable": true,
    "editable": true
   },
   "outputs": [
    {
     "name": "stdout",
     "output_type": "stream",
     "text": [
      "Checking the Training on a Single Batch...\n",
      "Epoch  1, CIFAR-10 Batch 1:  Loss: 2.0494494438171387, Accuracy: 32.94000029563904\n",
      "Epoch  2, CIFAR-10 Batch 1:  Loss: 2.0547566413879395, Accuracy: 34.17999744415283\n",
      "Epoch  3, CIFAR-10 Batch 1:  Loss: 1.8398921489715576, Accuracy: 42.799997329711914\n",
      "Epoch  4, CIFAR-10 Batch 1:  Loss: 1.6067320108413696, Accuracy: 46.07999622821808\n",
      "Epoch  5, CIFAR-10 Batch 1:  Loss: 1.4084270000457764, Accuracy: 50.15999674797058\n",
      "Epoch  6, CIFAR-10 Batch 1:  Loss: 1.2178051471710205, Accuracy: 52.279990911483765\n",
      "Epoch  7, CIFAR-10 Batch 1:  Loss: 1.073883295059204, Accuracy: 54.2199969291687\n",
      "Epoch  8, CIFAR-10 Batch 1:  Loss: 0.9261777997016907, Accuracy: 56.01999759674072\n",
      "Epoch  9, CIFAR-10 Batch 1:  Loss: 0.8149071931838989, Accuracy: 55.379992723464966\n",
      "Epoch 10, CIFAR-10 Batch 1:  Loss: 0.7457655668258667, Accuracy: 56.41999840736389\n",
      "Epoch 11, CIFAR-10 Batch 1:  Loss: 0.7508942484855652, Accuracy: 57.85999298095703\n",
      "Epoch 12, CIFAR-10 Batch 1:  Loss: 0.6317808628082275, Accuracy: 58.67999196052551\n",
      "Epoch 13, CIFAR-10 Batch 1:  Loss: 0.5131177306175232, Accuracy: 58.87998938560486\n",
      "Epoch 14, CIFAR-10 Batch 1:  Loss: 0.4843796491622925, Accuracy: 59.179991483688354\n",
      "Epoch 15, CIFAR-10 Batch 1:  Loss: 0.44257649779319763, Accuracy: 58.71999263763428\n",
      "Epoch 16, CIFAR-10 Batch 1:  Loss: 0.4370739161968231, Accuracy: 58.63999128341675\n",
      "Epoch 17, CIFAR-10 Batch 1:  Loss: 0.415461003780365, Accuracy: 58.759987354278564\n",
      "Epoch 18, CIFAR-10 Batch 1:  Loss: 0.4186657965183258, Accuracy: 58.299994468688965\n",
      "Epoch 19, CIFAR-10 Batch 1:  Loss: 0.25067949295043945, Accuracy: 59.8599910736084\n",
      "Epoch 20, CIFAR-10 Batch 1:  Loss: 0.3138631582260132, Accuracy: 59.21999216079712\n",
      "Epoch 21, CIFAR-10 Batch 1:  Loss: 0.24282166361808777, Accuracy: 59.35999155044556\n",
      "Epoch 22, CIFAR-10 Batch 1:  Loss: 0.24727095663547516, Accuracy: 59.439992904663086\n",
      "Epoch 23, CIFAR-10 Batch 1:  Loss: 0.23408889770507812, Accuracy: 59.93999242782593\n",
      "Epoch 24, CIFAR-10 Batch 1:  Loss: 0.22308124601840973, Accuracy: 58.33998918533325\n",
      "Epoch 25, CIFAR-10 Batch 1:  Loss: 0.15013453364372253, Accuracy: 59.59998369216919\n",
      "Epoch 26, CIFAR-10 Batch 1:  Loss: 0.15591159462928772, Accuracy: 58.699989318847656\n",
      "Epoch 27, CIFAR-10 Batch 1:  Loss: 0.11943484097719193, Accuracy: 57.81999230384827\n",
      "Epoch 28, CIFAR-10 Batch 1:  Loss: 0.1407305896282196, Accuracy: 57.09999203681946\n",
      "Epoch 29, CIFAR-10 Batch 1:  Loss: 0.16216197609901428, Accuracy: 58.25998783111572\n",
      "Epoch 30, CIFAR-10 Batch 1:  Loss: 0.11792175471782684, Accuracy: 58.15999507904053\n",
      "Epoch 31, CIFAR-10 Batch 1:  Loss: 0.12396188080310822, Accuracy: 59.01999473571777\n",
      "Epoch 32, CIFAR-10 Batch 1:  Loss: 0.1429467350244522, Accuracy: 59.259986877441406\n",
      "Epoch 33, CIFAR-10 Batch 1:  Loss: 0.08400007337331772, Accuracy: 60.079991817474365\n",
      "Epoch 34, CIFAR-10 Batch 1:  Loss: 0.13157090544700623, Accuracy: 58.97999405860901\n",
      "Epoch 35, CIFAR-10 Batch 1:  Loss: 0.06932934373617172, Accuracy: 58.4399938583374\n",
      "Epoch 36, CIFAR-10 Batch 1:  Loss: 0.10736828297376633, Accuracy: 59.53999161720276\n",
      "Epoch 37, CIFAR-10 Batch 1:  Loss: 0.10483573377132416, Accuracy: 59.17999744415283\n",
      "Epoch 38, CIFAR-10 Batch 1:  Loss: 0.09059137105941772, Accuracy: 58.539992570877075\n",
      "Epoch 39, CIFAR-10 Batch 1:  Loss: 0.1461562216281891, Accuracy: 57.4199914932251\n",
      "Epoch 40, CIFAR-10 Batch 1:  Loss: 0.059639930725097656, Accuracy: 59.77998971939087\n",
      "Epoch 41, CIFAR-10 Batch 1:  Loss: 0.0629534050822258, Accuracy: 59.27999019622803\n",
      "Epoch 42, CIFAR-10 Batch 1:  Loss: 0.0736096203327179, Accuracy: 58.25999975204468\n",
      "Epoch 43, CIFAR-10 Batch 1:  Loss: 0.053242653608322144, Accuracy: 59.71999168395996\n",
      "Epoch 44, CIFAR-10 Batch 1:  Loss: 0.05765895918011665, Accuracy: 59.65999364852905\n",
      "Epoch 45, CIFAR-10 Batch 1:  Loss: 0.0715278908610344, Accuracy: 59.45999026298523\n",
      "Epoch 46, CIFAR-10 Batch 1:  Loss: 0.056589845567941666, Accuracy: 60.31999588012695\n",
      "Epoch 47, CIFAR-10 Batch 1:  Loss: 0.0776342898607254, Accuracy: 59.259992837905884\n",
      "Epoch 48, CIFAR-10 Batch 1:  Loss: 0.03627776354551315, Accuracy: 58.999985456466675\n",
      "Epoch 49, CIFAR-10 Batch 1:  Loss: 0.03175593912601471, Accuracy: 59.35999155044556\n",
      "Epoch 50, CIFAR-10 Batch 1:  Loss: 0.06584914028644562, Accuracy: 58.73998999595642\n",
      "Epoch 51, CIFAR-10 Batch 1:  Loss: 0.04771476984024048, Accuracy: 59.119993448257446\n",
      "Epoch 52, CIFAR-10 Batch 1:  Loss: 0.04539601877331734, Accuracy: 58.779990673065186\n",
      "Epoch 53, CIFAR-10 Batch 1:  Loss: 0.036339279264211655, Accuracy: 58.099985122680664\n",
      "Epoch 54, CIFAR-10 Batch 1:  Loss: 0.0523579865694046, Accuracy: 58.51999521255493\n",
      "Epoch 55, CIFAR-10 Batch 1:  Loss: 0.05685759708285332, Accuracy: 59.69999432563782\n",
      "Epoch 56, CIFAR-10 Batch 1:  Loss: 0.03455965593457222, Accuracy: 60.2199912071228\n",
      "Epoch 57, CIFAR-10 Batch 1:  Loss: 0.051051605492830276, Accuracy: 59.419989585876465\n",
      "Epoch 58, CIFAR-10 Batch 1:  Loss: 0.027479197829961777, Accuracy: 60.83999276161194\n",
      "Epoch 59, CIFAR-10 Batch 1:  Loss: 0.012953860685229301, Accuracy: 59.31999087333679\n",
      "Epoch 60, CIFAR-10 Batch 1:  Loss: 0.046576689928770065, Accuracy: 58.99999141693115\n",
      "Epoch 61, CIFAR-10 Batch 1:  Loss: 0.029263723641633987, Accuracy: 59.259986877441406\n",
      "Epoch 62, CIFAR-10 Batch 1:  Loss: 0.019637640565633774, Accuracy: 58.079993724823\n",
      "Epoch 63, CIFAR-10 Batch 1:  Loss: 0.03103078529238701, Accuracy: 60.03999710083008\n",
      "Epoch 64, CIFAR-10 Batch 1:  Loss: 0.030231088399887085, Accuracy: 60.27999520301819\n",
      "Epoch 65, CIFAR-10 Batch 1:  Loss: 0.03216132894158363, Accuracy: 58.45999717712402\n",
      "Epoch 66, CIFAR-10 Batch 1:  Loss: 0.035457249730825424, Accuracy: 58.859992027282715\n",
      "Epoch 67, CIFAR-10 Batch 1:  Loss: 0.02694370038807392, Accuracy: 59.69999432563782\n",
      "Epoch 68, CIFAR-10 Batch 1:  Loss: 0.02280062809586525, Accuracy: 59.17998552322388\n",
      "Epoch 69, CIFAR-10 Batch 1:  Loss: 0.014788603410124779, Accuracy: 58.95999073982239\n",
      "Epoch 70, CIFAR-10 Batch 1:  Loss: 0.025112224742770195, Accuracy: 59.599995613098145\n",
      "Epoch 71, CIFAR-10 Batch 1:  Loss: 0.01881968416273594, Accuracy: 60.559988021850586\n",
      "Epoch 72, CIFAR-10 Batch 1:  Loss: 0.023640912026166916, Accuracy: 59.079986810684204\n",
      "Epoch 73, CIFAR-10 Batch 1:  Loss: 0.01716281846165657, Accuracy: 59.0999960899353\n",
      "Epoch 74, CIFAR-10 Batch 1:  Loss: 0.030911782756447792, Accuracy: 59.63999032974243\n",
      "Epoch 75, CIFAR-10 Batch 1:  Loss: 0.04501882195472717, Accuracy: 60.3399932384491\n",
      "Epoch 76, CIFAR-10 Batch 1:  Loss: 0.0428830087184906, Accuracy: 59.599995613098145\n",
      "Epoch 77, CIFAR-10 Batch 1:  Loss: 0.034861721098423004, Accuracy: 59.97999310493469\n",
      "Epoch 78, CIFAR-10 Batch 1:  Loss: 0.04669620096683502, Accuracy: 58.2599937915802\n",
      "Epoch 79, CIFAR-10 Batch 1:  Loss: 0.03614693135023117, Accuracy: 58.09999704360962\n",
      "Epoch 80, CIFAR-10 Batch 1:  Loss: 0.015539541840553284, Accuracy: 58.299994468688965\n",
      "Epoch 81, CIFAR-10 Batch 1:  Loss: 0.02206440642476082, Accuracy: 59.21998620033264\n",
      "Epoch 82, CIFAR-10 Batch 1:  Loss: 0.018856830894947052, Accuracy: 58.33999514579773\n",
      "Epoch 83, CIFAR-10 Batch 1:  Loss: 0.02351151779294014, Accuracy: 59.03999209403992\n",
      "Epoch 84, CIFAR-10 Batch 1:  Loss: 0.027256090193986893, Accuracy: 57.879990339279175\n",
      "Epoch 85, CIFAR-10 Batch 1:  Loss: 0.025760257616639137, Accuracy: 59.3999981880188\n",
      "Epoch 86, CIFAR-10 Batch 1:  Loss: 0.05951908975839615, Accuracy: 58.05999040603638\n",
      "Epoch 87, CIFAR-10 Batch 1:  Loss: 0.031250402331352234, Accuracy: 58.59999656677246\n",
      "Epoch 88, CIFAR-10 Batch 1:  Loss: 0.040464818477630615, Accuracy: 58.839988708496094\n",
      "Epoch 89, CIFAR-10 Batch 1:  Loss: 0.028181051835417747, Accuracy: 58.33999514579773\n",
      "Epoch 90, CIFAR-10 Batch 1:  Loss: 0.028435399755835533, Accuracy: 58.859992027282715\n",
      "Epoch 91, CIFAR-10 Batch 1:  Loss: 0.021585168316960335, Accuracy: 59.01998281478882\n",
      "Epoch 92, CIFAR-10 Batch 1:  Loss: 0.00555661553516984, Accuracy: 58.89999270439148\n",
      "Epoch 93, CIFAR-10 Batch 1:  Loss: 0.011473787017166615, Accuracy: 59.8599910736084\n",
      "Epoch 94, CIFAR-10 Batch 1:  Loss: 0.017024701461195946, Accuracy: 59.21999216079712\n",
      "Epoch 95, CIFAR-10 Batch 1:  Loss: 0.018544094637036324, Accuracy: 59.51998829841614\n",
      "Epoch 96, CIFAR-10 Batch 1:  Loss: 0.02151084877550602, Accuracy: 59.03999209403992\n",
      "Epoch 97, CIFAR-10 Batch 1:  Loss: 0.03677953779697418, Accuracy: 58.219993114471436\n",
      "Epoch 98, CIFAR-10 Batch 1:  Loss: 0.026517298072576523, Accuracy: 58.439987897872925\n",
      "Epoch 99, CIFAR-10 Batch 1:  Loss: 0.03434193134307861, Accuracy: 58.17999243736267\n",
      "Epoch 100, CIFAR-10 Batch 1:  Loss: 0.017969243228435516, Accuracy: 58.35999250411987\n"
     ]
    }
   ],
   "source": [
    "\"\"\"\n",
    "DON'T MODIFY ANYTHING IN THIS CELL\n",
    "\"\"\"\n",
    "print('Checking the Training on a Single Batch...')\n",
    "with tf.Session() as sess:\n",
    "    # Initializing the variables\n",
    "    sess.run(tf.global_variables_initializer())\n",
    "    \n",
    "    # Training cycle\n",
    "    for epoch in range(epochs):\n",
    "        batch_i = 1\n",
    "        for batch_features, batch_labels in helper.load_preprocess_training_batch(batch_i, batch_size):\n",
    "            train_neural_network(sess, optimizer, keep_probability, batch_features, batch_labels)\n",
    "        print('Epoch {:>2}, CIFAR-10 Batch {}:  '.format(epoch + 1, batch_i), end='')\n",
    "        print_stats(sess, batch_features, batch_labels, cost, accuracy)"
   ]
  },
  {
   "cell_type": "markdown",
   "metadata": {
    "deletable": true,
    "editable": true
   },
   "source": [
    "### Fully Train the Model\n",
    "Now that you got a good accuracy with a single CIFAR-10 batch, try it with all five batches."
   ]
  },
  {
   "cell_type": "code",
   "execution_count": 17,
   "metadata": {
    "collapsed": false,
    "deletable": true,
    "editable": true
   },
   "outputs": [
    {
     "name": "stdout",
     "output_type": "stream",
     "text": [
      "Training...\n",
      "Epoch  1, CIFAR-10 Batch 1:  Loss: 2.184748649597168, Accuracy: 27.5799959897995\n",
      "Epoch  1, CIFAR-10 Batch 2:  Loss: 1.7928791046142578, Accuracy: 32.61999785900116\n",
      "Epoch  1, CIFAR-10 Batch 3:  Loss: 1.479615569114685, Accuracy: 38.97999823093414\n",
      "Epoch  1, CIFAR-10 Batch 4:  Loss: 1.5894649028778076, Accuracy: 43.01999509334564\n",
      "Epoch  1, CIFAR-10 Batch 5:  Loss: 1.4991354942321777, Accuracy: 45.81999480724335\n",
      "Epoch  2, CIFAR-10 Batch 1:  Loss: 1.4820797443389893, Accuracy: 48.45999479293823\n",
      "Epoch  2, CIFAR-10 Batch 2:  Loss: 1.3259174823760986, Accuracy: 43.779999017715454\n",
      "Epoch  2, CIFAR-10 Batch 3:  Loss: 1.1412855386734009, Accuracy: 52.83999443054199\n",
      "Epoch  2, CIFAR-10 Batch 4:  Loss: 1.3044195175170898, Accuracy: 52.619993686676025\n",
      "Epoch  2, CIFAR-10 Batch 5:  Loss: 1.2279913425445557, Accuracy: 54.239994287490845\n",
      "Epoch  3, CIFAR-10 Batch 1:  Loss: 1.3972666263580322, Accuracy: 53.79999876022339\n",
      "Epoch  3, CIFAR-10 Batch 2:  Loss: 1.1525853872299194, Accuracy: 50.999999046325684\n",
      "Epoch  3, CIFAR-10 Batch 3:  Loss: 0.9788227677345276, Accuracy: 55.699992179870605\n",
      "Epoch  3, CIFAR-10 Batch 4:  Loss: 1.1073973178863525, Accuracy: 56.19999170303345\n",
      "Epoch  3, CIFAR-10 Batch 5:  Loss: 1.014944314956665, Accuracy: 58.319997787475586\n",
      "Epoch  4, CIFAR-10 Batch 1:  Loss: 1.2529449462890625, Accuracy: 59.15999412536621\n",
      "Epoch  4, CIFAR-10 Batch 2:  Loss: 1.026926040649414, Accuracy: 54.93999123573303\n",
      "Epoch  4, CIFAR-10 Batch 3:  Loss: 0.8734288215637207, Accuracy: 62.15999126434326\n",
      "Epoch  4, CIFAR-10 Batch 4:  Loss: 1.023862361907959, Accuracy: 61.45998239517212\n",
      "Epoch  4, CIFAR-10 Batch 5:  Loss: 0.848637580871582, Accuracy: 62.119996547698975\n",
      "Epoch  5, CIFAR-10 Batch 1:  Loss: 1.0908734798431396, Accuracy: 63.19999098777771\n",
      "Epoch  5, CIFAR-10 Batch 2:  Loss: 0.9787089228630066, Accuracy: 55.7999849319458\n",
      "Epoch  5, CIFAR-10 Batch 3:  Loss: 0.8068556189537048, Accuracy: 64.81999158859253\n",
      "Epoch  5, CIFAR-10 Batch 4:  Loss: 0.8921193480491638, Accuracy: 63.95999193191528\n",
      "Epoch  5, CIFAR-10 Batch 5:  Loss: 0.841728925704956, Accuracy: 61.25999093055725\n",
      "Epoch  6, CIFAR-10 Batch 1:  Loss: 0.8738184571266174, Accuracy: 64.739990234375\n",
      "Epoch  6, CIFAR-10 Batch 2:  Loss: 0.9585409164428711, Accuracy: 58.439987897872925\n",
      "Epoch  6, CIFAR-10 Batch 3:  Loss: 0.706723690032959, Accuracy: 66.07998609542847\n",
      "Epoch  6, CIFAR-10 Batch 4:  Loss: 0.8038563132286072, Accuracy: 65.99998474121094\n",
      "Epoch  6, CIFAR-10 Batch 5:  Loss: 0.7294397354125977, Accuracy: 63.97998929023743\n",
      "Epoch  7, CIFAR-10 Batch 1:  Loss: 0.8140120506286621, Accuracy: 66.19998216629028\n",
      "Epoch  7, CIFAR-10 Batch 2:  Loss: 0.8203840255737305, Accuracy: 64.3799901008606\n",
      "Epoch  7, CIFAR-10 Batch 3:  Loss: 0.6027012467384338, Accuracy: 66.83999300003052\n",
      "Epoch  7, CIFAR-10 Batch 4:  Loss: 0.7256984710693359, Accuracy: 65.55998921394348\n",
      "Epoch  7, CIFAR-10 Batch 5:  Loss: 0.6283212900161743, Accuracy: 66.89998507499695\n",
      "Epoch  8, CIFAR-10 Batch 1:  Loss: 0.6715208888053894, Accuracy: 66.95998907089233\n",
      "Epoch  8, CIFAR-10 Batch 2:  Loss: 0.7109650373458862, Accuracy: 63.97998929023743\n",
      "Epoch  8, CIFAR-10 Batch 3:  Loss: 0.6448560953140259, Accuracy: 67.75999069213867\n",
      "Epoch  8, CIFAR-10 Batch 4:  Loss: 0.7175542712211609, Accuracy: 66.39999151229858\n",
      "Epoch  8, CIFAR-10 Batch 5:  Loss: 0.7031978964805603, Accuracy: 66.83998703956604\n",
      "Epoch  9, CIFAR-10 Batch 1:  Loss: 0.7171618938446045, Accuracy: 67.55999326705933\n",
      "Epoch  9, CIFAR-10 Batch 2:  Loss: 0.7030720710754395, Accuracy: 66.6999876499176\n",
      "Epoch  9, CIFAR-10 Batch 3:  Loss: 0.5043875575065613, Accuracy: 69.23998594284058\n",
      "Epoch  9, CIFAR-10 Batch 4:  Loss: 0.5788790583610535, Accuracy: 67.69998669624329\n",
      "Epoch  9, CIFAR-10 Batch 5:  Loss: 0.6115395426750183, Accuracy: 67.57999062538147\n",
      "Epoch 10, CIFAR-10 Batch 1:  Loss: 0.6652708053588867, Accuracy: 68.99998784065247\n",
      "Epoch 10, CIFAR-10 Batch 2:  Loss: 0.726990818977356, Accuracy: 65.71998596191406\n",
      "Epoch 10, CIFAR-10 Batch 3:  Loss: 0.5203914642333984, Accuracy: 68.77999305725098\n",
      "Epoch 10, CIFAR-10 Batch 4:  Loss: 0.5969468355178833, Accuracy: 66.37998819351196\n",
      "Epoch 10, CIFAR-10 Batch 5:  Loss: 0.6676970720291138, Accuracy: 66.13998413085938\n",
      "Epoch 11, CIFAR-10 Batch 1:  Loss: 0.5675733089447021, Accuracy: 68.37999224662781\n",
      "Epoch 11, CIFAR-10 Batch 2:  Loss: 0.6050701141357422, Accuracy: 67.83998608589172\n",
      "Epoch 11, CIFAR-10 Batch 3:  Loss: 0.46002161502838135, Accuracy: 71.0399866104126\n",
      "Epoch 11, CIFAR-10 Batch 4:  Loss: 0.4551432728767395, Accuracy: 68.9599871635437\n",
      "Epoch 11, CIFAR-10 Batch 5:  Loss: 0.4839569926261902, Accuracy: 69.91998553276062\n",
      "Epoch 12, CIFAR-10 Batch 1:  Loss: 0.47314006090164185, Accuracy: 69.5399820804596\n",
      "Epoch 12, CIFAR-10 Batch 2:  Loss: 0.5881518721580505, Accuracy: 69.55997943878174\n",
      "Epoch 12, CIFAR-10 Batch 3:  Loss: 0.4771950840950012, Accuracy: 70.75998783111572\n",
      "Epoch 12, CIFAR-10 Batch 4:  Loss: 0.5652725696563721, Accuracy: 67.37998723983765\n",
      "Epoch 12, CIFAR-10 Batch 5:  Loss: 0.5281960368156433, Accuracy: 68.21998953819275\n",
      "Epoch 13, CIFAR-10 Batch 1:  Loss: 0.5766687393188477, Accuracy: 69.6199893951416\n",
      "Epoch 13, CIFAR-10 Batch 2:  Loss: 0.586495041847229, Accuracy: 69.15999054908752\n",
      "Epoch 13, CIFAR-10 Batch 3:  Loss: 0.3993885815143585, Accuracy: 69.53997611999512\n",
      "Epoch 13, CIFAR-10 Batch 4:  Loss: 0.4993627071380615, Accuracy: 70.0799822807312\n",
      "Epoch 13, CIFAR-10 Batch 5:  Loss: 0.4584769308567047, Accuracy: 69.21998262405396\n",
      "Epoch 14, CIFAR-10 Batch 1:  Loss: 0.47216764092445374, Accuracy: 70.75998187065125\n",
      "Epoch 14, CIFAR-10 Batch 2:  Loss: 0.48519665002822876, Accuracy: 69.979989528656\n",
      "Epoch 14, CIFAR-10 Batch 3:  Loss: 0.42123326659202576, Accuracy: 68.61999034881592\n",
      "Epoch 14, CIFAR-10 Batch 4:  Loss: 0.3977603018283844, Accuracy: 70.35999298095703\n",
      "Epoch 14, CIFAR-10 Batch 5:  Loss: 0.47688424587249756, Accuracy: 67.059987783432\n",
      "Epoch 15, CIFAR-10 Batch 1:  Loss: 0.4275226593017578, Accuracy: 71.83998823165894\n",
      "Epoch 15, CIFAR-10 Batch 2:  Loss: 0.47914355993270874, Accuracy: 70.87998390197754\n",
      "Epoch 15, CIFAR-10 Batch 3:  Loss: 0.4039791226387024, Accuracy: 70.53998708724976\n",
      "Epoch 15, CIFAR-10 Batch 4:  Loss: 0.46317803859710693, Accuracy: 69.17998790740967\n",
      "Epoch 15, CIFAR-10 Batch 5:  Loss: 0.41827064752578735, Accuracy: 70.53998708724976\n",
      "Epoch 16, CIFAR-10 Batch 1:  Loss: 0.3949458599090576, Accuracy: 71.53998613357544\n",
      "Epoch 16, CIFAR-10 Batch 2:  Loss: 0.445237398147583, Accuracy: 70.47998905181885\n",
      "Epoch 16, CIFAR-10 Batch 3:  Loss: 0.3633984923362732, Accuracy: 70.45998573303223\n",
      "Epoch 16, CIFAR-10 Batch 4:  Loss: 0.41286951303482056, Accuracy: 68.27999353408813\n",
      "Epoch 16, CIFAR-10 Batch 5:  Loss: 0.39582139253616333, Accuracy: 69.09998655319214\n",
      "Epoch 17, CIFAR-10 Batch 1:  Loss: 0.3707987666130066, Accuracy: 72.21998572349548\n",
      "Epoch 17, CIFAR-10 Batch 2:  Loss: 0.4537431299686432, Accuracy: 70.33998966217041\n",
      "Epoch 17, CIFAR-10 Batch 3:  Loss: 0.3015892803668976, Accuracy: 71.37998342514038\n",
      "Epoch 17, CIFAR-10 Batch 4:  Loss: 0.4086669385433197, Accuracy: 69.59998607635498\n",
      "Epoch 17, CIFAR-10 Batch 5:  Loss: 0.3102770447731018, Accuracy: 70.77997922897339\n",
      "Epoch 18, CIFAR-10 Batch 1:  Loss: 0.33653631806373596, Accuracy: 71.75998091697693\n",
      "Epoch 18, CIFAR-10 Batch 2:  Loss: 0.3927963376045227, Accuracy: 71.57999277114868\n",
      "Epoch 18, CIFAR-10 Batch 3:  Loss: 0.3270432949066162, Accuracy: 70.95998525619507\n",
      "Epoch 18, CIFAR-10 Batch 4:  Loss: 0.3829796314239502, Accuracy: 70.39998769760132\n",
      "Epoch 18, CIFAR-10 Batch 5:  Loss: 0.2916671633720398, Accuracy: 70.3999936580658\n",
      "Epoch 19, CIFAR-10 Batch 1:  Loss: 0.37470385432243347, Accuracy: 70.6799864768982\n",
      "Epoch 19, CIFAR-10 Batch 2:  Loss: 0.40320801734924316, Accuracy: 71.05997800827026\n",
      "Epoch 19, CIFAR-10 Batch 3:  Loss: 0.26562321186065674, Accuracy: 70.89998722076416\n",
      "Epoch 19, CIFAR-10 Batch 4:  Loss: 0.3894526958465576, Accuracy: 70.63998579978943\n",
      "Epoch 19, CIFAR-10 Batch 5:  Loss: 0.3504389226436615, Accuracy: 69.47998404502869\n",
      "Epoch 20, CIFAR-10 Batch 1:  Loss: 0.3183521032333374, Accuracy: 71.75998091697693\n",
      "Epoch 20, CIFAR-10 Batch 2:  Loss: 0.40390563011169434, Accuracy: 69.51998472213745\n",
      "Epoch 20, CIFAR-10 Batch 3:  Loss: 0.24751590192317963, Accuracy: 69.77999210357666\n",
      "Epoch 20, CIFAR-10 Batch 4:  Loss: 0.461456835269928, Accuracy: 69.03998255729675\n",
      "Epoch 20, CIFAR-10 Batch 5:  Loss: 0.29176241159439087, Accuracy: 70.73999643325806\n",
      "Epoch 21, CIFAR-10 Batch 1:  Loss: 0.2978387176990509, Accuracy: 71.81998491287231\n",
      "Epoch 21, CIFAR-10 Batch 2:  Loss: 0.34040045738220215, Accuracy: 71.11998796463013\n",
      "Epoch 21, CIFAR-10 Batch 3:  Loss: 0.229209303855896, Accuracy: 71.65998220443726\n",
      "Epoch 21, CIFAR-10 Batch 4:  Loss: 0.35767966508865356, Accuracy: 69.81998682022095\n",
      "Epoch 21, CIFAR-10 Batch 5:  Loss: 0.3143240809440613, Accuracy: 70.03998160362244\n",
      "Epoch 22, CIFAR-10 Batch 1:  Loss: 0.2770533561706543, Accuracy: 72.03998565673828\n",
      "Epoch 22, CIFAR-10 Batch 2:  Loss: 0.3622645139694214, Accuracy: 70.61998844146729\n",
      "Epoch 22, CIFAR-10 Batch 3:  Loss: 0.21187463402748108, Accuracy: 71.999990940094\n",
      "Epoch 22, CIFAR-10 Batch 4:  Loss: 0.34230536222457886, Accuracy: 71.67998552322388\n",
      "Epoch 22, CIFAR-10 Batch 5:  Loss: 0.3133116364479065, Accuracy: 70.13998627662659\n",
      "Epoch 23, CIFAR-10 Batch 1:  Loss: 0.2771660387516022, Accuracy: 72.05998301506042\n",
      "Epoch 23, CIFAR-10 Batch 2:  Loss: 0.3325863182544708, Accuracy: 70.65998315811157\n",
      "Epoch 23, CIFAR-10 Batch 3:  Loss: 0.2109246850013733, Accuracy: 71.77999019622803\n",
      "Epoch 23, CIFAR-10 Batch 4:  Loss: 0.28907379508018494, Accuracy: 71.77999019622803\n",
      "Epoch 23, CIFAR-10 Batch 5:  Loss: 0.26368778944015503, Accuracy: 70.87998986244202\n",
      "Epoch 24, CIFAR-10 Batch 1:  Loss: 0.2612796127796173, Accuracy: 72.0599889755249\n",
      "Epoch 24, CIFAR-10 Batch 2:  Loss: 0.32265937328338623, Accuracy: 70.23997902870178\n",
      "Epoch 24, CIFAR-10 Batch 3:  Loss: 0.22772860527038574, Accuracy: 72.53998517990112\n",
      "Epoch 24, CIFAR-10 Batch 4:  Loss: 0.30562394857406616, Accuracy: 70.41999101638794\n",
      "Epoch 24, CIFAR-10 Batch 5:  Loss: 0.33263659477233887, Accuracy: 69.47999000549316\n",
      "Epoch 25, CIFAR-10 Batch 1:  Loss: 0.21046492457389832, Accuracy: 72.25999236106873\n",
      "Epoch 25, CIFAR-10 Batch 2:  Loss: 0.27541735768318176, Accuracy: 71.25998139381409\n",
      "Epoch 25, CIFAR-10 Batch 3:  Loss: 0.18882130086421967, Accuracy: 71.89999222755432\n",
      "Epoch 25, CIFAR-10 Batch 4:  Loss: 0.27218741178512573, Accuracy: 71.57998085021973\n",
      "Epoch 25, CIFAR-10 Batch 5:  Loss: 0.26909932494163513, Accuracy: 71.47998809814453\n",
      "Epoch 26, CIFAR-10 Batch 1:  Loss: 0.2568868398666382, Accuracy: 72.05998301506042\n",
      "Epoch 26, CIFAR-10 Batch 2:  Loss: 0.2381710708141327, Accuracy: 70.79998254776001\n",
      "Epoch 26, CIFAR-10 Batch 3:  Loss: 0.20076540112495422, Accuracy: 71.43998146057129\n",
      "Epoch 26, CIFAR-10 Batch 4:  Loss: 0.2527658939361572, Accuracy: 71.399986743927\n",
      "Epoch 26, CIFAR-10 Batch 5:  Loss: 0.2687074840068817, Accuracy: 70.51998376846313\n",
      "Epoch 27, CIFAR-10 Batch 1:  Loss: 0.2756412625312805, Accuracy: 71.53998613357544\n",
      "Epoch 27, CIFAR-10 Batch 2:  Loss: 0.287345290184021, Accuracy: 70.2599823474884\n",
      "Epoch 27, CIFAR-10 Batch 3:  Loss: 0.22214637696743011, Accuracy: 71.31998538970947\n",
      "Epoch 27, CIFAR-10 Batch 4:  Loss: 0.2455582171678543, Accuracy: 71.91998958587646\n",
      "Epoch 27, CIFAR-10 Batch 5:  Loss: 0.2283184826374054, Accuracy: 72.25998640060425\n",
      "Epoch 28, CIFAR-10 Batch 1:  Loss: 0.19533079862594604, Accuracy: 72.27998375892639\n",
      "Epoch 28, CIFAR-10 Batch 2:  Loss: 0.24663220345973969, Accuracy: 70.81998586654663\n",
      "Epoch 28, CIFAR-10 Batch 3:  Loss: 0.1845499724149704, Accuracy: 72.07998633384705\n",
      "Epoch 28, CIFAR-10 Batch 4:  Loss: 0.2251265048980713, Accuracy: 70.87998390197754\n",
      "Epoch 28, CIFAR-10 Batch 5:  Loss: 0.21961408853530884, Accuracy: 72.25998044013977\n",
      "Epoch 29, CIFAR-10 Batch 1:  Loss: 0.19285175204277039, Accuracy: 72.01998233795166\n",
      "Epoch 29, CIFAR-10 Batch 2:  Loss: 0.20167133212089539, Accuracy: 72.11998701095581\n",
      "Epoch 29, CIFAR-10 Batch 3:  Loss: 0.17877346277236938, Accuracy: 71.77997827529907\n",
      "Epoch 29, CIFAR-10 Batch 4:  Loss: 0.22147563099861145, Accuracy: 71.69998288154602\n",
      "Epoch 29, CIFAR-10 Batch 5:  Loss: 0.1878046989440918, Accuracy: 71.91998362541199\n",
      "Epoch 30, CIFAR-10 Batch 1:  Loss: 0.1581040322780609, Accuracy: 72.6599931716919\n",
      "Epoch 30, CIFAR-10 Batch 2:  Loss: 0.20546677708625793, Accuracy: 70.79998850822449\n",
      "Epoch 30, CIFAR-10 Batch 3:  Loss: 0.11604426801204681, Accuracy: 72.1599817276001\n",
      "Epoch 30, CIFAR-10 Batch 4:  Loss: 0.23126652836799622, Accuracy: 71.8799889087677\n",
      "Epoch 30, CIFAR-10 Batch 5:  Loss: 0.2505147457122803, Accuracy: 70.61998844146729\n",
      "Epoch 31, CIFAR-10 Batch 1:  Loss: 0.22330781817436218, Accuracy: 71.73998355865479\n",
      "Epoch 31, CIFAR-10 Batch 2:  Loss: 0.2545950710773468, Accuracy: 69.93998289108276\n",
      "Epoch 31, CIFAR-10 Batch 3:  Loss: 0.11664797365665436, Accuracy: 71.6999888420105\n",
      "Epoch 31, CIFAR-10 Batch 4:  Loss: 0.23462072014808655, Accuracy: 70.13999223709106\n",
      "Epoch 31, CIFAR-10 Batch 5:  Loss: 0.17693020403385162, Accuracy: 71.23998403549194\n",
      "Epoch 32, CIFAR-10 Batch 1:  Loss: 0.2078169882297516, Accuracy: 71.85998558998108\n",
      "Epoch 32, CIFAR-10 Batch 2:  Loss: 0.1913900375366211, Accuracy: 72.05997705459595\n",
      "Epoch 32, CIFAR-10 Batch 3:  Loss: 0.11089765280485153, Accuracy: 72.65998721122742\n",
      "Epoch 32, CIFAR-10 Batch 4:  Loss: 0.1920052021741867, Accuracy: 71.51998281478882\n",
      "Epoch 32, CIFAR-10 Batch 5:  Loss: 0.21811388432979584, Accuracy: 71.45998477935791\n",
      "Epoch 33, CIFAR-10 Batch 1:  Loss: 0.16024699807167053, Accuracy: 72.71997928619385\n",
      "Epoch 33, CIFAR-10 Batch 2:  Loss: 0.21472404897212982, Accuracy: 70.71998715400696\n",
      "Epoch 33, CIFAR-10 Batch 3:  Loss: 0.10304413735866547, Accuracy: 72.1599817276001\n",
      "Epoch 33, CIFAR-10 Batch 4:  Loss: 0.2011835128068924, Accuracy: 71.69998288154602\n",
      "Epoch 33, CIFAR-10 Batch 5:  Loss: 0.21542832255363464, Accuracy: 70.75998187065125\n",
      "Epoch 34, CIFAR-10 Batch 1:  Loss: 0.14846175909042358, Accuracy: 72.33998775482178\n",
      "Epoch 34, CIFAR-10 Batch 2:  Loss: 0.2029910832643509, Accuracy: 71.05998396873474\n",
      "Epoch 34, CIFAR-10 Batch 3:  Loss: 0.18533992767333984, Accuracy: 70.71998119354248\n",
      "Epoch 34, CIFAR-10 Batch 4:  Loss: 0.19806376099586487, Accuracy: 71.63998484611511\n",
      "Epoch 34, CIFAR-10 Batch 5:  Loss: 0.21375150978565216, Accuracy: 71.35998606681824\n",
      "Epoch 35, CIFAR-10 Batch 1:  Loss: 0.12307250499725342, Accuracy: 72.11998701095581\n",
      "Epoch 35, CIFAR-10 Batch 2:  Loss: 0.15947198867797852, Accuracy: 71.65998816490173\n",
      "Epoch 35, CIFAR-10 Batch 3:  Loss: 0.1093183308839798, Accuracy: 72.35998511314392\n",
      "Epoch 35, CIFAR-10 Batch 4:  Loss: 0.14673157036304474, Accuracy: 72.43998050689697\n",
      "Epoch 35, CIFAR-10 Batch 5:  Loss: 0.1275736391544342, Accuracy: 72.2399890422821\n",
      "Epoch 36, CIFAR-10 Batch 1:  Loss: 0.16046825051307678, Accuracy: 72.47998714447021\n",
      "Epoch 36, CIFAR-10 Batch 2:  Loss: 0.12663184106349945, Accuracy: 71.0999846458435\n",
      "Epoch 36, CIFAR-10 Batch 3:  Loss: 0.14963488280773163, Accuracy: 72.29998111724854\n",
      "Epoch 36, CIFAR-10 Batch 4:  Loss: 0.1695927232503891, Accuracy: 72.1799910068512\n",
      "Epoch 36, CIFAR-10 Batch 5:  Loss: 0.15060101449489594, Accuracy: 70.93998193740845\n",
      "Epoch 37, CIFAR-10 Batch 1:  Loss: 0.12267442047595978, Accuracy: 72.59998917579651\n",
      "Epoch 37, CIFAR-10 Batch 2:  Loss: 0.16900023818016052, Accuracy: 71.3399887084961\n",
      "Epoch 37, CIFAR-10 Batch 3:  Loss: 0.13845781981945038, Accuracy: 71.49998545646667\n",
      "Epoch 37, CIFAR-10 Batch 4:  Loss: 0.12823569774627686, Accuracy: 71.67998552322388\n",
      "Epoch 37, CIFAR-10 Batch 5:  Loss: 0.21012082695960999, Accuracy: 70.97998857498169\n",
      "Epoch 38, CIFAR-10 Batch 1:  Loss: 0.11137479543685913, Accuracy: 72.6999819278717\n",
      "Epoch 38, CIFAR-10 Batch 2:  Loss: 0.15892261266708374, Accuracy: 71.13998532295227\n",
      "Epoch 38, CIFAR-10 Batch 3:  Loss: 0.14764763414859772, Accuracy: 71.55998349189758\n",
      "Epoch 38, CIFAR-10 Batch 4:  Loss: 0.20318728685379028, Accuracy: 71.49998545646667\n",
      "Epoch 38, CIFAR-10 Batch 5:  Loss: 0.17178061604499817, Accuracy: 71.27998471260071\n",
      "Epoch 39, CIFAR-10 Batch 1:  Loss: 0.16765913367271423, Accuracy: 71.73998355865479\n",
      "Epoch 39, CIFAR-10 Batch 2:  Loss: 0.20014844834804535, Accuracy: 71.49998545646667\n",
      "Epoch 39, CIFAR-10 Batch 3:  Loss: 0.11787915974855423, Accuracy: 70.75998783111572\n",
      "Epoch 39, CIFAR-10 Batch 4:  Loss: 0.12821036577224731, Accuracy: 71.87998294830322\n",
      "Epoch 39, CIFAR-10 Batch 5:  Loss: 0.16612307727336884, Accuracy: 70.8599865436554\n",
      "Epoch 40, CIFAR-10 Batch 1:  Loss: 0.09541275352239609, Accuracy: 72.01998829841614\n",
      "Epoch 40, CIFAR-10 Batch 2:  Loss: 0.15934796631336212, Accuracy: 72.03998565673828\n",
      "Epoch 40, CIFAR-10 Batch 3:  Loss: 0.1283039152622223, Accuracy: 72.219979763031\n",
      "Epoch 40, CIFAR-10 Batch 4:  Loss: 0.18122467398643494, Accuracy: 72.4599838256836\n",
      "Epoch 40, CIFAR-10 Batch 5:  Loss: 0.15173107385635376, Accuracy: 71.73998951911926\n",
      "Epoch 41, CIFAR-10 Batch 1:  Loss: 0.11291448026895523, Accuracy: 71.37998342514038\n",
      "Epoch 41, CIFAR-10 Batch 2:  Loss: 0.1347496509552002, Accuracy: 71.01998329162598\n",
      "Epoch 41, CIFAR-10 Batch 3:  Loss: 0.11680840700864792, Accuracy: 71.1399793624878\n",
      "Epoch 41, CIFAR-10 Batch 4:  Loss: 0.14876538515090942, Accuracy: 71.65998220443726\n",
      "Epoch 41, CIFAR-10 Batch 5:  Loss: 0.1535242795944214, Accuracy: 71.43998146057129\n",
      "Epoch 42, CIFAR-10 Batch 1:  Loss: 0.09858046472072601, Accuracy: 71.93998694419861\n",
      "Epoch 42, CIFAR-10 Batch 2:  Loss: 0.10865011066198349, Accuracy: 71.83997631072998\n",
      "Epoch 42, CIFAR-10 Batch 3:  Loss: 0.1586308777332306, Accuracy: 71.11998796463013\n",
      "Epoch 42, CIFAR-10 Batch 4:  Loss: 0.15989656746387482, Accuracy: 72.819983959198\n",
      "Epoch 42, CIFAR-10 Batch 5:  Loss: 0.1695335954427719, Accuracy: 71.65998220443726\n",
      "Epoch 43, CIFAR-10 Batch 1:  Loss: 0.13152731955051422, Accuracy: 71.25998735427856\n",
      "Epoch 43, CIFAR-10 Batch 2:  Loss: 0.17301316559314728, Accuracy: 71.77999019622803\n",
      "Epoch 43, CIFAR-10 Batch 3:  Loss: 0.10387367755174637, Accuracy: 71.65998220443726\n",
      "Epoch 43, CIFAR-10 Batch 4:  Loss: 0.18272672593593597, Accuracy: 70.59998512268066\n",
      "Epoch 43, CIFAR-10 Batch 5:  Loss: 0.1460111439228058, Accuracy: 72.31998443603516\n",
      "Epoch 44, CIFAR-10 Batch 1:  Loss: 0.1105300560593605, Accuracy: 71.47998213768005\n",
      "Epoch 44, CIFAR-10 Batch 2:  Loss: 0.14470694959163666, Accuracy: 69.6199893951416\n",
      "Epoch 44, CIFAR-10 Batch 3:  Loss: 0.11612802743911743, Accuracy: 71.99998497962952\n",
      "Epoch 44, CIFAR-10 Batch 4:  Loss: 0.1260596215724945, Accuracy: 71.6999888420105\n",
      "Epoch 44, CIFAR-10 Batch 5:  Loss: 0.10519187152385712, Accuracy: 71.85999155044556\n",
      "Epoch 45, CIFAR-10 Batch 1:  Loss: 0.09500831365585327, Accuracy: 72.55997657775879\n",
      "Epoch 45, CIFAR-10 Batch 2:  Loss: 0.19508223235607147, Accuracy: 70.57998776435852\n",
      "Epoch 45, CIFAR-10 Batch 3:  Loss: 0.11419270932674408, Accuracy: 72.49998450279236\n",
      "Epoch 45, CIFAR-10 Batch 4:  Loss: 0.1094278022646904, Accuracy: 71.45998477935791\n",
      "Epoch 45, CIFAR-10 Batch 5:  Loss: 0.13834401965141296, Accuracy: 71.35999202728271\n",
      "Epoch 46, CIFAR-10 Batch 1:  Loss: 0.11531585454940796, Accuracy: 71.79998755455017\n",
      "Epoch 46, CIFAR-10 Batch 2:  Loss: 0.1464543342590332, Accuracy: 69.91998553276062\n",
      "Epoch 46, CIFAR-10 Batch 3:  Loss: 0.08861526846885681, Accuracy: 71.43998742103577\n",
      "Epoch 46, CIFAR-10 Batch 4:  Loss: 0.18724754452705383, Accuracy: 69.85998153686523\n",
      "Epoch 46, CIFAR-10 Batch 5:  Loss: 0.08160672336816788, Accuracy: 72.19998836517334\n",
      "Epoch 47, CIFAR-10 Batch 1:  Loss: 0.1400432139635086, Accuracy: 71.37998342514038\n",
      "Epoch 47, CIFAR-10 Batch 2:  Loss: 0.1238899976015091, Accuracy: 70.75998187065125\n",
      "Epoch 47, CIFAR-10 Batch 3:  Loss: 0.088814876973629, Accuracy: 72.6599931716919\n",
      "Epoch 47, CIFAR-10 Batch 4:  Loss: 0.11524521559476852, Accuracy: 71.59998416900635\n",
      "Epoch 47, CIFAR-10 Batch 5:  Loss: 0.10816098004579544, Accuracy: 72.65998125076294\n",
      "Epoch 48, CIFAR-10 Batch 1:  Loss: 0.0845002681016922, Accuracy: 72.95998334884644\n",
      "Epoch 48, CIFAR-10 Batch 2:  Loss: 0.18116895854473114, Accuracy: 71.27999067306519\n",
      "Epoch 48, CIFAR-10 Batch 3:  Loss: 0.10314610600471497, Accuracy: 70.9199845790863\n",
      "Epoch 48, CIFAR-10 Batch 4:  Loss: 0.11848610639572144, Accuracy: 72.37998843193054\n",
      "Epoch 48, CIFAR-10 Batch 5:  Loss: 0.13876333832740784, Accuracy: 71.71998023986816\n",
      "Epoch 49, CIFAR-10 Batch 1:  Loss: 0.07418496906757355, Accuracy: 72.07998633384705\n",
      "Epoch 49, CIFAR-10 Batch 2:  Loss: 0.09555281698703766, Accuracy: 70.39998769760132\n",
      "Epoch 49, CIFAR-10 Batch 3:  Loss: 0.10156962275505066, Accuracy: 71.73998355865479\n",
      "Epoch 49, CIFAR-10 Batch 4:  Loss: 0.13834457099437714, Accuracy: 71.91998958587646\n",
      "Epoch 49, CIFAR-10 Batch 5:  Loss: 0.11793714016675949, Accuracy: 71.63999080657959\n",
      "Epoch 50, CIFAR-10 Batch 1:  Loss: 0.10426725447177887, Accuracy: 70.55997848510742\n",
      "Epoch 50, CIFAR-10 Batch 2:  Loss: 0.16815035045146942, Accuracy: 71.01998329162598\n",
      "Epoch 50, CIFAR-10 Batch 3:  Loss: 0.06716270744800568, Accuracy: 71.1399793624878\n",
      "Epoch 50, CIFAR-10 Batch 4:  Loss: 0.17250177264213562, Accuracy: 71.43998146057129\n",
      "Epoch 50, CIFAR-10 Batch 5:  Loss: 0.09569059312343597, Accuracy: 72.19998240470886\n",
      "Epoch 51, CIFAR-10 Batch 1:  Loss: 0.08900642395019531, Accuracy: 71.5799868106842\n",
      "Epoch 51, CIFAR-10 Batch 2:  Loss: 0.12280131876468658, Accuracy: 71.27999067306519\n",
      "Epoch 51, CIFAR-10 Batch 3:  Loss: 0.10334169864654541, Accuracy: 70.6799864768982\n",
      "Epoch 51, CIFAR-10 Batch 4:  Loss: 0.11150826513767242, Accuracy: 71.31999135017395\n",
      "Epoch 51, CIFAR-10 Batch 5:  Loss: 0.11415612697601318, Accuracy: 71.7599868774414\n",
      "Epoch 52, CIFAR-10 Batch 1:  Loss: 0.07964196056127548, Accuracy: 71.87998294830322\n",
      "Epoch 52, CIFAR-10 Batch 2:  Loss: 0.12399748712778091, Accuracy: 70.3799843788147\n",
      "Epoch 52, CIFAR-10 Batch 3:  Loss: 0.12463586032390594, Accuracy: 71.21998071670532\n",
      "Epoch 52, CIFAR-10 Batch 4:  Loss: 0.10783806443214417, Accuracy: 72.83998131752014\n",
      "Epoch 52, CIFAR-10 Batch 5:  Loss: 0.11463192850351334, Accuracy: 71.55998945236206\n",
      "Epoch 53, CIFAR-10 Batch 1:  Loss: 0.11992693692445755, Accuracy: 71.7599868774414\n",
      "Epoch 53, CIFAR-10 Batch 2:  Loss: 0.10567732155323029, Accuracy: 70.47998905181885\n",
      "Epoch 53, CIFAR-10 Batch 3:  Loss: 0.11811694502830505, Accuracy: 72.19998836517334\n",
      "Epoch 53, CIFAR-10 Batch 4:  Loss: 0.10973614454269409, Accuracy: 71.55998349189758\n",
      "Epoch 53, CIFAR-10 Batch 5:  Loss: 0.09764236211776733, Accuracy: 71.37998938560486\n",
      "Epoch 54, CIFAR-10 Batch 1:  Loss: 0.11262862384319305, Accuracy: 71.25997543334961\n",
      "Epoch 54, CIFAR-10 Batch 2:  Loss: 0.11043620109558105, Accuracy: 68.61999034881592\n",
      "Epoch 54, CIFAR-10 Batch 3:  Loss: 0.08085224032402039, Accuracy: 71.35998010635376\n",
      "Epoch 54, CIFAR-10 Batch 4:  Loss: 0.1424524486064911, Accuracy: 70.61998248100281\n",
      "Epoch 54, CIFAR-10 Batch 5:  Loss: 0.0853184312582016, Accuracy: 72.09998369216919\n",
      "Epoch 55, CIFAR-10 Batch 1:  Loss: 0.10207222402095795, Accuracy: 71.81998491287231\n",
      "Epoch 55, CIFAR-10 Batch 2:  Loss: 0.14558126032352448, Accuracy: 71.17998003959656\n",
      "Epoch 55, CIFAR-10 Batch 3:  Loss: 0.08255455642938614, Accuracy: 72.65998721122742\n",
      "Epoch 55, CIFAR-10 Batch 4:  Loss: 0.10233323276042938, Accuracy: 71.77998423576355\n",
      "Epoch 55, CIFAR-10 Batch 5:  Loss: 0.08836479485034943, Accuracy: 72.77998328208923\n",
      "Epoch 56, CIFAR-10 Batch 1:  Loss: 0.08454526215791702, Accuracy: 71.95998430252075\n",
      "Epoch 56, CIFAR-10 Batch 2:  Loss: 0.11143571138381958, Accuracy: 70.4399824142456\n",
      "Epoch 56, CIFAR-10 Batch 3:  Loss: 0.06883948296308517, Accuracy: 71.69998288154602\n",
      "Epoch 56, CIFAR-10 Batch 4:  Loss: 0.11086472123861313, Accuracy: 72.41997718811035\n",
      "Epoch 56, CIFAR-10 Batch 5:  Loss: 0.09420114010572433, Accuracy: 72.83998727798462\n",
      "Epoch 57, CIFAR-10 Batch 1:  Loss: 0.09934718906879425, Accuracy: 72.05998301506042\n",
      "Epoch 57, CIFAR-10 Batch 2:  Loss: 0.09447112679481506, Accuracy: 70.29998898506165\n",
      "Epoch 57, CIFAR-10 Batch 3:  Loss: 0.10366214066743851, Accuracy: 71.81998491287231\n",
      "Epoch 57, CIFAR-10 Batch 4:  Loss: 0.11767187714576721, Accuracy: 70.63997983932495\n",
      "Epoch 57, CIFAR-10 Batch 5:  Loss: 0.09468153864145279, Accuracy: 72.43998646736145\n",
      "Epoch 58, CIFAR-10 Batch 1:  Loss: 0.09044814109802246, Accuracy: 72.17998504638672\n",
      "Epoch 58, CIFAR-10 Batch 2:  Loss: 0.08802832663059235, Accuracy: 71.41998410224915\n",
      "Epoch 58, CIFAR-10 Batch 3:  Loss: 0.07195079326629639, Accuracy: 72.15999364852905\n",
      "Epoch 58, CIFAR-10 Batch 4:  Loss: 0.1128007248044014, Accuracy: 72.27998971939087\n",
      "Epoch 58, CIFAR-10 Batch 5:  Loss: 0.08811941742897034, Accuracy: 72.01998233795166\n",
      "Epoch 59, CIFAR-10 Batch 1:  Loss: 0.11929091811180115, Accuracy: 71.07998728752136\n",
      "Epoch 59, CIFAR-10 Batch 2:  Loss: 0.1897348165512085, Accuracy: 69.95998620986938\n",
      "Epoch 59, CIFAR-10 Batch 3:  Loss: 0.10022284090518951, Accuracy: 71.79998755455017\n",
      "Epoch 59, CIFAR-10 Batch 4:  Loss: 0.10821635276079178, Accuracy: 72.37998247146606\n",
      "Epoch 59, CIFAR-10 Batch 5:  Loss: 0.15501978993415833, Accuracy: 70.87998986244202\n",
      "Epoch 60, CIFAR-10 Batch 1:  Loss: 0.0686698704957962, Accuracy: 72.49999046325684\n",
      "Epoch 60, CIFAR-10 Batch 2:  Loss: 0.1036260724067688, Accuracy: 71.41997814178467\n",
      "Epoch 60, CIFAR-10 Batch 3:  Loss: 0.0751904621720314, Accuracy: 73.39999079704285\n",
      "Epoch 60, CIFAR-10 Batch 4:  Loss: 0.09962520003318787, Accuracy: 72.89998531341553\n",
      "Epoch 60, CIFAR-10 Batch 5:  Loss: 0.14372795820236206, Accuracy: 72.27998375892639\n",
      "Epoch 61, CIFAR-10 Batch 1:  Loss: 0.07584862411022186, Accuracy: 71.97998762130737\n",
      "Epoch 61, CIFAR-10 Batch 2:  Loss: 0.06688511371612549, Accuracy: 71.37998342514038\n",
      "Epoch 61, CIFAR-10 Batch 3:  Loss: 0.0632469430565834, Accuracy: 71.43998146057129\n",
      "Epoch 61, CIFAR-10 Batch 4:  Loss: 0.11092399060726166, Accuracy: 71.85999155044556\n",
      "Epoch 61, CIFAR-10 Batch 5:  Loss: 0.10685824602842331, Accuracy: 71.6999888420105\n",
      "Epoch 62, CIFAR-10 Batch 1:  Loss: 0.0772276222705841, Accuracy: 71.45999073982239\n",
      "Epoch 62, CIFAR-10 Batch 2:  Loss: 0.08742733299732208, Accuracy: 70.93998789787292\n",
      "Epoch 62, CIFAR-10 Batch 3:  Loss: 0.0660247802734375, Accuracy: 70.97998261451721\n",
      "Epoch 62, CIFAR-10 Batch 4:  Loss: 0.0747365653514862, Accuracy: 71.47998213768005\n",
      "Epoch 62, CIFAR-10 Batch 5:  Loss: 0.08838306367397308, Accuracy: 72.89998531341553\n",
      "Epoch 63, CIFAR-10 Batch 1:  Loss: 0.08110202103853226, Accuracy: 72.11998105049133\n",
      "Epoch 63, CIFAR-10 Batch 2:  Loss: 0.07971367985010147, Accuracy: 71.33998274803162\n",
      "Epoch 63, CIFAR-10 Batch 3:  Loss: 0.0806807428598404, Accuracy: 71.53998613357544\n",
      "Epoch 63, CIFAR-10 Batch 4:  Loss: 0.13517752289772034, Accuracy: 71.95999026298523\n",
      "Epoch 63, CIFAR-10 Batch 5:  Loss: 0.17493604123592377, Accuracy: 70.9199845790863\n",
      "Epoch 64, CIFAR-10 Batch 1:  Loss: 0.13140177726745605, Accuracy: 71.99998497962952\n",
      "Epoch 64, CIFAR-10 Batch 2:  Loss: 0.09019879251718521, Accuracy: 69.99998688697815\n",
      "Epoch 64, CIFAR-10 Batch 3:  Loss: 0.07159380614757538, Accuracy: 71.65998220443726\n",
      "Epoch 64, CIFAR-10 Batch 4:  Loss: 0.10117466747760773, Accuracy: 72.05998301506042\n",
      "Epoch 64, CIFAR-10 Batch 5:  Loss: 0.09560061246156693, Accuracy: 71.35998010635376\n",
      "Epoch 65, CIFAR-10 Batch 1:  Loss: 0.1361958235502243, Accuracy: 71.999990940094\n",
      "Epoch 65, CIFAR-10 Batch 2:  Loss: 0.14673227071762085, Accuracy: 70.33998370170593\n",
      "Epoch 65, CIFAR-10 Batch 3:  Loss: 0.07270535826683044, Accuracy: 71.39998078346252\n",
      "Epoch 65, CIFAR-10 Batch 4:  Loss: 0.0951123908162117, Accuracy: 71.93998098373413\n",
      "Epoch 65, CIFAR-10 Batch 5:  Loss: 0.07203902304172516, Accuracy: 73.61999154090881\n",
      "Epoch 66, CIFAR-10 Batch 1:  Loss: 0.052888303995132446, Accuracy: 71.55998349189758\n",
      "Epoch 66, CIFAR-10 Batch 2:  Loss: 0.09129698574542999, Accuracy: 70.21998763084412\n",
      "Epoch 66, CIFAR-10 Batch 3:  Loss: 0.052893321961164474, Accuracy: 70.13998031616211\n",
      "Epoch 66, CIFAR-10 Batch 4:  Loss: 0.10780675709247589, Accuracy: 70.27998566627502\n",
      "Epoch 66, CIFAR-10 Batch 5:  Loss: 0.11796581745147705, Accuracy: 71.0999846458435\n",
      "Epoch 67, CIFAR-10 Batch 1:  Loss: 0.059497855603694916, Accuracy: 72.27998375892639\n",
      "Epoch 67, CIFAR-10 Batch 2:  Loss: 0.10525639355182648, Accuracy: 69.27999258041382\n",
      "Epoch 67, CIFAR-10 Batch 3:  Loss: 0.07663770765066147, Accuracy: 71.17998600006104\n",
      "Epoch 67, CIFAR-10 Batch 4:  Loss: 0.15146540105342865, Accuracy: 70.69998979568481\n",
      "Epoch 67, CIFAR-10 Batch 5:  Loss: 0.10466773808002472, Accuracy: 72.29999303817749\n",
      "Epoch 68, CIFAR-10 Batch 1:  Loss: 0.07539297640323639, Accuracy: 71.0399866104126\n",
      "Epoch 68, CIFAR-10 Batch 2:  Loss: 0.09690244495868683, Accuracy: 69.87999081611633\n",
      "Epoch 68, CIFAR-10 Batch 3:  Loss: 0.045272745192050934, Accuracy: 71.59998416900635\n",
      "Epoch 68, CIFAR-10 Batch 4:  Loss: 0.1217590942978859, Accuracy: 71.19998931884766\n",
      "Epoch 68, CIFAR-10 Batch 5:  Loss: 0.0899324119091034, Accuracy: 72.3599910736084\n",
      "Epoch 69, CIFAR-10 Batch 1:  Loss: 0.0872388705611229, Accuracy: 71.7999815940857\n",
      "Epoch 69, CIFAR-10 Batch 2:  Loss: 0.07190709561109543, Accuracy: 70.1999843120575\n",
      "Epoch 69, CIFAR-10 Batch 3:  Loss: 0.02684299275279045, Accuracy: 72.3599910736084\n",
      "Epoch 69, CIFAR-10 Batch 4:  Loss: 0.11645841598510742, Accuracy: 71.27997875213623\n",
      "Epoch 69, CIFAR-10 Batch 5:  Loss: 0.1267588585615158, Accuracy: 71.47998213768005\n",
      "Epoch 70, CIFAR-10 Batch 1:  Loss: 0.08915098756551743, Accuracy: 72.09998965263367\n",
      "Epoch 70, CIFAR-10 Batch 2:  Loss: 0.08568252623081207, Accuracy: 69.67999339103699\n",
      "Epoch 70, CIFAR-10 Batch 3:  Loss: 0.07910269498825073, Accuracy: 71.81998491287231\n",
      "Epoch 70, CIFAR-10 Batch 4:  Loss: 0.1409960240125656, Accuracy: 71.43998742103577\n",
      "Epoch 70, CIFAR-10 Batch 5:  Loss: 0.10881107300519943, Accuracy: 72.219979763031\n",
      "Epoch 71, CIFAR-10 Batch 1:  Loss: 0.06275787949562073, Accuracy: 71.17998600006104\n",
      "Epoch 71, CIFAR-10 Batch 2:  Loss: 0.06212884187698364, Accuracy: 71.19998335838318\n",
      "Epoch 71, CIFAR-10 Batch 3:  Loss: 0.05940394848585129, Accuracy: 72.3399817943573\n",
      "Epoch 71, CIFAR-10 Batch 4:  Loss: 0.08221574127674103, Accuracy: 71.99998497962952\n",
      "Epoch 71, CIFAR-10 Batch 5:  Loss: 0.1067114770412445, Accuracy: 71.43998742103577\n",
      "Epoch 72, CIFAR-10 Batch 1:  Loss: 0.061837516725063324, Accuracy: 71.91997766494751\n",
      "Epoch 72, CIFAR-10 Batch 2:  Loss: 0.08543956279754639, Accuracy: 70.3799843788147\n",
      "Epoch 72, CIFAR-10 Batch 3:  Loss: 0.09124477952718735, Accuracy: 71.45998477935791\n",
      "Epoch 72, CIFAR-10 Batch 4:  Loss: 0.1131359413266182, Accuracy: 71.31998538970947\n",
      "Epoch 72, CIFAR-10 Batch 5:  Loss: 0.08284266293048859, Accuracy: 72.07999229431152\n",
      "Epoch 73, CIFAR-10 Batch 1:  Loss: 0.06936068832874298, Accuracy: 71.05998992919922\n",
      "Epoch 73, CIFAR-10 Batch 2:  Loss: 0.07331843674182892, Accuracy: 70.59998512268066\n",
      "Epoch 73, CIFAR-10 Batch 3:  Loss: 0.0579218864440918, Accuracy: 72.01998233795166\n",
      "Epoch 73, CIFAR-10 Batch 4:  Loss: 0.11008082330226898, Accuracy: 71.63999080657959\n",
      "Epoch 73, CIFAR-10 Batch 5:  Loss: 0.11854109168052673, Accuracy: 72.21998572349548\n",
      "Epoch 74, CIFAR-10 Batch 1:  Loss: 0.06246741861104965, Accuracy: 71.01998329162598\n",
      "Epoch 74, CIFAR-10 Batch 2:  Loss: 0.09696286916732788, Accuracy: 70.95998525619507\n",
      "Epoch 74, CIFAR-10 Batch 3:  Loss: 0.10774706304073334, Accuracy: 72.09998369216919\n",
      "Epoch 74, CIFAR-10 Batch 4:  Loss: 0.12226556241512299, Accuracy: 71.87998294830322\n",
      "Epoch 74, CIFAR-10 Batch 5:  Loss: 0.10130738466978073, Accuracy: 72.17998504638672\n",
      "Epoch 75, CIFAR-10 Batch 1:  Loss: 0.06418514996767044, Accuracy: 72.39998579025269\n",
      "Epoch 75, CIFAR-10 Batch 2:  Loss: 0.10349616408348083, Accuracy: 70.2599823474884\n",
      "Epoch 75, CIFAR-10 Batch 3:  Loss: 0.06951510906219482, Accuracy: 71.65998220443726\n",
      "Epoch 75, CIFAR-10 Batch 4:  Loss: 0.046267956495285034, Accuracy: 73.21998476982117\n",
      "Epoch 75, CIFAR-10 Batch 5:  Loss: 0.1291608363389969, Accuracy: 72.95998334884644\n",
      "Epoch 76, CIFAR-10 Batch 1:  Loss: 0.041524097323417664, Accuracy: 72.11998701095581\n",
      "Epoch 76, CIFAR-10 Batch 2:  Loss: 0.10900095105171204, Accuracy: 70.49998641014099\n",
      "Epoch 76, CIFAR-10 Batch 3:  Loss: 0.07216640561819077, Accuracy: 71.97998762130737\n",
      "Epoch 76, CIFAR-10 Batch 4:  Loss: 0.1134142205119133, Accuracy: 71.57998085021973\n",
      "Epoch 76, CIFAR-10 Batch 5:  Loss: 0.11464276909828186, Accuracy: 70.41998505592346\n",
      "Epoch 77, CIFAR-10 Batch 1:  Loss: 0.08191002160310745, Accuracy: 71.45998477935791\n",
      "Epoch 77, CIFAR-10 Batch 2:  Loss: 0.12887251377105713, Accuracy: 71.11998200416565\n",
      "Epoch 77, CIFAR-10 Batch 3:  Loss: 0.0862681120634079, Accuracy: 71.55998349189758\n",
      "Epoch 77, CIFAR-10 Batch 4:  Loss: 0.07524289935827255, Accuracy: 71.41997814178467\n",
      "Epoch 77, CIFAR-10 Batch 5:  Loss: 0.0650930106639862, Accuracy: 72.67998456954956\n",
      "Epoch 78, CIFAR-10 Batch 1:  Loss: 0.058603331446647644, Accuracy: 71.19998335838318\n",
      "Epoch 78, CIFAR-10 Batch 2:  Loss: 0.11696463078260422, Accuracy: 70.77998518943787\n",
      "Epoch 78, CIFAR-10 Batch 3:  Loss: 0.06774634122848511, Accuracy: 71.39998078346252\n",
      "Epoch 78, CIFAR-10 Batch 4:  Loss: 0.08726344257593155, Accuracy: 72.25998640060425\n",
      "Epoch 78, CIFAR-10 Batch 5:  Loss: 0.08565974980592728, Accuracy: 72.25998640060425\n",
      "Epoch 79, CIFAR-10 Batch 1:  Loss: 0.06500154733657837, Accuracy: 71.7599868774414\n",
      "Epoch 79, CIFAR-10 Batch 2:  Loss: 0.0837734267115593, Accuracy: 70.71998715400696\n",
      "Epoch 79, CIFAR-10 Batch 3:  Loss: 0.05357398837804794, Accuracy: 71.93998098373413\n",
      "Epoch 79, CIFAR-10 Batch 4:  Loss: 0.09093710780143738, Accuracy: 69.43998336791992\n",
      "Epoch 79, CIFAR-10 Batch 5:  Loss: 0.07933070510625839, Accuracy: 71.01998329162598\n",
      "Epoch 80, CIFAR-10 Batch 1:  Loss: 0.08647714555263519, Accuracy: 71.0999846458435\n",
      "Epoch 80, CIFAR-10 Batch 2:  Loss: 0.09007694572210312, Accuracy: 71.399986743927\n",
      "Epoch 80, CIFAR-10 Batch 3:  Loss: 0.06091752648353577, Accuracy: 71.33998274803162\n",
      "Epoch 80, CIFAR-10 Batch 4:  Loss: 0.05480259656906128, Accuracy: 72.49998450279236\n",
      "Epoch 80, CIFAR-10 Batch 5:  Loss: 0.10695725679397583, Accuracy: 72.01998829841614\n",
      "Epoch 81, CIFAR-10 Batch 1:  Loss: 0.07597209513187408, Accuracy: 70.93998193740845\n",
      "Epoch 81, CIFAR-10 Batch 2:  Loss: 0.18248337507247925, Accuracy: 68.67998838424683\n",
      "Epoch 81, CIFAR-10 Batch 3:  Loss: 0.031153853982686996, Accuracy: 72.43998050689697\n",
      "Epoch 81, CIFAR-10 Batch 4:  Loss: 0.09921540319919586, Accuracy: 70.45998573303223\n",
      "Epoch 81, CIFAR-10 Batch 5:  Loss: 0.07387064397335052, Accuracy: 72.11998701095581\n",
      "Epoch 82, CIFAR-10 Batch 1:  Loss: 0.073763906955719, Accuracy: 71.4999794960022\n",
      "Epoch 82, CIFAR-10 Batch 2:  Loss: 0.05885342136025429, Accuracy: 70.53998708724976\n",
      "Epoch 82, CIFAR-10 Batch 3:  Loss: 0.052043016999959946, Accuracy: 71.5199887752533\n",
      "Epoch 82, CIFAR-10 Batch 4:  Loss: 0.10700291395187378, Accuracy: 72.43999242782593\n",
      "Epoch 82, CIFAR-10 Batch 5:  Loss: 0.06474874913692474, Accuracy: 71.93998694419861\n",
      "Epoch 83, CIFAR-10 Batch 1:  Loss: 0.10258162021636963, Accuracy: 70.89998722076416\n",
      "Epoch 83, CIFAR-10 Batch 2:  Loss: 0.09172245115041733, Accuracy: 70.11998891830444\n",
      "Epoch 83, CIFAR-10 Batch 3:  Loss: 0.03272130340337753, Accuracy: 71.21998071670532\n",
      "Epoch 83, CIFAR-10 Batch 4:  Loss: 0.07934275269508362, Accuracy: 72.07999229431152\n",
      "Epoch 83, CIFAR-10 Batch 5:  Loss: 0.07271641492843628, Accuracy: 71.7599868774414\n",
      "Epoch 84, CIFAR-10 Batch 1:  Loss: 0.03761178255081177, Accuracy: 71.89998030662537\n",
      "Epoch 84, CIFAR-10 Batch 2:  Loss: 0.08907528966665268, Accuracy: 69.899982213974\n",
      "Epoch 84, CIFAR-10 Batch 3:  Loss: 0.019080646336078644, Accuracy: 71.49998545646667\n",
      "Epoch 84, CIFAR-10 Batch 4:  Loss: 0.07957210391759872, Accuracy: 70.83998322486877\n",
      "Epoch 84, CIFAR-10 Batch 5:  Loss: 0.04007755592465401, Accuracy: 72.53998517990112\n",
      "Epoch 85, CIFAR-10 Batch 1:  Loss: 0.05053615942597389, Accuracy: 71.83998227119446\n",
      "Epoch 85, CIFAR-10 Batch 2:  Loss: 0.08021760731935501, Accuracy: 70.47998309135437\n",
      "Epoch 85, CIFAR-10 Batch 3:  Loss: 0.046690814197063446, Accuracy: 71.91998362541199\n",
      "Epoch 85, CIFAR-10 Batch 4:  Loss: 0.06114573776721954, Accuracy: 71.83998227119446\n",
      "Epoch 85, CIFAR-10 Batch 5:  Loss: 0.033732928335666656, Accuracy: 71.85998558998108\n",
      "Epoch 86, CIFAR-10 Batch 1:  Loss: 0.04273383691906929, Accuracy: 70.89998722076416\n",
      "Epoch 86, CIFAR-10 Batch 2:  Loss: 0.0704483687877655, Accuracy: 70.59998512268066\n",
      "Epoch 86, CIFAR-10 Batch 3:  Loss: 0.05234053358435631, Accuracy: 70.13998031616211\n",
      "Epoch 86, CIFAR-10 Batch 4:  Loss: 0.15511402487754822, Accuracy: 69.73998546600342\n",
      "Epoch 86, CIFAR-10 Batch 5:  Loss: 0.06939969956874847, Accuracy: 72.17998504638672\n",
      "Epoch 87, CIFAR-10 Batch 1:  Loss: 0.062275517731904984, Accuracy: 71.0399866104126\n",
      "Epoch 87, CIFAR-10 Batch 2:  Loss: 0.07321849465370178, Accuracy: 70.03998756408691\n",
      "Epoch 87, CIFAR-10 Batch 3:  Loss: 0.03437492623925209, Accuracy: 71.81998491287231\n",
      "Epoch 87, CIFAR-10 Batch 4:  Loss: 0.08581601828336716, Accuracy: 70.93998193740845\n",
      "Epoch 87, CIFAR-10 Batch 5:  Loss: 0.04488341510295868, Accuracy: 71.91998362541199\n",
      "Epoch 88, CIFAR-10 Batch 1:  Loss: 0.054836880415678024, Accuracy: 71.93998098373413\n",
      "Epoch 88, CIFAR-10 Batch 2:  Loss: 0.13487571477890015, Accuracy: 69.09998655319214\n",
      "Epoch 88, CIFAR-10 Batch 3:  Loss: 0.06008420139551163, Accuracy: 72.11999297142029\n",
      "Epoch 88, CIFAR-10 Batch 4:  Loss: 0.10195925831794739, Accuracy: 71.35998606681824\n",
      "Epoch 88, CIFAR-10 Batch 5:  Loss: 0.10321170091629028, Accuracy: 70.4599916934967\n",
      "Epoch 89, CIFAR-10 Batch 1:  Loss: 0.07659270614385605, Accuracy: 71.99998497962952\n",
      "Epoch 89, CIFAR-10 Batch 2:  Loss: 0.08353014290332794, Accuracy: 69.03998255729675\n",
      "Epoch 89, CIFAR-10 Batch 3:  Loss: 0.061425112187862396, Accuracy: 70.53998708724976\n",
      "Epoch 89, CIFAR-10 Batch 4:  Loss: 0.07630734145641327, Accuracy: 72.07998633384705\n",
      "Epoch 89, CIFAR-10 Batch 5:  Loss: 0.06355839222669601, Accuracy: 72.53998517990112\n",
      "Epoch 90, CIFAR-10 Batch 1:  Loss: 0.04632646217942238, Accuracy: 71.3399887084961\n",
      "Epoch 90, CIFAR-10 Batch 2:  Loss: 0.0732087716460228, Accuracy: 70.4399824142456\n",
      "Epoch 90, CIFAR-10 Batch 3:  Loss: 0.06467019021511078, Accuracy: 72.07998633384705\n",
      "Epoch 90, CIFAR-10 Batch 4:  Loss: 0.09720086306333542, Accuracy: 71.65998220443726\n",
      "Epoch 90, CIFAR-10 Batch 5:  Loss: 0.05728984624147415, Accuracy: 71.89998626708984\n",
      "Epoch 91, CIFAR-10 Batch 1:  Loss: 0.049274563789367676, Accuracy: 71.07999324798584\n",
      "Epoch 91, CIFAR-10 Batch 2:  Loss: 0.07883697748184204, Accuracy: 70.4399824142456\n",
      "Epoch 91, CIFAR-10 Batch 3:  Loss: 0.06677885353565216, Accuracy: 71.53998613357544\n",
      "Epoch 91, CIFAR-10 Batch 4:  Loss: 0.11912913620471954, Accuracy: 72.59998321533203\n",
      "Epoch 91, CIFAR-10 Batch 5:  Loss: 0.06920285522937775, Accuracy: 72.83998727798462\n",
      "Epoch 92, CIFAR-10 Batch 1:  Loss: 0.03886423259973526, Accuracy: 70.61998844146729\n",
      "Epoch 92, CIFAR-10 Batch 2:  Loss: 0.10658847540616989, Accuracy: 69.75998878479004\n",
      "Epoch 92, CIFAR-10 Batch 3:  Loss: 0.03423558920621872, Accuracy: 72.19998836517334\n",
      "Epoch 92, CIFAR-10 Batch 4:  Loss: 0.0966586023569107, Accuracy: 70.7399845123291\n",
      "Epoch 92, CIFAR-10 Batch 5:  Loss: 0.06030682101845741, Accuracy: 72.2399890422821\n",
      "Epoch 93, CIFAR-10 Batch 1:  Loss: 0.055234428495168686, Accuracy: 71.65998816490173\n",
      "Epoch 93, CIFAR-10 Batch 2:  Loss: 0.10501968860626221, Accuracy: 71.15998864173889\n",
      "Epoch 93, CIFAR-10 Batch 3:  Loss: 0.05805675685405731, Accuracy: 70.83998322486877\n",
      "Epoch 93, CIFAR-10 Batch 4:  Loss: 0.044601015746593475, Accuracy: 72.37998247146606\n",
      "Epoch 93, CIFAR-10 Batch 5:  Loss: 0.06542988121509552, Accuracy: 71.45999073982239\n",
      "Epoch 94, CIFAR-10 Batch 1:  Loss: 0.03547494858503342, Accuracy: 71.69998288154602\n",
      "Epoch 94, CIFAR-10 Batch 2:  Loss: 0.06557484716176987, Accuracy: 70.63997983932495\n",
      "Epoch 94, CIFAR-10 Batch 3:  Loss: 0.0604897141456604, Accuracy: 71.25998735427856\n",
      "Epoch 94, CIFAR-10 Batch 4:  Loss: 0.07153677195310593, Accuracy: 71.43998742103577\n",
      "Epoch 94, CIFAR-10 Batch 5:  Loss: 0.06064827740192413, Accuracy: 72.3599910736084\n",
      "Epoch 95, CIFAR-10 Batch 1:  Loss: 0.05767732858657837, Accuracy: 71.63998484611511\n",
      "Epoch 95, CIFAR-10 Batch 2:  Loss: 0.06404148042201996, Accuracy: 69.45998668670654\n",
      "Epoch 95, CIFAR-10 Batch 3:  Loss: 0.03199364244937897, Accuracy: 71.7599868774414\n",
      "Epoch 95, CIFAR-10 Batch 4:  Loss: 0.056063201278448105, Accuracy: 72.29999303817749\n",
      "Epoch 95, CIFAR-10 Batch 5:  Loss: 0.07048147916793823, Accuracy: 72.37998843193054\n",
      "Epoch 96, CIFAR-10 Batch 1:  Loss: 0.04455636441707611, Accuracy: 71.93998098373413\n",
      "Epoch 96, CIFAR-10 Batch 2:  Loss: 0.05894608423113823, Accuracy: 70.49998044967651\n",
      "Epoch 96, CIFAR-10 Batch 3:  Loss: 0.06010652706027031, Accuracy: 71.23998999595642\n",
      "Epoch 96, CIFAR-10 Batch 4:  Loss: 0.08630017191171646, Accuracy: 71.21999263763428\n",
      "Epoch 96, CIFAR-10 Batch 5:  Loss: 0.04062160104513168, Accuracy: 71.19998931884766\n",
      "Epoch 97, CIFAR-10 Batch 1:  Loss: 0.042930666357278824, Accuracy: 71.63999080657959\n",
      "Epoch 97, CIFAR-10 Batch 2:  Loss: 0.11412155628204346, Accuracy: 69.49998736381531\n",
      "Epoch 97, CIFAR-10 Batch 3:  Loss: 0.026330098509788513, Accuracy: 71.17998600006104\n",
      "Epoch 97, CIFAR-10 Batch 4:  Loss: 0.09902641177177429, Accuracy: 71.43998742103577\n",
      "Epoch 97, CIFAR-10 Batch 5:  Loss: 0.04551747813820839, Accuracy: 72.77998328208923\n",
      "Epoch 98, CIFAR-10 Batch 1:  Loss: 0.036556221544742584, Accuracy: 71.41999006271362\n",
      "Epoch 98, CIFAR-10 Batch 2:  Loss: 0.07130065560340881, Accuracy: 70.87998390197754\n",
      "Epoch 98, CIFAR-10 Batch 3:  Loss: 0.03710704669356346, Accuracy: 71.79998755455017\n",
      "Epoch 98, CIFAR-10 Batch 4:  Loss: 0.06124591454863548, Accuracy: 71.33998274803162\n",
      "Epoch 98, CIFAR-10 Batch 5:  Loss: 0.12250209599733353, Accuracy: 71.53998613357544\n",
      "Epoch 99, CIFAR-10 Batch 1:  Loss: 0.025477632880210876, Accuracy: 70.99999189376831\n",
      "Epoch 99, CIFAR-10 Batch 2:  Loss: 0.09069471061229706, Accuracy: 68.71998906135559\n",
      "Epoch 99, CIFAR-10 Batch 3:  Loss: 0.06790229678153992, Accuracy: 71.37998342514038\n",
      "Epoch 99, CIFAR-10 Batch 4:  Loss: 0.08821805566549301, Accuracy: 70.69998979568481\n",
      "Epoch 99, CIFAR-10 Batch 5:  Loss: 0.054248176515102386, Accuracy: 70.81999182701111\n",
      "Epoch 100, CIFAR-10 Batch 1:  Loss: 0.03336649760603905, Accuracy: 71.05998396873474\n",
      "Epoch 100, CIFAR-10 Batch 2:  Loss: 0.06429016590118408, Accuracy: 69.13998126983643\n",
      "Epoch 100, CIFAR-10 Batch 3:  Loss: 0.06155461072921753, Accuracy: 70.8599865436554\n",
      "Epoch 100, CIFAR-10 Batch 4:  Loss: 0.08710619807243347, Accuracy: 70.55999040603638\n",
      "Epoch 100, CIFAR-10 Batch 5:  Loss: 0.03796209394931793, Accuracy: 71.83998227119446\n"
     ]
    }
   ],
   "source": [
    "\"\"\"\n",
    "DON'T MODIFY ANYTHING IN THIS CELL\n",
    "\"\"\"\n",
    "save_model_path = './image_classification'\n",
    "\n",
    "print('Training...')\n",
    "with tf.Session() as sess:\n",
    "    # Initializing the variables\n",
    "    sess.run(tf.global_variables_initializer())\n",
    "    \n",
    "    # Training cycle\n",
    "    for epoch in range(epochs):\n",
    "        # Loop over all batches\n",
    "        n_batches = 5\n",
    "        for batch_i in range(1, n_batches + 1):\n",
    "            for batch_features, batch_labels in helper.load_preprocess_training_batch(batch_i, batch_size):\n",
    "                train_neural_network(sess, optimizer, keep_probability, batch_features, batch_labels)\n",
    "            print('Epoch {:>2}, CIFAR-10 Batch {}:  '.format(epoch + 1, batch_i), end='')\n",
    "            print_stats(sess, batch_features, batch_labels, cost, accuracy)\n",
    "            \n",
    "    # Save Model\n",
    "    saver = tf.train.Saver()\n",
    "    save_path = saver.save(sess, save_model_path)"
   ]
  },
  {
   "cell_type": "markdown",
   "metadata": {
    "deletable": true,
    "editable": true
   },
   "source": [
    "# Checkpoint\n",
    "The model has been saved to disk.\n",
    "## Test Model\n",
    "Test your model against the test dataset.  This will be your final accuracy. You should have an accuracy greater than 50%. If you don't, keep tweaking the model architecture and parameters."
   ]
  },
  {
   "cell_type": "code",
   "execution_count": 18,
   "metadata": {
    "collapsed": false,
    "deletable": true,
    "editable": true
   },
   "outputs": [
    {
     "name": "stdout",
     "output_type": "stream",
     "text": [
      "Testing Accuracy: 0.7130142405063291\n",
      "\n"
     ]
    },
    {
     "data": {
      "image/png": "[encoded data removed]",
      "text/plain": [
       "<matplotlib.figure.Figure at 0x7f83ceda03c8>"
      ]
     },
     "metadata": {
      "image/png": {
       "height": 319,
       "width": 355
      }
     },
     "output_type": "display_data"
    }
   ],
   "source": [
    "\"\"\"\n",
    "DON'T MODIFY ANYTHING IN THIS CELL\n",
    "\"\"\"\n",
    "%matplotlib inline\n",
    "%config InlineBackend.figure_format = 'retina'\n",
    "\n",
    "import tensorflow as tf\n",
    "import pickle\n",
    "import helper\n",
    "import random\n",
    "\n",
    "# Set batch size if not already set\n",
    "try:\n",
    "    if batch_size:\n",
    "        pass\n",
    "except NameError:\n",
    "    batch_size = 64\n",
    "\n",
    "save_model_path = './image_classification'\n",
    "n_samples = 4\n",
    "top_n_predictions = 3\n",
    "\n",
    "def test_model():\n",
    "    \"\"\"\n",
    "    Test the saved model against the test dataset\n",
    "    \"\"\"\n",
    "\n",
    "    test_features, test_labels = pickle.load(open('preprocess_test.p', mode='rb'))\n",
    "    loaded_graph = tf.Graph()\n",
    "\n",
    "    with tf.Session(graph=loaded_graph) as sess:\n",
    "        # Load model\n",
    "        loader = tf.train.import_meta_graph(save_model_path + '.meta')\n",
    "        loader.restore(sess, save_model_path)\n",
    "\n",
    "        # Get Tensors from loaded model\n",
    "        loaded_x = loaded_graph.get_tensor_by_name('x:0')\n",
    "        loaded_y = loaded_graph.get_tensor_by_name('y:0')\n",
    "        loaded_keep_prob = loaded_graph.get_tensor_by_name('keep_prob:0')\n",
    "        loaded_logits = loaded_graph.get_tensor_by_name('logits:0')\n",
    "        loaded_acc = loaded_graph.get_tensor_by_name('accuracy:0')\n",
    "        \n",
    "        # Get accuracy in batches for memory limitations\n",
    "        test_batch_acc_total = 0\n",
    "        test_batch_count = 0\n",
    "        \n",
    "        for test_feature_batch, test_label_batch in helper.batch_features_labels(test_features, test_labels, batch_size):\n",
    "            test_batch_acc_total += sess.run(\n",
    "                loaded_acc,\n",
    "                feed_dict={loaded_x: test_feature_batch, loaded_y: test_label_batch, loaded_keep_prob: 1.0})\n",
    "            test_batch_count += 1\n",
    "\n",
    "        print('Testing Accuracy: {}\\n'.format(test_batch_acc_total/test_batch_count))\n",
    "\n",
    "        # Print Random Samples\n",
    "        random_test_features, random_test_labels = tuple(zip(*random.sample(list(zip(test_features, test_labels)), n_samples)))\n",
    "        random_test_predictions = sess.run(\n",
    "            tf.nn.top_k(tf.nn.softmax(loaded_logits), top_n_predictions),\n",
    "            feed_dict={loaded_x: random_test_features, loaded_y: random_test_labels, loaded_keep_prob: 1.0})\n",
    "        helper.display_image_predictions(random_test_features, random_test_labels, random_test_predictions)\n",
    "\n",
    "\n",
    "test_model()"
   ]
  },
  {
   "cell_type": "markdown",
   "metadata": {
    "deletable": true,
    "editable": true
   },
   "source": [
    "## Why 50-80% Accuracy?\n",
    "You might be wondering why you can't get an accuracy any higher. First things first, 50% isn't bad for a simple CNN.  Pure guessing would get you 10% accuracy. However, you might notice people are getting scores [well above 80%](http://rodrigob.github.io/are_we_there_yet/build/classification_datasets_results.html#43494641522d3130).  That's because we haven't taught you all there is to know about neural networks. We still need to cover a few more techniques.\n",
    "## Submitting This Project\n",
    "When submitting this project, make sure to run all the cells before saving the notebook.  Save the notebook file as \"dlnd_image_classification.ipynb\" and save it as a HTML file under \"File\" -> \"Download as\".  Include the \"helper.py\" and \"problem_unittests.py\" files in your submission."
   ]
  }
 ],
 "metadata": {
  "kernelspec": {
   "display_name": "Python 3",
   "language": "python",
   "name": "python3"
  },
  "language_info": {
   "codemirror_mode": {
    "name": "ipython",
    "version": 3
   },
   "file_extension": ".py",
   "mimetype": "text/x-python",
   "name": "python",
   "nbconvert_exporter": "python",
   "pygments_lexer": "ipython3",
   "version": "3.5.3"
  }
 },
 "nbformat": 4,
 "nbformat_minor": 0
}
